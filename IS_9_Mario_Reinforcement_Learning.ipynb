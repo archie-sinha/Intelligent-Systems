{
  "nbformat": 4,
  "nbformat_minor": 0,
  "metadata": {
    "colab": {
      "provenance": []
    },
    "kernelspec": {
      "name": "python3",
      "display_name": "Python 3"
    },
    "language_info": {
      "name": "python"
    }
  },
  "cells": [
    {
      "cell_type": "markdown",
      "source": [
        "#**Archisha Sinha**\n",
        "##Topic: Mario AI Model - Reinforcement Learning\n",
        "##Domain: Intelligent Systems"
      ],
      "metadata": {
        "id": "8-KJbrsZiSP7"
      }
    },
    {
      "cell_type": "markdown",
      "source": [
        "##Aim:  To explore and build an Intelligent Mario Bot using Reinforcement Learning\n"
      ],
      "metadata": {
        "id": "m5WIt-avikXC"
      }
    },
    {
      "cell_type": "markdown",
      "source": [
        "##SUPER MARIO EXPERIMENT"
      ],
      "metadata": {
        "id": "US1eEem6jpSr"
      }
    },
    {
      "cell_type": "markdown",
      "source": [
        "###In the context of training an agent to play Mario:\n",
        "\n",
        "- The agent is Mario.\n",
        "- The environment is Mario's world — it contains enemies, obstacles, and powerups, such as tubes, mushrooms, etc.\n",
        "- The action is what Mario (the agent) decides to do.\n",
        "- The action space is all of the possible actions that Mario can carry out: running right, jumping right, running left, and jumping left.\n",
        "- In this case, I have restricted Mario to right movement only, for faster training.\n",
        "- The state includes several things: Mario’s position, where the obstacles, powerups, and enemies are, Mario’s current score, and the direction in which everything is moving in.\n",
        "- The state space is a set of all of the possible states in the environment.\n",
        "- The reward is the feedback from the environment to the agent, which drives Mario to learn and change his future action.\n",
        "- The return is a cumulative reward over the course of several play-throughs or episodes.\n",
        "- The quality of action in a state is the expected return for the given state and action.\n"
      ],
      "metadata": {
        "id": "w6G0BOQ9jnzn"
      }
    },
    {
      "cell_type": "markdown",
      "source": [
        "###The steps to create the environment and train the model are as follows:\n",
        "Step 1: Set up the Environment\n",
        "\n",
        "Step 2: Preprocess Environment\n",
        "\n",
        "Step 3: Train the Model\n"
      ],
      "metadata": {
        "id": "neCkXCifj7nA"
      }
    },
    {
      "cell_type": "markdown",
      "source": [
        "##REINFORCEMENT LEARNING"
      ],
      "metadata": {
        "id": "brRCHEuBkFVP"
      }
    },
    {
      "cell_type": "markdown",
      "source": [
        "- In reinforcement learning, a policy is a function that takes in an observation of the environment and returns an action to take.\n",
        "- The Proximal Policy Optimization (PPO) algorithm is a popular method for training policies in RL.\n",
        "- PPO can be used to learn both continuous and discrete policies.\n",
        "- In PPO, there are two main types of policies: the actor and the critic.\n",
        "- The actor is responsible for selecting actions based on the current state of the environment, while the critic estimates the value of being in a certain state.\n",
        "- The PPO algorithm trains the actor and critic policies by iteratively collecting experiences from the environment and updating the policies based on those experiences.\n",
        "- During each iteration, the actor policy is trained to maximize the expected reward, while the critic policy is trained to accurately estimate the value of states.\n"
      ],
      "metadata": {
        "id": "i6Fr0kLRkJMY"
      }
    },
    {
      "cell_type": "markdown",
      "source": [
        "Task 1:\n",
        "\n",
        "1.  Explore the link on how to build an AI model for playing Super Mario:\n",
        "\n",
        "https://python.plainenglish.io/build-an-ai-model-to-play-super-mario-7607b1ec1e17\n",
        "\n",
        "2. Explore the PPO reinforcement learning algorithm explained in the link below:\n",
        "\n",
        "https://openai.com/research/openai-baselines-ppo\n"
      ],
      "metadata": {
        "id": "QXaZnzPykYb4"
      }
    },
    {
      "cell_type": "markdown",
      "source": [
        "\n",
        "\n",
        "---\n",
        "\n"
      ],
      "metadata": {
        "id": "NYXWqhIJmmtE"
      }
    },
    {
      "cell_type": "markdown",
      "source": [
        "#1."
      ],
      "metadata": {
        "id": "bWr9Wr5jmjqz"
      }
    },
    {
      "cell_type": "markdown",
      "source": [
        "install our dependencies using a simple pip install"
      ],
      "metadata": {
        "id": "dhrm5fM1lUTw"
      }
    },
    {
      "cell_type": "code",
      "source": [
        "!pip install gym_super_mario_bros nes_py"
      ],
      "metadata": {
        "colab": {
          "base_uri": "https://localhost:8080/"
        },
        "id": "4aIblk_Nj48g",
        "outputId": "9d103f63-1486-4e3b-a214-d3faf7f5ab3a"
      },
      "execution_count": null,
      "outputs": [
        {
          "output_type": "stream",
          "name": "stdout",
          "text": [
            "Collecting gym_super_mario_bros\n",
            "  Downloading gym_super_mario_bros-7.4.0-py3-none-any.whl (199 kB)\n",
            "\u001b[2K     \u001b[90m━━━━━━━━━━━━━━━━━━━━━━━━━━━━━━━━━━━━━━━━\u001b[0m \u001b[32m199.1/199.1 kB\u001b[0m \u001b[31m2.2 MB/s\u001b[0m eta \u001b[36m0:00:00\u001b[0m\n",
            "\u001b[?25hCollecting nes_py\n",
            "  Downloading nes_py-8.2.1.tar.gz (77 kB)\n",
            "\u001b[2K     \u001b[90m━━━━━━━━━━━━━━━━━━━━━━━━━━━━━━━━━━━━━━━━\u001b[0m \u001b[32m77.7/77.7 kB\u001b[0m \u001b[31m5.3 MB/s\u001b[0m eta \u001b[36m0:00:00\u001b[0m\n",
            "\u001b[?25h  Preparing metadata (setup.py) ... \u001b[?25l\u001b[?25hdone\n",
            "Requirement already satisfied: gym>=0.17.2 in /usr/local/lib/python3.10/dist-packages (from nes_py) (0.25.2)\n",
            "Requirement already satisfied: numpy>=1.18.5 in /usr/local/lib/python3.10/dist-packages (from nes_py) (1.25.2)\n",
            "Collecting pyglet<=1.5.21,>=1.4.0 (from nes_py)\n",
            "  Downloading pyglet-1.5.21-py3-none-any.whl (1.1 MB)\n",
            "\u001b[2K     \u001b[90m━━━━━━━━━━━━━━━━━━━━━━━━━━━━━━━━━━━━━━━━\u001b[0m \u001b[32m1.1/1.1 MB\u001b[0m \u001b[31m10.7 MB/s\u001b[0m eta \u001b[36m0:00:00\u001b[0m\n",
            "\u001b[?25hRequirement already satisfied: tqdm>=4.48.2 in /usr/local/lib/python3.10/dist-packages (from nes_py) (4.66.2)\n",
            "Requirement already satisfied: cloudpickle>=1.2.0 in /usr/local/lib/python3.10/dist-packages (from gym>=0.17.2->nes_py) (2.2.1)\n",
            "Requirement already satisfied: gym-notices>=0.0.4 in /usr/local/lib/python3.10/dist-packages (from gym>=0.17.2->nes_py) (0.0.8)\n",
            "Building wheels for collected packages: nes_py\n",
            "  Building wheel for nes_py (setup.py) ... \u001b[?25l\u001b[?25hdone\n",
            "  Created wheel for nes_py: filename=nes_py-8.2.1-cp310-cp310-linux_x86_64.whl size=535719 sha256=25ba28abf913aea22540dff3e4b1959a33bdac59726bbd0f8964de5fa9453e6d\n",
            "  Stored in directory: /root/.cache/pip/wheels/34/a7/d5/9aa14b15df740a53d41f702e4c795731b6c4da7925deb8476c\n",
            "Successfully built nes_py\n",
            "Installing collected packages: pyglet, nes_py, gym_super_mario_bros\n",
            "Successfully installed gym_super_mario_bros-7.4.0 nes_py-8.2.1 pyglet-1.5.21\n"
          ]
        }
      ]
    },
    {
      "cell_type": "markdown",
      "source": [
        "import the dependencies we just exported"
      ],
      "metadata": {
        "id": "nljbchiPlXNE"
      }
    },
    {
      "cell_type": "code",
      "source": [
        "import gym_super_mario_bros\n",
        "from nes_py.wrappers import JoypadSpace\n",
        "from gym_super_mario_bros.actions import SIMPLE_MOVEMENT"
      ],
      "metadata": {
        "id": "F1uc0o2Jk-QF"
      },
      "execution_count": null,
      "outputs": []
    },
    {
      "cell_type": "markdown",
      "source": [
        "simplify the environment for our AI, as we want it to learn to play the game with very little hassle. We are going to do this by simplifying the number of actions that Mario can do."
      ],
      "metadata": {
        "id": "JXgLfYgrlgQ_"
      }
    },
    {
      "cell_type": "code",
      "source": [
        "SIMPLE_MOVEMENT"
      ],
      "metadata": {
        "colab": {
          "base_uri": "https://localhost:8080/"
        },
        "id": "9qYSyY73lKsz",
        "outputId": "104eb75e-5e2f-4829-d764-24aea18d86fd"
      },
      "execution_count": null,
      "outputs": [
        {
          "output_type": "execute_result",
          "data": {
            "text/plain": [
              "[['NOOP'],\n",
              " ['right'],\n",
              " ['right', 'A'],\n",
              " ['right', 'B'],\n",
              " ['right', 'A', 'B'],\n",
              " ['A'],\n",
              " ['left']]"
            ]
          },
          "metadata": {},
          "execution_count": 3
        }
      ]
    },
    {
      "cell_type": "markdown",
      "source": [
        "Now we want to set up our game, turning our game on"
      ],
      "metadata": {
        "id": "oQlTKQIFlk4u"
      }
    },
    {
      "cell_type": "code",
      "source": [
        "env = gym_super_mario_bros.make('SuperMarioBros2-v0')\n",
        "env = JoypadSpace(env, SIMPLE_MOVEMENT)"
      ],
      "metadata": {
        "colab": {
          "base_uri": "https://localhost:8080/"
        },
        "id": "z3Nw8StrlNy_",
        "outputId": "62ecd708-b882-4068-cd82-e5b9f8dfe53a"
      },
      "execution_count": null,
      "outputs": [
        {
          "output_type": "stream",
          "name": "stderr",
          "text": [
            "/usr/local/lib/python3.10/dist-packages/gym/envs/registration.py:593: UserWarning: \u001b[33mWARN: The environment SuperMarioBros2-v0 is out of date. You should consider upgrading to version `v1`.\u001b[0m\n",
            "  logger.warn(\n",
            "/usr/local/lib/python3.10/dist-packages/gym/core.py:317: DeprecationWarning: \u001b[33mWARN: Initializing wrapper in old step API which returns one bool instead of two. It is recommended to set `new_step_api=True` to use new step API. This will be the default behaviour in future.\u001b[0m\n",
            "  deprecation(\n",
            "/usr/local/lib/python3.10/dist-packages/gym/wrappers/step_api_compatibility.py:39: DeprecationWarning: \u001b[33mWARN: Initializing environment in old step API which returns one bool instead of two. It is recommended to set `new_step_api=True` to use new step API. This will be the default behaviour in future.\u001b[0m\n",
            "  deprecation(\n"
          ]
        }
      ]
    },
    {
      "cell_type": "markdown",
      "source": [
        "We have different versions of Super Mario, we have picked the ‘SuperMarioBros2-v0’."
      ],
      "metadata": {
        "id": "poN_q7lIlpmO"
      }
    },
    {
      "cell_type": "markdown",
      "source": [
        "So now we want to go ahead and play the game:"
      ],
      "metadata": {
        "id": "gjWs4UK8lsYf"
      }
    },
    {
      "cell_type": "code",
      "source": [
        "done = True\n",
        "for frame in range(100000):\n",
        "    if done:\n",
        "        env.reset()\n",
        "    state, reward, done, info = env.step(env.action_space.sample())\n",
        "    env.render()\n",
        "env.close()"
      ],
      "metadata": {
        "colab": {
          "base_uri": "https://localhost:8080/",
          "height": 446
        },
        "id": "1VdFFpDGlmjM",
        "outputId": "53de8dbe-5e1d-4a49-9f88-7b260aa26ba4"
      },
      "execution_count": null,
      "outputs": [
        {
          "output_type": "stream",
          "name": "stderr",
          "text": [
            "/usr/local/lib/python3.10/dist-packages/gym/core.py:49: DeprecationWarning: \u001b[33mWARN: You are calling render method, but you didn't specified the argument render_mode at environment initialization. To maintain backward compatibility, the environment will render in human mode.\n",
            "If you want to render in human mode, initialize the environment in this way: gym.make('EnvName', render_mode='human') and don't call the render method.\n",
            "See here for more information: https://www.gymlibrary.ml/content/api/\u001b[0m\n",
            "  deprecation(\n"
          ]
        },
        {
          "output_type": "error",
          "ename": "NoSuchDisplayException",
          "evalue": "Cannot connect to \"None\"",
          "traceback": [
            "\u001b[0;31m---------------------------------------------------------------------------\u001b[0m",
            "\u001b[0;31mNoSuchDisplayException\u001b[0m                    Traceback (most recent call last)",
            "\u001b[0;32m<ipython-input-10-751504432c52>\u001b[0m in \u001b[0;36m<cell line: 2>\u001b[0;34m()\u001b[0m\n\u001b[1;32m      4\u001b[0m         \u001b[0menv\u001b[0m\u001b[0;34m.\u001b[0m\u001b[0mreset\u001b[0m\u001b[0;34m(\u001b[0m\u001b[0;34m)\u001b[0m\u001b[0;34m\u001b[0m\u001b[0;34m\u001b[0m\u001b[0m\n\u001b[1;32m      5\u001b[0m     \u001b[0mstate\u001b[0m\u001b[0;34m,\u001b[0m \u001b[0mreward\u001b[0m\u001b[0;34m,\u001b[0m \u001b[0mdone\u001b[0m\u001b[0;34m,\u001b[0m \u001b[0minfo\u001b[0m \u001b[0;34m=\u001b[0m \u001b[0menv\u001b[0m\u001b[0;34m.\u001b[0m\u001b[0mstep\u001b[0m\u001b[0;34m(\u001b[0m\u001b[0menv\u001b[0m\u001b[0;34m.\u001b[0m\u001b[0maction_space\u001b[0m\u001b[0;34m.\u001b[0m\u001b[0msample\u001b[0m\u001b[0;34m(\u001b[0m\u001b[0;34m)\u001b[0m\u001b[0;34m)\u001b[0m\u001b[0;34m\u001b[0m\u001b[0;34m\u001b[0m\u001b[0m\n\u001b[0;32m----> 6\u001b[0;31m     \u001b[0menv\u001b[0m\u001b[0;34m.\u001b[0m\u001b[0mrender\u001b[0m\u001b[0;34m(\u001b[0m\u001b[0;34m)\u001b[0m\u001b[0;34m\u001b[0m\u001b[0;34m\u001b[0m\u001b[0m\n\u001b[0m\u001b[1;32m      7\u001b[0m \u001b[0menv\u001b[0m\u001b[0;34m.\u001b[0m\u001b[0mclose\u001b[0m\u001b[0;34m(\u001b[0m\u001b[0;34m)\u001b[0m\u001b[0;34m\u001b[0m\u001b[0;34m\u001b[0m\u001b[0m\n",
            "\u001b[0;32m/usr/local/lib/python3.10/dist-packages/gym/core.py\u001b[0m in \u001b[0;36mrender\u001b[0;34m(self, *args, **kwargs)\u001b[0m\n\u001b[1;32m     56\u001b[0m             )\n\u001b[1;32m     57\u001b[0m \u001b[0;34m\u001b[0m\u001b[0m\n\u001b[0;32m---> 58\u001b[0;31m         \u001b[0;32mreturn\u001b[0m \u001b[0mrender_func\u001b[0m\u001b[0;34m(\u001b[0m\u001b[0mself\u001b[0m\u001b[0;34m,\u001b[0m \u001b[0;34m*\u001b[0m\u001b[0margs\u001b[0m\u001b[0;34m,\u001b[0m \u001b[0;34m**\u001b[0m\u001b[0mkwargs\u001b[0m\u001b[0;34m)\u001b[0m\u001b[0;34m\u001b[0m\u001b[0;34m\u001b[0m\u001b[0m\n\u001b[0m\u001b[1;32m     59\u001b[0m \u001b[0;34m\u001b[0m\u001b[0m\n\u001b[1;32m     60\u001b[0m     \u001b[0;32mreturn\u001b[0m \u001b[0mrender\u001b[0m\u001b[0;34m\u001b[0m\u001b[0;34m\u001b[0m\u001b[0m\n",
            "\u001b[0;32m/usr/local/lib/python3.10/dist-packages/gym/core.py\u001b[0m in \u001b[0;36mrender\u001b[0;34m(self, *args, **kwargs)\u001b[0m\n\u001b[1;32m    419\u001b[0m     ) -> Optional[Union[RenderFrame, List[RenderFrame]]]:\n\u001b[1;32m    420\u001b[0m         \u001b[0;34m\"\"\"Renders the environment.\"\"\"\u001b[0m\u001b[0;34m\u001b[0m\u001b[0;34m\u001b[0m\u001b[0m\n\u001b[0;32m--> 421\u001b[0;31m         \u001b[0;32mreturn\u001b[0m \u001b[0mself\u001b[0m\u001b[0;34m.\u001b[0m\u001b[0menv\u001b[0m\u001b[0;34m.\u001b[0m\u001b[0mrender\u001b[0m\u001b[0;34m(\u001b[0m\u001b[0;34m*\u001b[0m\u001b[0margs\u001b[0m\u001b[0;34m,\u001b[0m \u001b[0;34m**\u001b[0m\u001b[0mkwargs\u001b[0m\u001b[0;34m)\u001b[0m\u001b[0;34m\u001b[0m\u001b[0;34m\u001b[0m\u001b[0m\n\u001b[0m\u001b[1;32m    422\u001b[0m \u001b[0;34m\u001b[0m\u001b[0m\n\u001b[1;32m    423\u001b[0m     \u001b[0;32mdef\u001b[0m \u001b[0mclose\u001b[0m\u001b[0;34m(\u001b[0m\u001b[0mself\u001b[0m\u001b[0;34m)\u001b[0m\u001b[0;34m:\u001b[0m\u001b[0;34m\u001b[0m\u001b[0;34m\u001b[0m\u001b[0m\n",
            "\u001b[0;32m/usr/local/lib/python3.10/dist-packages/gym/core.py\u001b[0m in \u001b[0;36mrender\u001b[0;34m(self, *args, **kwargs)\u001b[0m\n\u001b[1;32m     56\u001b[0m             )\n\u001b[1;32m     57\u001b[0m \u001b[0;34m\u001b[0m\u001b[0m\n\u001b[0;32m---> 58\u001b[0;31m         \u001b[0;32mreturn\u001b[0m \u001b[0mrender_func\u001b[0m\u001b[0;34m(\u001b[0m\u001b[0mself\u001b[0m\u001b[0;34m,\u001b[0m \u001b[0;34m*\u001b[0m\u001b[0margs\u001b[0m\u001b[0;34m,\u001b[0m \u001b[0;34m**\u001b[0m\u001b[0mkwargs\u001b[0m\u001b[0;34m)\u001b[0m\u001b[0;34m\u001b[0m\u001b[0;34m\u001b[0m\u001b[0m\n\u001b[0m\u001b[1;32m     59\u001b[0m \u001b[0;34m\u001b[0m\u001b[0m\n\u001b[1;32m     60\u001b[0m     \u001b[0;32mreturn\u001b[0m \u001b[0mrender\u001b[0m\u001b[0;34m\u001b[0m\u001b[0;34m\u001b[0m\u001b[0m\n",
            "\u001b[0;32m/usr/local/lib/python3.10/dist-packages/gym/core.py\u001b[0m in \u001b[0;36mrender\u001b[0;34m(self, *args, **kwargs)\u001b[0m\n\u001b[1;32m    419\u001b[0m     ) -> Optional[Union[RenderFrame, List[RenderFrame]]]:\n\u001b[1;32m    420\u001b[0m         \u001b[0;34m\"\"\"Renders the environment.\"\"\"\u001b[0m\u001b[0;34m\u001b[0m\u001b[0;34m\u001b[0m\u001b[0m\n\u001b[0;32m--> 421\u001b[0;31m         \u001b[0;32mreturn\u001b[0m \u001b[0mself\u001b[0m\u001b[0;34m.\u001b[0m\u001b[0menv\u001b[0m\u001b[0;34m.\u001b[0m\u001b[0mrender\u001b[0m\u001b[0;34m(\u001b[0m\u001b[0;34m*\u001b[0m\u001b[0margs\u001b[0m\u001b[0;34m,\u001b[0m \u001b[0;34m**\u001b[0m\u001b[0mkwargs\u001b[0m\u001b[0;34m)\u001b[0m\u001b[0;34m\u001b[0m\u001b[0;34m\u001b[0m\u001b[0m\n\u001b[0m\u001b[1;32m    422\u001b[0m \u001b[0;34m\u001b[0m\u001b[0m\n\u001b[1;32m    423\u001b[0m     \u001b[0;32mdef\u001b[0m \u001b[0mclose\u001b[0m\u001b[0;34m(\u001b[0m\u001b[0mself\u001b[0m\u001b[0;34m)\u001b[0m\u001b[0;34m:\u001b[0m\u001b[0;34m\u001b[0m\u001b[0;34m\u001b[0m\u001b[0m\n",
            "\u001b[0;32m/usr/local/lib/python3.10/dist-packages/gym/core.py\u001b[0m in \u001b[0;36mrender\u001b[0;34m(self, *args, **kwargs)\u001b[0m\n\u001b[1;32m     56\u001b[0m             )\n\u001b[1;32m     57\u001b[0m \u001b[0;34m\u001b[0m\u001b[0m\n\u001b[0;32m---> 58\u001b[0;31m         \u001b[0;32mreturn\u001b[0m \u001b[0mrender_func\u001b[0m\u001b[0;34m(\u001b[0m\u001b[0mself\u001b[0m\u001b[0;34m,\u001b[0m \u001b[0;34m*\u001b[0m\u001b[0margs\u001b[0m\u001b[0;34m,\u001b[0m \u001b[0;34m**\u001b[0m\u001b[0mkwargs\u001b[0m\u001b[0;34m)\u001b[0m\u001b[0;34m\u001b[0m\u001b[0;34m\u001b[0m\u001b[0m\n\u001b[0m\u001b[1;32m     59\u001b[0m \u001b[0;34m\u001b[0m\u001b[0m\n\u001b[1;32m     60\u001b[0m     \u001b[0;32mreturn\u001b[0m \u001b[0mrender\u001b[0m\u001b[0;34m\u001b[0m\u001b[0;34m\u001b[0m\u001b[0m\n",
            "\u001b[0;32m/usr/local/lib/python3.10/dist-packages/gym/wrappers/order_enforcing.py\u001b[0m in \u001b[0;36mrender\u001b[0;34m(self, *args, **kwargs)\u001b[0m\n\u001b[1;32m     49\u001b[0m                 \u001b[0;34m\"set `disable_render_order_enforcing=True` on the OrderEnforcer wrapper.\"\u001b[0m\u001b[0;34m\u001b[0m\u001b[0;34m\u001b[0m\u001b[0m\n\u001b[1;32m     50\u001b[0m             )\n\u001b[0;32m---> 51\u001b[0;31m         \u001b[0;32mreturn\u001b[0m \u001b[0mself\u001b[0m\u001b[0;34m.\u001b[0m\u001b[0menv\u001b[0m\u001b[0;34m.\u001b[0m\u001b[0mrender\u001b[0m\u001b[0;34m(\u001b[0m\u001b[0;34m*\u001b[0m\u001b[0margs\u001b[0m\u001b[0;34m,\u001b[0m \u001b[0;34m**\u001b[0m\u001b[0mkwargs\u001b[0m\u001b[0;34m)\u001b[0m\u001b[0;34m\u001b[0m\u001b[0;34m\u001b[0m\u001b[0m\n\u001b[0m\u001b[1;32m     52\u001b[0m \u001b[0;34m\u001b[0m\u001b[0m\n\u001b[1;32m     53\u001b[0m     \u001b[0;34m@\u001b[0m\u001b[0mproperty\u001b[0m\u001b[0;34m\u001b[0m\u001b[0;34m\u001b[0m\u001b[0m\n",
            "\u001b[0;32m/usr/local/lib/python3.10/dist-packages/gym/core.py\u001b[0m in \u001b[0;36mrender\u001b[0;34m(self, *args, **kwargs)\u001b[0m\n\u001b[1;32m     56\u001b[0m             )\n\u001b[1;32m     57\u001b[0m \u001b[0;34m\u001b[0m\u001b[0m\n\u001b[0;32m---> 58\u001b[0;31m         \u001b[0;32mreturn\u001b[0m \u001b[0mrender_func\u001b[0m\u001b[0;34m(\u001b[0m\u001b[0mself\u001b[0m\u001b[0;34m,\u001b[0m \u001b[0;34m*\u001b[0m\u001b[0margs\u001b[0m\u001b[0;34m,\u001b[0m \u001b[0;34m**\u001b[0m\u001b[0mkwargs\u001b[0m\u001b[0;34m)\u001b[0m\u001b[0;34m\u001b[0m\u001b[0;34m\u001b[0m\u001b[0m\n\u001b[0m\u001b[1;32m     59\u001b[0m \u001b[0;34m\u001b[0m\u001b[0m\n\u001b[1;32m     60\u001b[0m     \u001b[0;32mreturn\u001b[0m \u001b[0mrender\u001b[0m\u001b[0;34m\u001b[0m\u001b[0;34m\u001b[0m\u001b[0m\n",
            "\u001b[0;32m/usr/local/lib/python3.10/dist-packages/gym/core.py\u001b[0m in \u001b[0;36mrender\u001b[0;34m(self, *args, **kwargs)\u001b[0m\n\u001b[1;32m    419\u001b[0m     ) -> Optional[Union[RenderFrame, List[RenderFrame]]]:\n\u001b[1;32m    420\u001b[0m         \u001b[0;34m\"\"\"Renders the environment.\"\"\"\u001b[0m\u001b[0;34m\u001b[0m\u001b[0;34m\u001b[0m\u001b[0m\n\u001b[0;32m--> 421\u001b[0;31m         \u001b[0;32mreturn\u001b[0m \u001b[0mself\u001b[0m\u001b[0;34m.\u001b[0m\u001b[0menv\u001b[0m\u001b[0;34m.\u001b[0m\u001b[0mrender\u001b[0m\u001b[0;34m(\u001b[0m\u001b[0;34m*\u001b[0m\u001b[0margs\u001b[0m\u001b[0;34m,\u001b[0m \u001b[0;34m**\u001b[0m\u001b[0mkwargs\u001b[0m\u001b[0;34m)\u001b[0m\u001b[0;34m\u001b[0m\u001b[0;34m\u001b[0m\u001b[0m\n\u001b[0m\u001b[1;32m    422\u001b[0m \u001b[0;34m\u001b[0m\u001b[0m\n\u001b[1;32m    423\u001b[0m     \u001b[0;32mdef\u001b[0m \u001b[0mclose\u001b[0m\u001b[0;34m(\u001b[0m\u001b[0mself\u001b[0m\u001b[0;34m)\u001b[0m\u001b[0;34m:\u001b[0m\u001b[0;34m\u001b[0m\u001b[0;34m\u001b[0m\u001b[0m\n",
            "\u001b[0;32m/usr/local/lib/python3.10/dist-packages/gym/core.py\u001b[0m in \u001b[0;36mrender\u001b[0;34m(self, *args, **kwargs)\u001b[0m\n\u001b[1;32m     56\u001b[0m             )\n\u001b[1;32m     57\u001b[0m \u001b[0;34m\u001b[0m\u001b[0m\n\u001b[0;32m---> 58\u001b[0;31m         \u001b[0;32mreturn\u001b[0m \u001b[0mrender_func\u001b[0m\u001b[0;34m(\u001b[0m\u001b[0mself\u001b[0m\u001b[0;34m,\u001b[0m \u001b[0;34m*\u001b[0m\u001b[0margs\u001b[0m\u001b[0;34m,\u001b[0m \u001b[0;34m**\u001b[0m\u001b[0mkwargs\u001b[0m\u001b[0;34m)\u001b[0m\u001b[0;34m\u001b[0m\u001b[0;34m\u001b[0m\u001b[0m\n\u001b[0m\u001b[1;32m     59\u001b[0m \u001b[0;34m\u001b[0m\u001b[0m\n\u001b[1;32m     60\u001b[0m     \u001b[0;32mreturn\u001b[0m \u001b[0mrender\u001b[0m\u001b[0;34m\u001b[0m\u001b[0;34m\u001b[0m\u001b[0m\n",
            "\u001b[0;32m/usr/local/lib/python3.10/dist-packages/gym/wrappers/env_checker.py\u001b[0m in \u001b[0;36mrender\u001b[0;34m(self, *args, **kwargs)\u001b[0m\n\u001b[1;32m     53\u001b[0m             \u001b[0;32mreturn\u001b[0m \u001b[0menv_render_passive_checker\u001b[0m\u001b[0;34m(\u001b[0m\u001b[0mself\u001b[0m\u001b[0;34m.\u001b[0m\u001b[0menv\u001b[0m\u001b[0;34m,\u001b[0m \u001b[0;34m*\u001b[0m\u001b[0margs\u001b[0m\u001b[0;34m,\u001b[0m \u001b[0;34m**\u001b[0m\u001b[0mkwargs\u001b[0m\u001b[0;34m)\u001b[0m\u001b[0;34m\u001b[0m\u001b[0;34m\u001b[0m\u001b[0m\n\u001b[1;32m     54\u001b[0m         \u001b[0;32melse\u001b[0m\u001b[0;34m:\u001b[0m\u001b[0;34m\u001b[0m\u001b[0;34m\u001b[0m\u001b[0m\n\u001b[0;32m---> 55\u001b[0;31m             \u001b[0;32mreturn\u001b[0m \u001b[0mself\u001b[0m\u001b[0;34m.\u001b[0m\u001b[0menv\u001b[0m\u001b[0;34m.\u001b[0m\u001b[0mrender\u001b[0m\u001b[0;34m(\u001b[0m\u001b[0;34m*\u001b[0m\u001b[0margs\u001b[0m\u001b[0;34m,\u001b[0m \u001b[0;34m**\u001b[0m\u001b[0mkwargs\u001b[0m\u001b[0;34m)\u001b[0m\u001b[0;34m\u001b[0m\u001b[0;34m\u001b[0m\u001b[0m\n\u001b[0m",
            "\u001b[0;32m/usr/local/lib/python3.10/dist-packages/gym/core.py\u001b[0m in \u001b[0;36mrender\u001b[0;34m(self, *args, **kwargs)\u001b[0m\n\u001b[1;32m     56\u001b[0m             )\n\u001b[1;32m     57\u001b[0m \u001b[0;34m\u001b[0m\u001b[0m\n\u001b[0;32m---> 58\u001b[0;31m         \u001b[0;32mreturn\u001b[0m \u001b[0mrender_func\u001b[0m\u001b[0;34m(\u001b[0m\u001b[0mself\u001b[0m\u001b[0;34m,\u001b[0m \u001b[0;34m*\u001b[0m\u001b[0margs\u001b[0m\u001b[0;34m,\u001b[0m \u001b[0;34m**\u001b[0m\u001b[0mkwargs\u001b[0m\u001b[0;34m)\u001b[0m\u001b[0;34m\u001b[0m\u001b[0;34m\u001b[0m\u001b[0m\n\u001b[0m\u001b[1;32m     59\u001b[0m \u001b[0;34m\u001b[0m\u001b[0m\n\u001b[1;32m     60\u001b[0m     \u001b[0;32mreturn\u001b[0m \u001b[0mrender\u001b[0m\u001b[0;34m\u001b[0m\u001b[0;34m\u001b[0m\u001b[0m\n",
            "\u001b[0;32m/usr/local/lib/python3.10/dist-packages/nes_py/nes_env.py\u001b[0m in \u001b[0;36mrender\u001b[0;34m(self, mode)\u001b[0m\n\u001b[1;32m    384\u001b[0m                 )\n\u001b[1;32m    385\u001b[0m             \u001b[0;31m# show the screen on the image viewer\u001b[0m\u001b[0;34m\u001b[0m\u001b[0;34m\u001b[0m\u001b[0m\n\u001b[0;32m--> 386\u001b[0;31m             \u001b[0mself\u001b[0m\u001b[0;34m.\u001b[0m\u001b[0mviewer\u001b[0m\u001b[0;34m.\u001b[0m\u001b[0mshow\u001b[0m\u001b[0;34m(\u001b[0m\u001b[0mself\u001b[0m\u001b[0;34m.\u001b[0m\u001b[0mscreen\u001b[0m\u001b[0;34m)\u001b[0m\u001b[0;34m\u001b[0m\u001b[0;34m\u001b[0m\u001b[0m\n\u001b[0m\u001b[1;32m    387\u001b[0m         \u001b[0;32melif\u001b[0m \u001b[0mmode\u001b[0m \u001b[0;34m==\u001b[0m \u001b[0;34m'rgb_array'\u001b[0m\u001b[0;34m:\u001b[0m\u001b[0;34m\u001b[0m\u001b[0;34m\u001b[0m\u001b[0m\n\u001b[1;32m    388\u001b[0m             \u001b[0;32mreturn\u001b[0m \u001b[0mself\u001b[0m\u001b[0;34m.\u001b[0m\u001b[0mscreen\u001b[0m\u001b[0;34m\u001b[0m\u001b[0;34m\u001b[0m\u001b[0m\n",
            "\u001b[0;32m/usr/local/lib/python3.10/dist-packages/nes_py/_image_viewer.py\u001b[0m in \u001b[0;36mshow\u001b[0;34m(self, frame)\u001b[0m\n\u001b[1;32m    132\u001b[0m         \u001b[0;31m# open the window if it isn't open already\u001b[0m\u001b[0;34m\u001b[0m\u001b[0;34m\u001b[0m\u001b[0m\n\u001b[1;32m    133\u001b[0m         \u001b[0;32mif\u001b[0m \u001b[0;32mnot\u001b[0m \u001b[0mself\u001b[0m\u001b[0;34m.\u001b[0m\u001b[0mis_open\u001b[0m\u001b[0;34m:\u001b[0m\u001b[0;34m\u001b[0m\u001b[0;34m\u001b[0m\u001b[0m\n\u001b[0;32m--> 134\u001b[0;31m             \u001b[0mself\u001b[0m\u001b[0;34m.\u001b[0m\u001b[0mopen\u001b[0m\u001b[0;34m(\u001b[0m\u001b[0;34m)\u001b[0m\u001b[0;34m\u001b[0m\u001b[0;34m\u001b[0m\u001b[0m\n\u001b[0m\u001b[1;32m    135\u001b[0m         \u001b[0;31m# prepare the window for the next frame\u001b[0m\u001b[0;34m\u001b[0m\u001b[0;34m\u001b[0m\u001b[0m\n\u001b[1;32m    136\u001b[0m         \u001b[0mself\u001b[0m\u001b[0;34m.\u001b[0m\u001b[0m_window\u001b[0m\u001b[0;34m.\u001b[0m\u001b[0mclear\u001b[0m\u001b[0;34m(\u001b[0m\u001b[0;34m)\u001b[0m\u001b[0;34m\u001b[0m\u001b[0;34m\u001b[0m\u001b[0m\n",
            "\u001b[0;32m/usr/local/lib/python3.10/dist-packages/nes_py/_image_viewer.py\u001b[0m in \u001b[0;36mopen\u001b[0;34m(self)\u001b[0m\n\u001b[1;32m     98\u001b[0m         \u001b[0;34m\"\"\"Open the window.\"\"\"\u001b[0m\u001b[0;34m\u001b[0m\u001b[0;34m\u001b[0m\u001b[0m\n\u001b[1;32m     99\u001b[0m         \u001b[0;31m# create a window for this image viewer instance\u001b[0m\u001b[0;34m\u001b[0m\u001b[0;34m\u001b[0m\u001b[0m\n\u001b[0;32m--> 100\u001b[0;31m         self._window = self.pyglet.window.Window(\n\u001b[0m\u001b[1;32m    101\u001b[0m             \u001b[0mcaption\u001b[0m\u001b[0;34m=\u001b[0m\u001b[0mself\u001b[0m\u001b[0;34m.\u001b[0m\u001b[0mcaption\u001b[0m\u001b[0;34m,\u001b[0m\u001b[0;34m\u001b[0m\u001b[0;34m\u001b[0m\u001b[0m\n\u001b[1;32m    102\u001b[0m             \u001b[0mheight\u001b[0m\u001b[0;34m=\u001b[0m\u001b[0mself\u001b[0m\u001b[0;34m.\u001b[0m\u001b[0mheight\u001b[0m\u001b[0;34m,\u001b[0m\u001b[0;34m\u001b[0m\u001b[0;34m\u001b[0m\u001b[0m\n",
            "\u001b[0;32m/usr/local/lib/python3.10/dist-packages/pyglet/window/xlib/__init__.py\u001b[0m in \u001b[0;36m__init__\u001b[0;34m(self, *args, **kwargs)\u001b[0m\n\u001b[1;32m    169\u001b[0m                     \u001b[0mself\u001b[0m\u001b[0;34m.\u001b[0m\u001b[0m_event_handlers\u001b[0m\u001b[0;34m[\u001b[0m\u001b[0mmessage\u001b[0m\u001b[0;34m]\u001b[0m \u001b[0;34m=\u001b[0m \u001b[0mfunc\u001b[0m\u001b[0;34m\u001b[0m\u001b[0;34m\u001b[0m\u001b[0m\n\u001b[1;32m    170\u001b[0m \u001b[0;34m\u001b[0m\u001b[0m\n\u001b[0;32m--> 171\u001b[0;31m         \u001b[0msuper\u001b[0m\u001b[0;34m(\u001b[0m\u001b[0mXlibWindow\u001b[0m\u001b[0;34m,\u001b[0m \u001b[0mself\u001b[0m\u001b[0;34m)\u001b[0m\u001b[0;34m.\u001b[0m\u001b[0m__init__\u001b[0m\u001b[0;34m(\u001b[0m\u001b[0;34m*\u001b[0m\u001b[0margs\u001b[0m\u001b[0;34m,\u001b[0m \u001b[0;34m**\u001b[0m\u001b[0mkwargs\u001b[0m\u001b[0;34m)\u001b[0m\u001b[0;34m\u001b[0m\u001b[0;34m\u001b[0m\u001b[0m\n\u001b[0m\u001b[1;32m    172\u001b[0m \u001b[0;34m\u001b[0m\u001b[0m\n\u001b[1;32m    173\u001b[0m         \u001b[0;32mglobal\u001b[0m \u001b[0m_can_detect_autorepeat\u001b[0m\u001b[0;34m\u001b[0m\u001b[0;34m\u001b[0m\u001b[0m\n",
            "\u001b[0;32m/usr/local/lib/python3.10/dist-packages/pyglet/window/__init__.py\u001b[0m in \u001b[0;36m__init__\u001b[0;34m(self, width, height, caption, resizable, style, fullscreen, visible, vsync, file_drops, display, screen, config, context, mode)\u001b[0m\n\u001b[1;32m    588\u001b[0m \u001b[0;34m\u001b[0m\u001b[0m\n\u001b[1;32m    589\u001b[0m         \u001b[0;32mif\u001b[0m \u001b[0;32mnot\u001b[0m \u001b[0mdisplay\u001b[0m\u001b[0;34m:\u001b[0m\u001b[0;34m\u001b[0m\u001b[0;34m\u001b[0m\u001b[0m\n\u001b[0;32m--> 590\u001b[0;31m             \u001b[0mdisplay\u001b[0m \u001b[0;34m=\u001b[0m \u001b[0mpyglet\u001b[0m\u001b[0;34m.\u001b[0m\u001b[0mcanvas\u001b[0m\u001b[0;34m.\u001b[0m\u001b[0mget_display\u001b[0m\u001b[0;34m(\u001b[0m\u001b[0;34m)\u001b[0m\u001b[0;34m\u001b[0m\u001b[0;34m\u001b[0m\u001b[0m\n\u001b[0m\u001b[1;32m    591\u001b[0m \u001b[0;34m\u001b[0m\u001b[0m\n\u001b[1;32m    592\u001b[0m         \u001b[0;32mif\u001b[0m \u001b[0;32mnot\u001b[0m \u001b[0mscreen\u001b[0m\u001b[0;34m:\u001b[0m\u001b[0;34m\u001b[0m\u001b[0;34m\u001b[0m\u001b[0m\n",
            "\u001b[0;32m/usr/local/lib/python3.10/dist-packages/pyglet/canvas/__init__.py\u001b[0m in \u001b[0;36mget_display\u001b[0;34m()\u001b[0m\n\u001b[1;32m     92\u001b[0m \u001b[0;34m\u001b[0m\u001b[0m\n\u001b[1;32m     93\u001b[0m     \u001b[0;31m# Otherwise, create a new display and return it.\u001b[0m\u001b[0;34m\u001b[0m\u001b[0;34m\u001b[0m\u001b[0m\n\u001b[0;32m---> 94\u001b[0;31m     \u001b[0;32mreturn\u001b[0m \u001b[0mDisplay\u001b[0m\u001b[0;34m(\u001b[0m\u001b[0;34m)\u001b[0m\u001b[0;34m\u001b[0m\u001b[0;34m\u001b[0m\u001b[0m\n\u001b[0m\u001b[1;32m     95\u001b[0m \u001b[0;34m\u001b[0m\u001b[0m\n\u001b[1;32m     96\u001b[0m \u001b[0;34m\u001b[0m\u001b[0m\n",
            "\u001b[0;32m/usr/local/lib/python3.10/dist-packages/pyglet/canvas/xlib.py\u001b[0m in \u001b[0;36m__init__\u001b[0;34m(self, name, x_screen)\u001b[0m\n\u001b[1;32m    121\u001b[0m         \u001b[0mself\u001b[0m\u001b[0;34m.\u001b[0m\u001b[0m_display\u001b[0m \u001b[0;34m=\u001b[0m \u001b[0mxlib\u001b[0m\u001b[0;34m.\u001b[0m\u001b[0mXOpenDisplay\u001b[0m\u001b[0;34m(\u001b[0m\u001b[0mname\u001b[0m\u001b[0;34m)\u001b[0m\u001b[0;34m\u001b[0m\u001b[0;34m\u001b[0m\u001b[0m\n\u001b[1;32m    122\u001b[0m         \u001b[0;32mif\u001b[0m \u001b[0;32mnot\u001b[0m \u001b[0mself\u001b[0m\u001b[0;34m.\u001b[0m\u001b[0m_display\u001b[0m\u001b[0;34m:\u001b[0m\u001b[0;34m\u001b[0m\u001b[0;34m\u001b[0m\u001b[0m\n\u001b[0;32m--> 123\u001b[0;31m             \u001b[0;32mraise\u001b[0m \u001b[0mNoSuchDisplayException\u001b[0m\u001b[0;34m(\u001b[0m\u001b[0;34m'Cannot connect to \"%s\"'\u001b[0m \u001b[0;34m%\u001b[0m \u001b[0mname\u001b[0m\u001b[0;34m)\u001b[0m\u001b[0;34m\u001b[0m\u001b[0;34m\u001b[0m\u001b[0m\n\u001b[0m\u001b[1;32m    124\u001b[0m \u001b[0;34m\u001b[0m\u001b[0m\n\u001b[1;32m    125\u001b[0m         \u001b[0mscreen_count\u001b[0m \u001b[0;34m=\u001b[0m \u001b[0mxlib\u001b[0m\u001b[0;34m.\u001b[0m\u001b[0mXScreenCount\u001b[0m\u001b[0;34m(\u001b[0m\u001b[0mself\u001b[0m\u001b[0;34m.\u001b[0m\u001b[0m_display\u001b[0m\u001b[0;34m)\u001b[0m\u001b[0;34m\u001b[0m\u001b[0;34m\u001b[0m\u001b[0m\n",
            "\u001b[0;31mNoSuchDisplayException\u001b[0m: Cannot connect to \"None\""
          ]
        }
      ]
    },
    {
      "cell_type": "markdown",
      "source": [
        "#2."
      ],
      "metadata": {
        "id": "tpArnVjHmovP"
      }
    },
    {
      "cell_type": "markdown",
      "source": [
        "##Proximal Policy Optimization (PPO)\n",
        "\n",
        "With supervised learning, we can easily implement the cost function, run gradient descent on it, and be very confident that we’ll get excellent results with relatively little hyperparameter tuning. The route to success in reinforcement learning isn’t as obvious—the algorithms have many moving parts that are hard to debug, and they require substantial effort in tuning in order to get good results. PPO strikes a balance between ease of implementation, sample complexity, and ease of tuning, trying to compute an update at each step that minimizes the cost function while ensuring the deviation from the previous policy is relatively small.\n",
        "\n",
        "We’ve previously detailed a variant of PPO that uses an adaptive KL penalty to control the change of the policy at each iteration. The new variant uses a novel objective function not typically found in other algorithms:"
      ],
      "metadata": {
        "id": "oi5MtbaumtTO"
      }
    },
    {
      "cell_type": "markdown",
      "source": [
        "![image.png](data:image/png;base64,iVBORw0KGgoAAAANSUhEUgAAAlMAAAAtCAYAAACK9u5wAAAAAXNSR0IArs4c6QAAAARnQU1BAACxjwv8YQUAAAAJcEhZcwAAEnQAABJ0Ad5mH3gAAB8BSURBVHhe7Z1vaBtH+se//XEvXOiBCz1YQw+q4kIVchCbFiLTvIiCD6KQg8gkcDY5SNUepHILV6eFnNK+yMk56Mk5SO0W0riFHlIgQQq0WIEGqy9cpECKFGixCg1WIAEJGpCgBQkSmN8zu7P6s9pdrWzZlpP5wNraP1rNzjz7zDMzzzzzFCMgkUgkEolEIlkX/yf+SyQSiUQikUjWgTSmJBKJRCKRSDaANKYkEolEIpFINoA0piQSiUQikUg2gDSmJBKJRCKRSDaANKYkEolEIpFINoA0piQSiUQikUg2gDSmJBKJRCKRSDaANKYkEolEIpFINoA0piQSiUQikUg2gDSmJOui8n0Kud/EjkSyDqQMSSSSrrmbQuau+NxHSGNK0jWVG2fge/UARsdnkamIgxJJF0gZkkgk3VL7aRFTngMY80wh1mcG1ZYsdFy7n0L0Qgyx7wvA74CB59zwvxtG4OUiFv+bg/eDSbjEtbiTxNy1vNjRGcTYmwF4BsVunRJSH0eRq4ldgfvIDHzDYgcVZL5YRPqB2DUwOOzFocMjUChdks6oleBbJQS+DmNsZQbez12I0mfvc+ICiaQDUoYkEkm3cEMqcDgG1ydRTGMe/r8VEPiWjr08IK7YZrgxtWk8XGPxf3iZa/8Mi+bK4iCnzNJnA8x3WGEj57PimOBhlZXLWTZ/GAzjEZYulmm/zKritJEqnSt/NcMNQhZMFLVrH4qTAvWaZKjlGnUrpNmltz0Me8Ms/au4WGJJNRdhvv0htvyLOECUvwkxz/4Iy1oVkETShJQhiUTSNb/EWWB3gF3KN5RENX+JTQ4HWLxJl2wnm9gzVUDsb2OYwRzSn0/CZez5eZDAG3+YgLLCEH5NHNOppXDq6QNInc8i+48RcdCa3H9HMfruGJbK8/C19V5pFD47gBf/7m6/5m4ME64pVC6uYfnNev+YxIpHtBnL0uyYRGKFlCGJRNItfa43NslnqobMv6YwdWMK0U9MDCnOc0NwIYix3WK/mR8ziNI/36udDSk+1JfP5IAjY3BbGFJ8qC+fS5lfUyogLT7aUfluFodeT9CvrZNaDrPHppHsQ8e5rjAry3UKc+ZfT+Gpp8T2r4w4+hhQyWDW9wYS98X+JrM1sllD7t8TmP66IPY3QJO81CoVujPRJwpx29lpsnOfGsXH5uREAok1vZKRZh1Rq6DC79et3uiYFnr/9DqJttmb4rAT1P4pG8o/LLPllNW2ypoH73SqmTAjM4j5Pl8TR8xIs/DRKCuKvWbWLnoZEGRLZjc3Ul1mM/RbbcOFLaRZyOKa7EcjDMoki98TB0zgz+NxMhRYXGbzJ/3Ms9vNfO9F2arx+kKUTQ5PsmhB7Pc9VbaWMSt3+y1dcDZekz4LFs6InceFX0mu93roubZmzGprZXONRY+72GTM7r12TnUlRHrCyy79LA70AdVCmmQ4zi59FGER2pa2Mm19KjvlH+IsfMLL3Ls9LPBRuk3nO5ZByRNLb2WE9NBRMLy3bOn+Y4fTtHRbP3Uwpsps6bSXece9zDNMiSeDBHAxD+3zY96jl9iquLIBfeckv269Y5lFFj9O3z8SpSxzAGWMQukKrYh9M3IR1bgzXlNOUaYqXnvl9csSCyoeFsmJfQtUvw/FxyK3uKqpsvQHI0w5udSmeMpfBZlCBbkj/EOqaRZRy9rDXGrZ0zbs0cresDXkA0w5Z2fYNtguY2rtqxnmHw+yeM+NWi77CvPYGvY9ZDtkU/xm+NZGBTjLIns1eekfg7rKVi8GSJ51efdbG5eFJTZz1MuCV3pjWPan7PD8mCSZ0N8VrRIzS2P2vIcpx+OmjeONUWarsSDzbMq9dwAPi2z5nI+5HOrUfqZXMqLqKf5+WnTGOMFJWnpsTOnoBhJVlGfT4pgVWi+QY2PIiKOepgZOerHWvvTTNdQiPxFggTfFdnSSBS8ssTWb73FlsvyewpQOFrBq6UJhwa+abkatbpi2utfYpYPmCql/oYpvj1b+/pi1+JVXeD7YX9PM9hhT1Prn8knlFUr11qKtfjPDFGWGLW9JC337ZHPtoo9hb4SkYv1o76QmUy1p6weEDsIe62fksqvqw9Prax0b6UfZWYuRIYVWg0srN0qn8Yu/Up4pBjlbJ9V7WbacuMQiHwSZT2+kbaDi3GmU88tsKTbPIu9NMrcinr9jvbsD6IWM/Er2haiL7N7PjjhIyyYZU1kWFoU6800H1XEvyvz8QT+wL/xy3nyIkN2y6WnKL7GllpZiUevuszXchCE4fql74+7nS8yHEfvWm9o1T/c3vuxUifH8mrzSrgLKiQCDQgZgn8xC6Iheph2HZKjleqRDL2ET22NMVVn2ywibT6z2pBJsoBkiIx9tkZG8nbLJZ9YYDbRu4L0iwx7mcWCgbwtCB9npsGouyiIX4u3DpeuiD2WHD/uSzh+hSrz5PSnGuDGlsPAtcaAJ1WVig0Y2p5whQ+qjCLuUSLPVhDYL+0kypta+4kPM8yyazLL0RdHo6KUxdSvC3NvU07VRGeE9Sp69Hi1PEKam8frplJbNMabo5fOqiXfgx1QmRdmx8FfZ/AdxU2PKuqeJWlMfGDJP/JZtL5ZoZTodemomfVbpaITxwjXt5VBb/2DeiybfFum29ynrH3irWRVeJdzhJeDGbQcl3cT2GFObhDrcvHX+P9srm6KBcnAdDRT+Hr/nIkMuqw3n02857YXeKjQdtIU9Zn0nO9qQI+BrS5Peo2jaqFbdKXrc4ysM/yfJmGpGM1471addwvN0u3q6NiIjvBHA3RBSorHj1K/aig5p6bZ+cjSbr5RLIcU/jI/YzJgTDI5i7Cj9/6FgOUOkcHkRtb/40H6rEjI3LGbd3Yli8fc+eMSuyk85xOmfd7db2zeDruFpn3rF5hpTMkh9UsLIwdFGQFEjDxJYeDdD9VUAXk9r4LDSPS3waPk3k/DOIo+S1zPrn0WzheRu8rmVxHEPWnOxhMRbp5BsCYjqhosk/Ukjc2MepT0+jNaDxW4m2y2bgxjd5weuJ5HpdtbZ7QWc+TGE8NERDL2kHcr9Zoi6u62UkFvhGsOPsT91Una9oe9k5/YiznxKpX/QD68hTaW7CfV/rWZSZnvGMKGUsPhdThyQSAysW0YqSJ6fhfvsDEZecmFMPVbUZvStlx7LqwNjqobVWzH1k+0LWEeB//0wPFfnKZHtyppHP15AEDOvmEQtra0ie5V+Zx9VyOIQp/JjDNPHFzBKxlwzhR9SpPqC8L5qHQG1cCuJHCZJMXYZJfV2GnHSJ3aGWuHrRSzSf+WEF2OG2xfymtJxKUPq/1YUuD30LFfTyPb9UhoFrK5o1erkq7vQ8pgP0kjeccNdj1w9AM87Z+DdoDFVu5vE4n/msHi9QK+QoEaG9uUFzNHxhcspFJryrXInhdjHc3RuAbGbViZABYXri3TNIqXZLNMryPH7fxxDpukWlZ+0tKjf+8mqsHJIJ+hLvLEhjrRjcv9SDokv6N50LGcRod+UPpBNxT2GESSQztlc1EYBi/+MY+JcQH2/B54R73Ox3CjnzeZRBflvY1jgZUr5njLKAumg9P/oPyla9wvaoWYqd0xks4nSt1zGFpD4UT9Lcid+b+EyGag8Lk4L/SY7NaSuRChVgO+o16DvCyiIemfoD2aGphsjRyhpibT6/SeGB3kkvziFN/58AAf49vopLH6rF9Tjj6oj339De3ba3nh/ESnLx1+fjNRuhNWo52fGSZk9MwhNcxVQ7Eb22+itvDowpvLIcOVC2PYANTHwSgjJlQlkT4zi0FtziF1PIXWNWjtvTWPx6VOI/NVgktUymOUFsf8NzNFu8fNT9YI54HkRz/5pCgu/D8K/R7s8/9mEeu7Qh7wFmUT4GH3+tDU7Stemm67JIPK39mvsKP2cpQz2wu2yMsIKSF1Nqp+m9o+1GhncABHxKdx/NLcsXMPcto4jd0fb71vuZ5C8wT944R1pPEutkkfiwzCW9u1qUriDcL3mNulx7IL7CQQ+zGPXvkEkfS/C998cSmSAH/JHsMp7TfYNoXjhAF48OIvcbxWkPjyE4OUSBvdR+p4vYt4zhLF/57TYRXVKSL4zhdk71KJ5LoNDL/kwd1ucUuFx0QKID1Bj4V4EYyM85lIei6+PIfB1Da59ZDgMpBBwuzF11URLlArI0v281GIylxYt7lr0Gaqgxf1j13h8nyjKL5CxgyVqKMw5fqH7QjZfcKutw/iPzuNOVb4mI+SVOQTFezykCMl5IGJNbTKFa6RX/jiKM9/RM46TvOwGUscNZSpi3OEwNxZbKV2fxtS5AsnDIDJCNpspXeWx9Uj+nkth4k8+zF5PYtZHuuuuAi/dbyBDreo/zyLT3JruN9mppZH6gueHF/59Rj1Nab3GP/gtep+pknuJcu12FoUnwpaoIffxBF78wyGEr9egjPvgI6PYRY2VN7xDOPCpcVm0x4zfclg4RvXz4TCSvyn07PT8e1xYvUaG1dABLPwkrmthPTJCv/NhAeH3xWjW4LPCmCI9vyHF0WN5FcN91nTjL2XkYZUV8zxuS5qtFns4jr4FZM9xnwE/i1rFnyrG2aSaL2DKbkOogN38u/yczfeFL4Bzv4xyPUzF+rbQusaX+TRU7VnMt44TEmxoH5OusuXT+uwhMetOUZj39HKLf53ut+HZ62fhlZYzqgO80TGRP4NX+OXo/l8tTs98LP6E5sOn+ygow61LF/D0qLNUzXw3hMOypSO1yf3rSxjlIuoMSGCSxR06hfSHbIryMQmxYAqfPTPc6thevDKppaWjL95GqbL0OS+VkadFXjSfMvr9plltlv5S3GmeL3nDP+uz/VpkgYd6CGmz3HQ/H8UQt6ugTeRo8RHrN9nRne9pc+1tlZ16+BMqLyuPGy2Nzv0mO9LHPlNcfr2nl5hZ1VbMpdlaDyYn9K/PFA9h5GWhZLH+7tR5WGTZzFr7cUG3MsJnD7fOMG5MiDObRNMNdmnpuQN6XeGtZzbcDoZnpO1sAeHEiz10jb7Wn9jWvnSQZ8JI7WomU7X1d7rbrETbHtVZlT9LU4XD1zosfsMDLtooZZUqy8YibCkvdg20CStVUiF9doWoeHjFYYx7pFd47VP419ilcWO5cad4PeYZd37m51udffkLpVee6Q/4eaX9JTWtQAVC4Vu9ePz+gQS/v/77DadHHriS2v/M9bbRKCmy5QuXWNpkVl1/yKbIa0eVHMnBOU/7/fSK0u5Z7i2z+YvtgSK7geswbiC0yose7sXFgkn97iLGHZdrQ3ypRhnS0wiDvMWBnxs2ooLSdWbb8+qzYpvzbDNkxybPOslOPWTFiShbM8jO8lm3ds4mpIKeN91UQrb0rTHF9Uon/bdxtMqenr/fjCkuy+ssk65k5B41DHnjoUXgxCx+uoe1jrLWn83YpaVbY6rDMJ9Tf6kSUh8n0YOFJnYMhYLowj3shWdwEIP1bQCFPB9apCq7zeegiYGnux8OG2j+nW43qyEhO4Q/BxHcN1ofhhig+ynuXXCN++B5XhwkardjWLzZ5ElSSyM6GXG+jMDAKKY+C6jDK5Uf0uCePd7XJzHSknSxNBD8mD5iGIjRhySPulqGHj3/DMHH/boeJBH7D/0/ONniWDvoOYOZ/bw06Hm/5kemEDhsGMcQExnwsguGMx3h9w+N8/vnkVOHTKfqTuEDr4VBVTLWLhgmZNxZwuw7KRTbfGw6szWy+TSedirAd6I486UXwfEBVCqVxlauigtWUbToZi9cn8X0SnH9w4C1FObfiZGG8lGZNsvLIHyfVFH+dQ3zB8WD2PhLNcqwguRl7ozgw+T+phx83oeFE/z+us4cwZjbICn60lWVKvQn78R6ZGcjeVb6WfOn8+/3wNUiO2UUMppczYwbh44bDPz+WfFpu6mhcDOF1Lfdb5m7TnJOgfvVIpa4C4vw5eRbi/7bRio/tj9XfctRTX0va35O3fKm/oAtPO/G2L0lLNH1mr8q3xaRceDD5FxGakhdCAJ/98PNl4+p644yqkIvpu8WtQ9GHOrPXsprB2PKob8UJXyO3rN+eY16wkPx3wJ9Vsvkn4xVUg4Z1efAoGx3IvfzSKu+RV6MGKdXPihj4OhYU4VMlcyFCCpk8NW5zf1PpuAxW3/RlEG4d2vfz99aoL8j8L1qyMMaKYFP6b9JhVfJCQNs3NNk8AzAtUfzR6msJFWnbP/xQy2GxMALI3A9Qx/uiuc96cWoobbIfRulkqWKZJ/BgOM8sq8andzfSOlWEqlxynczy21HyWYJibOzKAxlMDs5gYljTdt/EqKcaqiZKj1tdq+X8rxbA1anciOBWf7I4+0z07hsDPJy0RH+Uoq/3V+qXoYPUkh+Qf+PTuFQ8/2ec2PkeV6oQmcqExgTvmE63F9JtRmVZ8kUFfRcdjrkma3slFBQ/VwUjLoN8sEbKtfpv0INk30dhPcJwbV7DIULZzD97jROvX+KtghiOYvK/bHDBfe+Aub+OY2Zd/iz03Y+hqxFo2g91L6fw5lrLpQuT7fqjWPTWPxBu6b0yNzwtdWfm4XooTJHdPd3GpPnwa824jvTj3TqDtfOt3cDVlMhdUihY2TkHTDMV/eXchJplvt2iLhD2vpmyyz63gjDeIjFLdbrs+5G1SOum0RaVmOD0Lm2gIr6sI1VvB4tMKLdMkf687bHX9LTY+E32GGoRke/v/9L4/0baGthLrEI78Z+c17Nx1VDevtDNp0N8/FudJeVX1WTb1drWstsla/zmIyow2KBT3ieWAT57YDmI0TP7CDOnJP4Umuf+9Rr9CG/NnSd2fbMunwaYnj1THac5Zm97OjDJ+3DV/pzd4qN96QM8/GVBbzHo2ztoTiwSfTnMF+V5MjLJm30mB3OZITra+vljvT32igXTvRnM1s2zKdad/yDnYV3N4bwed9j11oZ+B1/4CwKFnF0tGndxlktFST/N4uSMomFt7yWXeEqD0pq3g494zTf6N5nm63zbrcwkl32QGu9Q4TttG0O7304g6E3J9Qen1qNt7ZLWM3k4N07qg5BDHSzurdNK1wLdUFmzauGFD1IIcF7rPQhvFoOsS8yje5qHj6Bt6xP+uHlQ373U1j4unVg2rI37HYKUUqPcpq+yx+Gf/dqvjGMQs+mSkuHKSH6/cfaeox0amJ2SgH5q2T2jZjnen/IZgklPuz03KD1vWoZzL1fQPifZjHlCGUIu8RHvdtehTJBzYY7eSQQwMjL6tF1UXuklYl32CwMRDPG+FJ5JD/loVeaKSB1mc+SDMKvDgu3uzfoMfn8+zS5r6P3qCpBBA83lX+vZMdhntnLzgAG1TAnbriahu95j2biAj333jDCxpnYBioPeG6MYMCpWtuRFBA9W0Dw/CRc3ei1x4U7UYQLQSwct5cFK5zISOnyKSx4GjN/jQy9oEWaAumNRt+uM/3ZTC/l1caYqiC7og0XKPst/KUqGcz+dQppk1g2O52hYWpfUh5U6zVmK+7d4nxTJVD7fgGRLxRMXpiDv0UZtVP5hXcHj8D1R9NqxoRB+M4tY/mb9W5h+Jz+lIruP9TqL9VODfnPZhC8EcCk8D0ZfJmHURhE5TsF3r+QAbKfjHF1CMQZdX8pehlak9zwlzIGVCx9G1eH8PTYOLVMHPMVqhzUs/Q0Xy9QJacgROf5scKNOeQeNQ9M689LaTVURNoQn4KA8BVRv/u7oUaePO+mb1HqfrMbsrG+f4MBKK9Q3j1bo+puEr4j9JnyrhHHS6MvZLNShnrVS0OGMmqQ+3QGS387g8kOv8fJ32syJgYUjNBzP/soCxz3YYI+e/cbZaGAxFtjGPNMI3FXHDLBNexX/z9rpS2pMXiKhzgw+kvdTuIM6dmW37ydwAIZkHWjmrs35GpN7g0NH9NRQ+yA0rUFzJEMTZ6f0fz3dHolO47yrJPsDMI9ws/XWs6XrkYQue1B+OMZg/9iO8USr5zah+CdltfOgBoS110YMryXde5m2oPZ3k1g2kPP/1aixfjekVBjK+myfu8L39kHo7aWEcGDJMIfDiF80mNT7wiuNQcHd6Y/m+mYli5oN6Ye1TQnr1IaKTWmCDBBrbqG8xc/l0fqi1M44B7DmZsjOHWsQ0t3B6K8NErVSQr5gnmNNbDPh5CSQuYH0fdBhuXc2/N4+lwCi0dbFakZhTvcFdWuYt0m9PL/Po0k7x2CB64/0OM1l7+6ldTgh7PHdmHX32MYPReAt1kI1Oj03fhLNcjf5nHtu/OXKt7nzrEiNs6jHBb+VcGZ4w3Pl9pvvD9rAmO8NqgksfA/L4JHmtSB7h/W1htWQ7nIvzuGXS/RiVICc/8bQ1B3WuYoLoxSCyr1c4GutsDy/u2U8mnkbHqD+0I2ee8h/WvzpVQdRQtI/WcCE+9msEsho9pkAkKNyxBpwYFxbb/yoKjKVcN3iuSL92xa+f58H0PwU6q0bi4geDFlme/K4SBm6AbxlTSZEM3UqEI8gwOvr8LH5WTgaU2HkXHI+7ByN+LwHTQ4WlOzV5UiD29cVJC8GIP3HX9TpdLwMY0nM400kcE2824aXp7/xp6dnspOhzwjOsmOaz9VQnQ+p8cI4ml/J4NDV6IImQVabqGC4s+UQ7wn21jTOiwvFV0H0VYoCNODG+/iWKVi++0twA33iXnMf5ZDa1Io3bdjmOYxwAxZlbscxMJNev5Pg1j8tkP6687WJRTuC6mlBk5Jf/6NRP3uBcNuBD6Zx+JtQ3w4Snfu8jTeiJVt7AFrGeE6oUT5d+pYAAsuFzUMTOLPCdmo1pswRTKIWmWik/5sYCOv60EM99Wpj0U63TaycnM/w6fp84U+26bfN1DHzYd9bIavbr7by2ZiThfPFb4JIn5M/9CYctrd1u6HlD0/wnA8buvnYD4mLdJgFsvm50vMR79nuiBsIc4Cw2C+kyEWOOhnkVxrSVRvRZhXGWGTp2eYfy+l1zD1XffNMPMT0r6rMN8/6LsHg4bFtjk8Pha9N3bvgs39W9F8a2x9fPpANjVfDmO5N/yCWjajHDT5Shm3+nOrawSaL6irUs2y+aMuNQ6Z0slvKx9lM/sV5qKyC30UYaGTfubZ62PBC8us2OTzsvq5j/FYVAF+np6/7Z70mxG6z8jxEJs5StddMfiM6P5SJyJs/oSbed8Msch7fuYaJnlMWaWwh7LTKc84DmRn7UqAuegdCb03ydy7Ke0tsdzsSKvxf0zfzy7Kq+4nZbX1g/9UgfKaLyJuTFtbfDqNam6e+Uk/KfT8ncqx7idltW3Uf4rn7wbvsfZVUMQ4a91cJy51WPzbQkZ0X9iWrV2Wre0T3a/bgf6sYyOvRLc+U84WOn4iEUquU3wt4RRe7cYRUSwma+nEuuPRKuS6I/e9ZRa/1a5gLIX1V8pTi5q/yvNafG7jYdW+LPSyErut8O9a3rnDd+m06txtt1hth/vX0V5wfUJHNRe3Nt62TTaF0bSZjQFS+Ep9AkKVZa8sWTxrmoUcVq5cdnh+2JYDlz3bctJkzOwSvRLUK0v99+zuxumZ7DjKM4eyo+ZD57S3oFaInYIxOi+v/qfKijnSbZ+T8RxbYss5kwCWRlZCDhpUm0wPjCmVapFlU3F26aN5Fk0us+w9B9LiSEY2ghP9KeiQFmlM9ZJNKvhyIkAtNBEt+bGEBJoqldAK/8xnfoTZsklrpVth7W+0GX9WrRzHqIEd9aCRayx62qLS207Z/CXOAk3BIzcD1TA5EtWevRBlobYZlgLKB59NL8vWQUaKGlRzPWXSG9npJs82Q3b4rG6IGb2W9E15bQ/Z876e53vX3Iowt6Oem97jSEY2glP9SXRKizSmegpvgStMsYn42z3aFH2flaJ7LKB8e9vF/Oep1XI6xKIm3d6cx8uYoqf+KsgUZcbUcHROls3v97CZL+Ms8jYZoZbTerdPNvnyDpuqEDm5eebdO8OiiQgLnmtdTqgBN2C82185qWgtYiBEn7qnJ7LjKM84myA7fLkgRekQIqefymsb4HmkL0n0JOJIRjaKQ/3pIC3SmOo1PJy9Yh3voltUpbnZFVGfYDskRzxuxhQf3owfV0yWuekWh8M62yGbfI06xWczJNVD+DCljXFR/ibEfB+ke2cQrIsqK95aZvHzk0z1+dhDxgyP95TvdgC0R7LTIc/q9Fh2+DqHnYyz/iiv7aLMlk/7WGjlyXx6jhMZ6Q2d9aeTtHRbP3WIgC7B834sXjuE+EnDau/r4W4MwXfLmPskYB5q4jGDLzvTaf7P44UC/ycJHLoSxOzNDjN2bBlQl37pyJbLZgGxd6dRPj+PQFs08U2AL5/UHKG8hRrK8GL+QwfTpzeVClZv5VB4NIqpjyKITA6h+D3tt04ddECPZMc2z5rooezUbs4ieOUQEh/azerul/LaJmplYHwe4deeyKd3KCO9wl5/blpahFEl6UB5Jayu3r5u18FqloWPms0Ee3Lhlj8XQXXrZYTf7aacZuGDARbf5EVQdbZGNvlixXxB6CehT3Ub2Wmycy/OAkcjLLuhoW3JY00/yUjHtGj+vnq91E3P1FP8D31JIpFIJBKJRLIO5DCfRCKRSCQSyQaQxpREIpFIJBLJBpDGlEQikUgkEskGkMaURCKRSCQSyboB/h9YAeA/5ltEhgAAAABJRU5ErkJggg==)"
      ],
      "metadata": {
        "id": "Zu2YW1Mrm3zu"
      }
    },
    {
      "cell_type": "markdown",
      "source": [
        "![image.png](data:image/png;base64,iVBORw0KGgoAAAANSUhEUgAAA1cAAADbCAYAAACBWGvOAAAAAXNSR0IArs4c6QAAAARnQU1BAACxjwv8YQUAAAAJcEhZcwAAEnQAABJ0Ad5mH3gAAHuCSURBVHhe7b1/aBtH/v//zJd+wIEeONA3yNDSKCRQmRSicAeReV8PK+TAMjmIjAuRyYGrpJDKLbR2SlM7+cOV0yO1UkjtFlI7gRYp0CAVWqxAgxWOvJECOaRAihVIsHIkIEECEiQgQQPzndmdlfVj9Vv+lbweZr3a2d3Z+fGamddrf8xrC+OAIAiCIAiCIAiCaIn/T64JgiAIgiAIgiCIFiDjiiAIgiAIgiAIog2QcUUQBEEQBEEQBNEGyLgiCIIgCIIgCIJoA2RctZsncQS/GcHYzykZ8KKTQ+qmD1MOD2IyhCAIgiAIgiBeRja2cfUshfjtOFLP5PYGJvMfYWB0o+t/utH/0SwSObnjReVZQjEi+3dtRZdlCBOXc9zMIgiCIAiCIIiXl41pXD1PIPDJfuywjGI+4MHQrh6M/JpQ91Ulh8iX+9HVtR9jV9f2yVHnHhtsg0Po2SkDXnReNcJ6yA5brxUGGVQOr8f3dmDLrgHM3ibTiyAIgiAIgnix2XjG1bM45t/rgeuJE4sxL6Yn5+D/thuz/5hC4Ik8piIxhD4PIZUKwXOJr2XomvBKJ8yHxjE7aZcBLz4dr1vhuuDGiNwu41EE3kvcKL4f4MYxvTRIEARBEARBvNhsMOMqg+CnVhy9NoD5cw4YX1FDO9+2wIp5eK/VMpfMsJ6xwmCwYnS42hMVYk143YKhYSOw046Zg2YZSBAEQRAEQRAvJhvKuEpdccH5XQq2yVHYXpOBgo6t6OSrQGypxnc9HbCcXEQyuYjpPjKt1h8j7BeXwe754drTIcMIgiAIgiAI4sVk4xhXz0KY/siHFJxwHjLKQMmjBAJi/SCFjBKwTqRCmLpEr7cRhAK1B4IgCIIgiCLqNq5OnjyJ7du3Y8uWLcpabLeTxBUPPOKtvxOO4qdWnMzjpPy1XuQQvzyG/eb9mHhEEzMQLzvUHgiCIAiCIPSoy7j629/+hn/961/473//q2yLtdgW4e0hhsD5oPLL9de9KH2BLHE/rP54rbNsXxm5FCKXpzD0tc4d9Wdx+D7tR3fXFmzp6kb/pz7E70eq331/noDv/b3odngQEsbf6R7FwNSWrn/6UHUewycRzH4gr7llB79mAInncp8OqZvzGHu3BzuU+Heg5z153TrJ3A3y640h8EhsJBD86ih6dqlp3WEZwNjleNWnf5n74nwtvTx/b+/H0S98iDQ7O0gdfr8UP1nv7S+4Zr+STqG2py4PKGHFyxQi6qmIfFGy713x9LMKJfKhlPc/utElzuUysb9WeWfiCHyhlWkX9n/CZajUVYBwIXAzgPnTIxiwHIVP1AUn8fMY+vl5XVae/pJzMr8HeBnIehezXcr8l1PqV4wbOj/z/LzdpeR/h20MvrsFZ4rJXfLxdmPoq0jV+q8pf820h1QE858OFMjhUXiulxTyc56vuxEELk1ghF//6GW5/0EAY7YdSplM3SRDjiAIgiCIDQ6rwWeffcbEYZUWsb9lIm5mUOJzsYW0DMuTZP4j6rUMZ6IyrJxsYpHNHLcxo5a2ybDco7HM5vrALCcXWPIPsZ1lyeA4sxr0ji0n+9jPXLrxFpP02ZXr233LLHsvyqLJrLojm2QLJy3KPjOPQ4YWkGXhM1Zm/dDLoo/l3qfL6jkGK3NHys9YIcuWAm7m2G1Q8w4zc55fYNHESmGK8pkeNCr7DUe8vDRKybLoORuvBwOznVlk+WQ/jjLvh2oaxn8rqxxOmLmVa7r5rxXSMT9zHzbJehXlkZR7CuH5E3HvtLPpEC8vXi/pX1zyHDvzJuRhvOydIswwzhYrFEP0rJnZLpbnKk8yXCwffaPMz6+p5ZNl0yzqG1XlARbd8k7/Ns7Gf0qqdfdHmi1OqvVpOb+k7FdJs6WLzpXriHw85PVzI8qS97zMocQPHr88nB+/eGqc+fkxCo8XmXufmoaZO2qQApeFxW9dzLZTi5eXN0/D8p1lli6QZ4vYZ+Dt6DGPORFlS/l4o2zuiCof+nXRmPzV2x6yvG1be13MG0vLcsuyZSWdBmY9s9IO0nfmmDOfNzWN2Tth3n6WmVemu552ShAEQRAEsZ7UNK7efPPNvMKjt4j9rRI9Z1bje8vORs9Os+mihSuU8lquX/SU+xXSd7xstLeCInZLGHBWNndPbkuE8mepR2nLLrJRvXhL0Iwr86lFrjaXwOMYF8q1wc1KzcRln4MZdY0e1SjEvumyc4r4I8kWzzqYSVHeCwyTIlYUVduF4iuJ6wujRpRFsRot0M7TMzr0jStBMjTN7FJhLlfohdHM49zHz3sqgxS4ks+NFuOwv6AssmzxpLi+gY2HylOnlquT+blBUQ1FPvpUAxOn9OtRkQex3zDKFgvSpYWvGEUcTSYGvTw3xQhDTIkHRua8uJQv02ycGxHDWj2reS0tu+xvo/plll5i3o+teeNzrqyOtXKqIH/35tS2dMRflt6G5a+e9pDgxuROh64sLl+w8XRa2HRMBgi4YTmuGJbg9T/HlrRCe7rE5oadFWSaIAiCIAhi41DztUDtVcBK1NpfmwTiN9QXnAy7jOhSfq2QuxeH+sKgFWaTmDOwMp27HZg+U8Hr0tMsUgghcqf4paiOfeOYPVjHTHZPUtVf/yvBaOpWZjgsoqMb3X/l61QUcfmqmEIuhPlPUhj93IGSqTw4RlgP24Gb0wj+Rwbp8Qo3HU94Mf+Bti3XRRjhOO0GV7ARPO3Lv1qHJ0F4PvEhZRiH+4RF59VL7bwIJj6ela+j1cbQO1rR71fmVzdcP3Zh+rtxWF6VgQodsJwKY/mivaAsOmB9dwxmXoNTV8Nlr8vlIiH4hsu/1StFkY8Lbigp+n9KUBkd+0bhPsnNl5QHs7/KV9OehTBxaGKlvDQ6tmKb/FlK54ERjAyKX2ZYD5jyZdrxlhNzF9V6zl2bgP10Wazo+FOFWDtNcJzT/IrtRfd25UcBHeh+u0f5pSt/O7uh7P0xXizLzchfzfaQQ+jCKFKfTMBRlk4e64EhXg8RTF8tkKbXrBj5SJUX84F+mLRCe9UE58U53XgIgiAIgiA2EjWNqzfffFP+0qfW/prkEoj+rP4c+tCN0ROjRYvNlFZ3HnDAulP92RRc6XRxnXnevhcDX4WQKtDQzXvW1wdT5loAU6kQRkwr364ULjv+KeZKTCF6r+Q7lWbYacXQIb7mBl5CGniZSBCzIupj/bBWsjO18256EbqtBjVPCsEfZ5E64IJ9jwyqxR5+fXHsVz4Ei5xJZ3hcQbjeteoYhc3ADTmbU/kVuC/Nh1etmE4qT3kxvk8NagcdB6aRVJ4ecwNThq0HqyJ/mRACX6YQ+qBbN84txiFlBtBULM5jJgiCIAiCeDGoaVwdPnxY/tKn1v6a5O+A27F3V6l6zA0veWfbdtiqc1e9AV6zYfr6HJw7Ewh8uh9dW8XkEj7E13VudxVlwo5Br1S0Ky/+w9w6bJkuGBQjNZA3rhK/+5W13VSthI0wKjZoDImHLRZabgnRK3z91+4G6tQM+0fimds8gjcKrn/fj/lUA0ZaPRiMsIr1nYS+4v88g/jVeYw5nJiRQW1BTP5xaQxDx9oaa01WRf4exBHmbdr7UD+u/PKTg5x9EwRBEATxwlDTuPryyy/xzjvvyK1iRLjY3xJPktK42gtj6Ws/90MIXBM/nHAebMm0UlBeybqXxnJwBs7eLIJfDaHbtP6zkOWecQPyXhJrO+G8Hcb10mobfMVSw3iQywFfz18O5o2e2K+z6Do20JrhXYm3jMWKvzL7opCZHrj/sxUDZ7kcyV2tIGZo9Di6saPXjVjHADzn2hFr/ayK/OVywgxHsugpI0EQBEEQxItNXVOx//vf/8Znn32WfwVQrMW2CG+ZVzvV71YGjWUKcuJGQPneynLOBXuN72nqpxPGPhfmQlyZDI7DkhLf03jKv6dZQ4xvOYDbXBFdk6do3JgVr/UZVoxZ4+4BZR2IVzN5EkgoDxHNML5R/du3mrxuhEmsk+nGnEK/ZoX9OF9f8WLhvgiIIfSTDY6+FtNTQi4RR4ivC5/k5e7O4+hfdsD9sB/+W0vwnnLA8vpWbJX7myOH+KWj2LvLjcRBP6J3vBg/bIHhT63F2iirIn/bTXC04yknQRAEQRDEJqIu40ognlA9ePBAeZVHrFt+YqXx6jb914LER/afc9NqnxueY61/E5W4G5e/VjD08bhP8R8F3x+tBwazFTbMYvZKM89zGkQ+DbR8ast/59NpsSnfo+H7BYQqPcTj53nFt3H7hmBt+RU8E/YO89V3QYRLfUTlySH1qFQx74R1cJzLSxCBGwnkrvvhtw9U/k6sKXIIX/fySnHBeUCTzBhmh49i/tVpzJ53oMa8KvVzexbO9+bReXYWM4dN5RNQrBGrIn8GM6x9wOx3/qaeUhIEQRAEQWxG6jauVg2DEXt1lPXEjx5MpSxwfz1aMptcc6SuTGD+gdwoZU8PTK/L35V4pUOdMOHGUomyqGcENMjOIUycMiN4mqex0AFsIc8SSNT95X8GWd1oEvBNTiBYarC+ZsPoOQcMqSlMfBXhOSpFnsfNMffXLrRu6nbC9oGbxzbL49O7Hi/V/4Sw1FFubnT0DmCMy0vw/CwmfozBeajJ1DzN6l/3pgcTXwKOc6Mrsw8+iiN8k693dZXNZpmV62ZIxcPKE1Pj6yWxPm8l1iZoRv5qtgcjhj4fh/nqBCa+r+wQOXGfprMgCIIgCOLFYf2NK22igithROVTjMz/TWHo/TRcv3gxvq9Nc8C9EsZRSz+mrsaRea6GZbgi7f6eGwzf1WEwGKwYOm4ArnFl8ceEqiw+TyHycxh4vdVnDh2wnPbDeyCEo739GLscQ0bTRnMZJK4LQyKFLt1HfHqEMPH+BAJ3V4y+3IMIZt/bj9FHIwhfLZ3+nKvCh+cRPGdD4rQdA1+uzKaYexLDPD9v6Fo3xn8Ltq8+/jwO709OpE73wPrRPCIP5AWfc4X76hTcD02w6r4KyuXlAytw2wMPnBhodgbJr45i5JvIyqyRvJzjP0+g/9A8un1heA8XvKT6ugk94gbAjQWE7qsn5J4kELuZBA7wjSshhIWNkEsgLvfXg8HUo8hd+GoICeW0HDIPYojwaMWEGoFrYeXbstyDuNy/WjQhf3W0h47/dcP/gxWh963o/8SH2JN8pDyfIcx+Po+UoW6hJgiCIAiC2PiwDcEy8w8bmaHXyUaP25hxp53N3KruMLiMh15mF05NSxfNyekfSRb2uZmz1ySdsBqZZdjN/HEdp7SVeLrEvCd4+sT5BhNzTC6w5T/kvoi7/Np80RzBhifL95U73k2zpQBP4z7p6FakcdDFZkKlLl8ro17HylwnXcyej8fATLxs3YGlcseyJaTvLbAZXgeqM2Iww24rc056WbgsCUnmHVSPKV5knmqUh0b6jp+5hy1qmYp0Hhxl3js1Uqk4w63gULgWmpwMjvLrWvP5xE4Lsx+fYYsVijob1xxU8zQedrMF6dA2G5tRHSULeTgfVcpXv67FUlrfWbbkG2VWxbF0oTxlWfS8XSkTw26HbAvNlbfq9LjCuWXOjxuUv2rtoYDiOgYz7rMz1/lFliw8tkL6xVLkuJkgCIIgCGIDs0X84wrMhiCXySh3wDs6O9VXjoiGiXyxBT2nxRTYfjhqveq4WcmFMGaJYSg22vgrio98GHhjCIHJMNip9fQuRRAEQRAEQbxobIDXAlcQRlUnGVZEDYTT29gH9sYNK4IgCIIgCIJYRTaUcUUQtckgfDUBR69RbhMEQRAEQRDExoCMK2Jz8SSEQK6FiSwIgiAIgiAIYpUg44rY4OQQOj0Az211prnMjRAMR2zr5hOKIAiCIAiCICpBxhWxwckgdTeAMbMVI7/GEPrdDGcvfZVHEARBEARBbDzIuHpBELMEbtkiZgoUWwEMvaFub3nXp/hK2rwYYDs+DqshguB3XnQccaKpr63ELIGiPMRMgWL7dI9aPnyZEg6CCYIgCIIgCKJFNtRU7ARBEARBEARBEJsVenJFEARBEARBEATRBsi4IgiCIAiCIAiCaANkXBEEQRAEQRAEQbQBMq4IgiAIgiAIgiDaABlXBEEQBEEQBEEQbYCMK4IgCIIgCIIgiDZAxhVBEARBEARBEEQbIOOKIAiCIAiCIAiiDZBxRRAEQRAEQRAE0QbIuCIIgiAIgiAIgmgDZFwRBEEQBEEQBEG0ATKuCIIgCIIgCIIg2gAZVwRBEARBEARBEG2AjCuCIAiCIAiCIIg2sKmMq9xtDwbem0f8mQwgCIIgCIIgCILYIGxhHPl7Q5O7OYX+QzNIvApkTWMI+kZh5r8JgiAIgiAIgiA2ApviyZVqWC3A8kMcy/fi8O72w+bwIEZPsAiCIAiCIAiC2CBs/CdXTwI4avHD8us8nG91yMAcYl8PYCg5iuhZK7RQgiAIgiAIgiCI9WLTvBZIEARBEARBEASxkaHZAuskczeI2Q/64bkpA4g1IIfUTR+mxCugMoR4ucg9isD3xRA8/5EBBEEQBEEQGxgyrqqSQeKqB0Nvd2GbqR8j3wW5uk+sOs8SCH4zgv5dW9FlGcLE5RyV+0tFjre7WYzYdmDrGz0YOu1D7rncRRAEQRAEsYHZeK8F5mLwfRNCUm42xFt2jB40yo02keGK/vcTGDvnQzwFuCMM4/vkPmLVyD0KYX5yCu7vQ0jBjTAbh0XuI+olh8iX/bCfB4YuejHdZ5DhDfIggKMHBhAyz8D/gwvmtfjIMZdCiLe7qTPzCFG729ish3wQ9UP1QxAEsaZs4CdXaUR9Yxj7lC/nKhtb6UQIs+IYvnjvZ2RoG+k0wnbCi/kP5DaxJnS8boXrghsjcptohhhCn3PjNBWC55IwUpsjFeHyfx9IXBlB8LYMXG06DLB+OAc3tbsNz7rIB1E3VD8EQRBry8YzrjrMcJwYxeiJAeyVQTg2gWklrHxxf7uA5di08lTDaOhSjycIgmOG9YwVBoMVo8N8LUMbxWAZgnMnb1+DM7DtkYEEISH52NhQ/RAEQawtG/fJ1aM4wvIum+svJvVHJfZYMcAHjb3GZtVHgngR6YDl5CKSycXmXwkUbLdj7h7D8k/0ShGhA8nHxobqhyAIYk3ZsMZVLh5FQPllR4+5U/lVmS507bLC8JrcJMpJhTB1aSPNuZdB/PIsgo/kJkEQrfE8hdCX822eWZPa6cbmZawfkkmCIDY2dRtXJ0+exPbt27FlyxZlLbZXk9hNr/pjTw9Mr6s/89z34ejpUMEMcgkkrhiw7VW5SRSQ4wPRGPab92Pi0QaZc+9JBJ5396LbEeLDJEEQrZK768PY383Y/3mqfTNrUjvd2LyM9UMySRDEZkDMFliLd955R8woWLaI8NVhmc0dUK9hmAzLsBWWL9qY9cKy3BIk2eLFRf6/DSTDzDvpZNbdBjWfBhOzDo8yV5+aHndEHldKepktnF05z7DbxkZ9SywtdxfxeIktnHcx27mouv0HTz8/17JTXMPILMMzLPpU3aWLuJY4vyiNbuaNlJTAH8vMe8ykHqOzGI54eUmX0EA+0jemmXOfUTnOuM/Jpm8ssyXfDFt4KA/QIX3DzWwG/fQAFl6+WXmkIMzcSrib/xJk2VLAnb+mYbeDzdzSLWFJmi0HeRp7Tcwg4uHlZDvhZUvVTimjkTiyLBnxMvfhaabWrJpehyxLY98o88YL8pdcZNPDFmaU8TrOhvXl5Y80WwrOMNcJvyLj6XsLK+cJeRnk8d6pkKlskoV9PA2arEmyvJ6jQS+bOSHqWivfNIuedzATrx/jsL9INtLxBTZzfJT5K9atKCeexkEtXZpM6KRLyHuB/BoHp1n4sdxXQnhSjatiu9OjDhlO+uzKvuJFlsNDL7MXhduZtyDf2Yeij3Cw6Vt8g+clfHE0nxfDbitznuV90R/qsbrwPmbuhF22d1lOoSq9l2zvdin3ah+xUmbLPicz5dNashgczJtQjyskGeJ1dVDK9E57WT011k7rkI96+6w8si0Nu/Jxpu942ahMs1Knv5T1XrWpMx1V5YOjyWV+GfQWjz/11PHTJFuK+NncKVG3zryMLQe4PPHzDL38ehXGgbbWjxyPRgMyfY/D/FhbhX6J90W+FXkv69NKqaMtamTjJfXLj1vm+ZwT7YzTaJ5FWuvtu5tv02kWLhq7ebu8t8S85xfao48QBLEpqWlcffbZZwUdWPki9redAuXG9UtJT/jYz1wGQ2PKVp0sB1zMYrDyTj3K0lo/LZTTizxcpkf3ugk/c/LBwB1aZlmlA86ydGyOOUqU1GyBcqCUnzAcH3ODJCHzyJXo6AWHOrgcX9AfgGLTygBjOOhmiw9lIrP8PJ9Io4FZTy2WnZcVZaZdrxp15kOQ/W2UGbjiNqcp9Y+jbG5YKH/Fiqguf2S5Em+t49gC40oYGLf4oCwHOC1dleNYZv5hPpieWWTLUkHJijQe4QPmTifz6yic5dQZx9NltvgtV9ikIqWld/nOskwvVxSD46oMGVxsgSvF6USULWn1p8XJ99t9BUPy0yXm5wO+MHaUePc42UwwypY1Q4SX43JomtmV6xqYw7dSQ9nE4oqCJJbCuufKw8Ip64ocKkpjkkW5cZzkCowq67xcuVxGC4zDimX9NMqmDxq4MsgVrVia55ax6DmLPGc8r5AKsvE5Nn6eK2uyXJZ/kPL+ob68N2xcNSDDYl94UqTTUN7PcITR4iwo0+QNbpD0aQYOuKLmZ4v3kkp+BUI2vB/Lct2nrxhnI25m7XXly0mpQ0U2eNs9E87HpaG2d77vYy+LPlZKlk3vU6+PUwUly/sA/4ciXNRlFbhMzZ2ayRtm2XtetR0JuSwtglrtVPRXdchHQ32WMLzPacqqjDPB28+dJZbUTn24wMaVMrCw6ZgaVg8N952833SKNBjG2WJpxUiiZ83MdrFEquqqY96fXXSutE+l7LJs6UaUJbU64eFV5b7F+knH/Mx9eGU8snNZzz7kBo1W0AX9kkXcnOFj4VJMp0/bw2VOr3waaYv35piN1+d4UPZ//FpaH1VUBrXynKe+vru1Np1liyd4v3dkLm+wifw5heyWGtsEQbxU1DSu3nzzzXzHo7eI/e1GKO5a/MZ9VmY9IJf8ndvRioNdsyz7hJKnd/dLJXxKTU/ZYPeUGwD79M9TDJBSxS3Jld5hqXgOzrFlZdApRHtq52D+0t45IQfdCoqbmgc+EHJFuig12UU2Kq5XzbhqKB9J5j/C4zuxWHwdnnbvEUeNQU9l+UIjxpWdzekYQ+IJpihHx0+lBaUqzWXlIHjKy0IoWBWM1xUajCO9tDII66aXD8QnVUXFrGMAq8oFP/eI+nQqj3i6pSlAh3SeNAo0uYCNzd2TYRzlTn+vVKzK6p4rctKQF+eNF9xVT/82zuxavoWye9YulUCd+spGudzwsih7CipkwVhsMMh0FhmQeXnXNwoaMq4abYsCmX7xhKfwrr6iIJflSd61l4r/+A0ZXIRmsPEyKW0fIv879Z8kLV8QslxsLGRvCUO32GhWUOKxluRTKHqVy1FF1AmXhxLFT22L+mVcs53Wko+m+ixezoFx+ZTCzGWzvKVqY4ThTPET2Yo0lY6VNqtnfIt+ddzAFfXCp64N1rFoa+rNDCNzXlzKX1vchHAOV2jvBbRaP8n8zZka/RI/t3KfZmBu+XQpT4NtMXqGx3OAj4dyW0VtS6VyWXvsaKTvbqFNJ/3MwcNGfyu5ipAB3neUjkoEQbw81DSuRIdSa2k34UmpEO4ZZd7QIluUi188qhcDZD13hbLpladPtXi8wFyiwz1ZaiysUEnJUxT8DxcqnCdc3/LzShVmrrgp+StTeFXUa/HBo2gwS7OF4+pANh6qlEquqCqvL5bc0dWeBFa4nqCxfMjr7NFefyvgcZRFKw56K+TzWPVYzbiqoDBWKkdFIXCxBR0lSqAayjrGayFNxVE9vdqrRsXGhUa1c+W+KnKvGZplr9FWlbUa5ZsnybyD4rjy+lKfUJUomLposlmafy1u/TQ0Ylw11RYFXBkS7SNvIArFcJCnp0Lda/VYMU2K0l1aXqoiav12SW6XoKUhbyzIJ1TD/nKFV5fq5ShQlXt+TIkcVctPfe20kny00GdVjFOi9WmFT+8q0kI6YtPMLK6jUw/pgLNkzGi0jgU18lmD1upHpfl+qfK5jbbFxZPiGnr9CB9PiuSijjw30Xc31aal4Wk+W27gp2PRfN4Ignj5qDmhxZtvvil/6VNrf+PEEA6o7k4N9gE4eq2wysU+PI2JDwDrAUuxz57nOeSey98KGQQ/2YZtX0XkdnVS1+Yxyy/ptFnR2Ey1MQTOB4Fv+rF1yxZlso/ipQdT4rAf40goxzdCAIlCr6+ZMILfiQAn+nsrpdII62E+fCMC7/VG5gxrNB9G7OV1gNtjsFnH4Ltd8Gnxa2aYSycgWWNiv84iiFn0/0kvL1vQ84U4yof4A+VwXdoRx1pi7B2CqPnUnUTTzoIbJ4LgWd7GTjhgqzlTpxHOoHIzB/7DRa23TbTQFrc7MO1z8H2jmLgcge+jeRjPjsPS7AQ5HVb0HxM/eBvWZjTLhBD4MoXQB906aeOLcUiZHTUVi6v1dzOI6ZvA6GEbas2VWi/GYwtK+bOfHE37PGuIVe2zJHfrkPdW0rHHDlcfX1+ah/++GqSSQejXKMbeLRgzGq3jF5bG2+Jei4vL5DwGLAPwXC+clIWPJw365lqVvluvTe/cC+s+fr1Pbdj/iQ+xJzKc07nHvDZtjCCIDUlN4+rw4cPylz619jdMgX+roX1m9UeeDNJJM2x/McptQQ6h091w3yiYIysXReg7wLWnhn8shRyWYmLIs6O7UaMgk0SCp9UdUZXGygtX1OQpTXM/Br9YD3ZzNaAyxl2q6+XYvWT9syk1kQ/zx0EsnrIC1z0YMm9D19tDyqC4/mSQvMeVo8mwTvqLl3E+MOrTjjjWGINBlYsriSYM+Sa5v4QQr3K7ubvBmxKCHFI3ffB84MTEFRnUCi22RePhWcwf5yqXowcLB9xwbJc7msTwBm8bnKh2h+QB79d4H+N9qJemgkUaPok7Ia6A27HX1HjJ1kvuETckvxqB87Tq9KLtrGaf1QgtpcOIgWNOvubq+s8FRtd9P+ZTLtgLFf8G6/iFpYm22HlwGqGLThjvBzBm7cLWXf0YuxxvQh5Wr+8ua9Pc8Bv9dRHjvUDo6yHs/Z8udDs8Sp9IEMTLTU3j6ssvv8Q777wjt4oR4WJ/O8nEwsrdPWHslCsWHdj7nhfOwgHtUQCzV10YKLwj+XsEXn5+bf9YggxSzT59eMY7cr5KPl4VlWDtaCofnbBOCge1YXgn7dj6u08ZFHe8F1g75V6XHDLiDmIy3YKi1o441olDxrVT3J6kEJI/6+Z5CpFLY+jf1Q3nD2mYPnJjfFDua4VW2+KzOGKP9sLGFS7f+XlEnsnwFjG9IWsjl0OMt4xkwd3taqRSDZds3aRuzmPMtgPd73uR3u2C+3PxxIaoRGefA+O8GmO+EK9DldjPs+g6NlBsrDVYxy8sTbXFDpiG57CcXsbCeSesz4LwOLphsk412BZXv+/Ot2nBa1a4Q0kkI164B7eqbk+6duDolfUdBQmCWF/q8nP173//G5999ln+FUCxFtsivN3Ebyv3GIEDNljKniR1wPBnU8FrMjmuqE0j95Ed4hlX4sej2P/3/dg/PIMUH+Zm3uO/3/fVUPYNML4l1gEsNeqU8HUT9vJ+Nnx/DTrSnWYMiPWVpar5SdyLKmvzrq76XydqJR8GCxyn/HxQXMLcEQMSlwYwdnk9b90ZYDLzzESaeRVTox1xrDGPEoriZzAbq96dbysGI4RankgJVaoOnoQw8Xcz7D9vw+gNrkR964LtrS5slbtboqW2yPuRs27gcz8WfpyD7eYE7J8GWzLOE/eEcWRHt/YEbLsJDqF6P6wvVsN2pWTbrKhnEDq9H+ZDAWw7EcZycAauPhO6Vuvh2Gr2WY3Qajo6rBj4hI8wt6fhv57j1RuC/4INjr6S1DZYxy8srbTFTiNsH85h8WESCyctSF3nbfHr+l7vV1mtvlunTRdg2McN8J+Wkb4zB4chgfl3x+AjJ8cE8dJStxNh8YTqwYMHyuN0sW73EyuVgu+t/lr9FQ6F+164T++F86B6pPEI75R/88JlTsEw6UX4t0UsXnDUjMdkFq99APPBQsfE9WCCZdiA2FkvQm26012Rzh7YjvNBA/NYEAO8LgmELovnfhYM9Za+UlmNBvPxKI546XGdJjgnPYqyHVgLY7MKpn1OGLgi5L3WWG0W0o441pLEjQBCvN7HDrb8Amr9cGWyZw9vtVfDiMugclJIKUpGBsHTQ5i63o/Zi+OwClFuK823xcRlJ6bfmMH4Pm5l7HRi5gc7Ut854brcpBznwgj9yPuw407YtBtEBjOsfcDsd/66lD7j2z0w8/4wyJXEijziZSt/1kPm1wkMfRFC/7dejPe2vQLKWdU+qwHakA7zIRdsvLSnfgwiftWH4PsDsJYapQ3W8YtLo20xgfhd+VPjFQNsZzwY5z8b/Y50VfpunTaduhsv0xc6dzvhPquMgivfZhEE8dJRt3G1JhR8bzVQ63upBwGMHDmK6MmSj+lzSwjzTrDm+QV09vEOkSuJqS8n4LlZoUP+Q11lnxbu74D1fW5QpDyYOFPZY3yKGxutd/OdsH3qgcPAB/jPPbqvSiQuT2DiKlcPuJHjKnx18pUO9ZuYG6V3bnNc8RWpbjQfMcyerXxcPd+6dfDBUwxA0XhJyaQaUxj16Oh1wjOYgue0G6FKd/4fJZCoUintiKPtZLLIyp9FPPBh4vNgeb2vOmYMfe6A4Zob7gqGSOJqFGlFGYkjpkwqYERX0eQXPEdFk9E0S3NtMXdzCkev9mP62MotGOMRrpgdEd9fjWC+aBKDYtJFfYFGDpGvJjAFBzyfFk5GYeRlNQ7zVd5Gvy9XylRySNyX0r9nCBNHDAhNuuHTfW05geCddNEroB1KIw9hqSTNOW6EifKI355V2paxq/iJS7ZK+bfWTlvos9pKG9KxcwDOYb6+NA3n2SRch/QMwQbruA2sZj/aPI22xRQCp+eRqCCHZoupWM5r5LmVvruhNh2bhft6xVEQZuWNGIIgXkrYupNl6XSaL0kW/VadDlX43ZmJibDSZZlFQ37F8z1Xhfhx5pLpezm33MzQxLS2il8bMdWqcCJ8MZx3PCimdF+64WfjchppsRgPT7PFgviF53iLCB/k4YmCiXmTUeafdJc7rK1rKnb9aWErOsJUHFLqOMJUWJmK2PHDsjo97h9JFg4sFk0XW3c+pH8Py4dzLJxPwzLzf2jR8XdUAZ4PcS3hd2ZRTr+bvrPAFu6sXLfWNMBVyzHNzxVTWe+0s+m8E0vOUy5nATdzB+pIZcNxNDdtsUq1c7V9on79bEmbrlg4J43MMOdO1Tmp7pTdqzwVO694Fj4j/HsZmO3MAk9bgUz+MM6m835u0sw/LOKwMLfmt0iUYyTM5o6JcLPqK0c4i763Uj6NTMUuaKgtChcMO0fZot6UzQ+5jIv+QMcvklaPwhnpTKTQ4egS8wvHpzxcz8+RQHWazOsr7xRYwPtA4fT55EzxtcSU8MJPmcHG3MGlvGsJxbHpyemydKV/cSm+mpQ2KI9N8r5L66vE1OEi3ZZJ3kcIWebyk4yFWfiCGm6WU4Sn7yyv9At1tdPqU30312fVORV7A85am0vHCtnQuFK+tabHb6iOa+WzFm2on9WYil1Qf1uMMresl4W4LFneD4TP2ZhBzy9ZPXlusO9upk0nf3LwcyzMxfWFvIPre37m2qfjm44giJeK9TeuFGNIdN5NLH2lTgf5wCYcDOr5X6oH4eD3uI2ZhFLFB0fTQRebkc5Vw2ctzHliTun8C4etPEXn8oFit5U5J7kiXDgKawpB6SIVX02RLF50BkRuZC6cdzGb5nnfYGLWYTfz8kGhIk+XmPeETTVK+fGOyQUdB8acevLBSd9b4MfZmUU6XzTstjHX+QoKfgXSN6aZQ+bB2Odic7e0szVloHSRA3yFciwb4IUDTZ1y8t9pIJV1xVEjvZqBU7KoBkOFc4uURqngHHCx8YIyr5qfqrJWKb18KVFW65XJZGiGuQ5KZ8cwMsswV6hKxfFxmE0Pqo7Ai+o7sSCdHRuZ7YRfkcu8slOy1GVk1ZRhTWEsXFaUR908F5RLXqE84WbOXi3PPE/77LwNLLKkXrsqIH3Hz9zDFnmDqMZ5pfK3k/dDZytdI1vgEJX3X4e5slqkEHKFVXMou5O314tR2V55fyIdYBv7RstuBlVup6vTZ1WNs0YfWpNm+s48UTa9p5qvrBXqqWP9fIpF35CpRNP1U6FfUvvRGv1S1T6tgDrHE5YMM++kk1kL5VwcV2pYSarlOU8D/X9zbTrNloO83xvU6lnqDDd00kIQxEvFFvGPdyIvCBkEP9iG/tfCYJMWvh3D7FdpOE806r+KIDYSEUxt6cHEoBfJF30a501A6vIAuhwBZarpDTMVP7EmJK74kBl0KBMoES8O1KYJgmgnG+ubq5YR33UAdpNR2Upc9iLX20OGFUEQBNEyRjKsCIIgiBq8YMaVGbYzFiRiC/B9MYLZV10Y/TOZVgRBEARBEARBrD4vmHHVAfPJMMKfD8B2YgbTcop2giAIgiAIgiCI1eYFM65UOjo70UkPrAiCIAiCIAiCWENeSOOKIAiCIAiCIAhirXnBZgskiBcJOUug3CrE7kvCf5jmDVxLtBnFynEjzMYh5iclCGLzQG2aIIjVgIwrgiAIgiAIgiCINkCvBRIEQRAEQRAEQbQBMq4IgiAIgiAIgiDaABlXBEEQBEEQBEEQbYCMK4IgCIIgCIIgiDZAxhVBEARBEARBEEQbIOOKIAiCIAiCIAiiDZBxRRAEQRAEQRAE0QbIuCIIgiAIgiAIgmgDZFwRBEEQBEEQBEG0ATKuCIIgCIIgCIIg2gAZVwRBEARBEARBEG2AjCuCIAiCIAiCIIg2QMYVQRAEQRAEQRBEGyDjiiAIgiAIgiAIog2QcUUQBEEQBEEQBNEGyLgiCIIgCIIgCIJoA2RcEQRBEARBEARBtAEyrgiCIAiCIAiCINoAGVdrSO5RBL4vhuD5jwwgNjSp67MY+Uc3urZswZZd/Ri7mpJ7GuRJHMFvRjD2c5Pnv6ikRHsYgOem3F4tVuU6OaRu+jDl8CAmQ4g6yaUQuTyFofcD2BQt4nkG8au8L/h0k6SXqEnmbhCzH/Svft/TQt+/ZmlsAdJpiM3OaskwGVerTg4JMTDbdmDrGz0YOu1D7rncRWxMnifge68bo/etcF+cx0ivAbgfhOdSqCHlKvMfoXxz4+x/utH/0SwSObnjJScjylKUS5doDwHeQlaHVbnOs4SiLPXv2oouyxAmLudWLf0vHNzInf+0Hzu2dqHHMQFfZoOX3JOYMuh2v7EN3bYRzD6gmt7cZPhY7MHQ213YZurHyHfB1et7mu771y6NzUM6DbHZWX0ZfomMqwQC7+3All0DmL29lt1VB4y9A7D3WWHlOvrLyXqVfTMIw6oHM8Z5zB8zofM1C8Z/CWL6oAnOQQsaqcLOPTbYBofQs1MGEBxe/69sQ5fJjG2r2h5av07u5hT2d3Vh/yfBFaP6VSOsh+yw9VqryMJmkvc1xGBBv93O+0KjDNjgvGaG7eAAhv66SdJL1KATRosdQ/+0wrTKY3Hzff/apbF56tFpcoh8uR9dXfubf+ND40EAR3dtwY53ZxGj7vSFQ3ecXXXWQC9nLwsPvczOsyuyjMmwDFxbwpPq9d0RGfCysAHKvl6SPjuDYZQtPpUBbUCJk+fd7kvKEEKwVu2h2eto5wF25n0oA/OEmVvZ5+a/SthE8r4uaOUz6GWbokVstvQSNVmrvqeVvn8z6AuV06j1j623G60MN3pZEM1RfZxdfVarnb08T65et2Bo2AjstGPmoFkGEmvCZin7XAgznwRg+GAA1ldlGPHSYj7ghtVggPVjJ6yvy8B6oL6GIIiXGjOsZ6wwGKwYHa72lL82BssQnDsB4+AMbHtkIPHC0PQ4u8F5iV4LNMJ+cRnsnh+uPR0yjFgbNkfZZ64FMJUChvaRQkwAHfvGsZhMYvGcrUHlgPoagiBeZjpgObmIZHIR030tvne13Y65ewzLP7lgpu70haP5cXZjQxNatInM7z7Mtvpu8Sblxch7DtEbs3xtx95dDfTgqRCmLtF8cUQjZBC/PIvgI7lJrCNUFwRBEKvC8xRCX86/lDPq1m1cnTx5Etu3b8eWLVuUtdgmBBlEvhrA3reHEMrIoJeGFynvSSRui7URhrpun+S4UjaG/eb9mHhEX9kSdfIkAs+7e9HtCPHWQ6wrVBcEQRCrQu6uD2N/N2P/5ykxvdRLR13G1d/+9jf861//wn//+19lW6zFtghvF5n7EYSuhxArUFRzj2JKWOhmoj2DXxWfE4ogSJ9GXW/3Y+xyHIn/m8J8tbnv+eA89Q8Tej4NIME3A44uxfjUlp4vIlWFKnc3gKn3erBDHN/VjaFvYlXyqU7RetSqplEc3/+pD/F6CuZZCvGbAcyfHsGA5Sh88i5t4ucx9O/i+bVOIfJMDdPI/F6Ytv1KeRTlpdG81/L38Vz1fXPUskPGsQM9745g9mpzda/4INLSz5cdlgGMfBNEQjeyDGJfj2Dimvi9DVtrPbgSU7W/L5QyD0IiO6d7ZJrVpeufPqVMKsLLTvgv6e5S89kvyrDaNKDKFNYD6OF1peblKDzX639SqPpLGUNA1HsmgeBXRwviGlDqtrRYcvy42FUfZj89iv1vc/lQQnk5fTOkpHvHe2q9F9JYmZcg7nCJKc7fVuVItMGRb0JIVSmXmjKqR0PXacGXlY68Z3h/0v92D8auKC0GQ2+o5aQuPZi6yVN/c6ogTFsG8m02dXmgZJ9WNyU88mGg4nEp+N4t3LeFX1vuKkTmof9rmXtRdnnZ4e3zvVnESvqNYkSfNYuRd0tk4txC9fbBSd2cx1j+PHEt2dYKaaJf06irLiqSQaRAhnbYeNt6IHfpIdvc/gKZ02tzFdH8bP1jRQ5T1/lYIPtK0R9UnZWy5vV5X67ku3BR5aVc3vjyrk+Z1atuWSyh7nbbar4Fio+7lbyLcXP/e2Pw1pPQUto8RuVpVxo1/3GyvSptSPPTqMSp04YKaXf+StKji07eFb2mVB8pHMP0aGCMzPxfsQx5/i/RwtPrHDIPYgjy88fe24/uL2WlZWKYFVPx8zI8qvQxBTTQH9Srlxb5ahL1eIn3gfn49+PoV9XH0oZ1DJEH3gcOFMoKl6/IE3V34vJR7DXx9ChxTKBHOUYuXUPwFfWXOuNsq+NgS31u+fioLFynVSnvLwcu65SVnNiiIp999ll+pha9RexvlXTQxUwH3Wxu0sbjNDJXcJlFz9mYqc/Fpi/OMfegiRmOL7C0PL5R0jE/cx/mccg0l83cc2+O2WBh40EZnk2yhVNW5fh6ZhDJ3pphVr14SyiclSR9J8qWHssdj6Ns7ohBP20Ky8w/bGK2M4tsWc5il9XO2elk/oQapk+aLV10MiOPW60zMSNLli3diLLkPS9zGFbSpJJmi6fGmZ8fo/B4kbn3iWMsbOaOGlRIrbzXLHtBYoG5xDX2uZg3Jmv5jyxbDrmZjafPODzHluqevW+ZLXxoUdLr8kVZ+g81NJvg+TioltdcXOZN8EeaLXC5s+5Wy794MbDRYGWpyz72M5c4rsaMcCszRi2z7L0oiybl9YWcnRRpBTPzOApSlScbcTNrr1ouyn5RLsFxZuFps57RP0eF13HAzRz5fJmZ8/wCiyZW8iPKZHrQqOw3HPHykpP8sSL/6rliRrwki95YZskbbn5tEVY4s0+DZS7R2oPtlJ+F4zJ/nGwizOaU+Hi6evm1y+q+MRlt+DpPl9nity5m26mepzsjYIXZAmvKO6+/6Hkr31dtZqQom94jzrexuXsyqIR0wMkMJxer1L9GlVkNOXozJWXveNnowZU8KPL9eJktabLD20z0gkPZX7FfTvM88Lo3Dk6zxcRKKtPxBVUmRLy6s4hlWfiMlVk/9LLoY3kerw+lnRisPJ1aXI32azrUVRecgtkCl3laorGkLPcsSyptke/bw8tXrzISfubcbWPuEG/7SrvIchmZU9JnHPavtDk9ni4x7wk+Dsq8KHXIy375znK+jWlxweBiC9p4UkgD11++KMZfMGegpEazi2xcXIMfr1fX4jzbxao5kdTZbtuRb85ywMUsXGZGRZ+k1Q3vc8MXebgSb33ju0KTY1St2QLbksZkmM0ct620hb5R5uf1rQ0zLMvbq2+UWZXytBS0oQKazJ9u/8H7/aL0VBgfl38ReTQy+1mp1zzmaZB1bv+By5PoZ4rGMP122sgYmf1tlBkMDjZ3R+ZR6FHDYgys0QdUIrnAxnsLdAeR14dRFr7H63BSHVuK+rlG+oM69NLkjRnm6lPHcLHYTvjZIr92vup5/rwfy7F8H29HOnXYqI6RjU1zmeD7Ptb6aN7XK+2YL6cK6prLnf9DEa4/9tQeZ5scBxvsc/VkWCDiFuGVx1mRvsppq2lcvfnmmzLj+ovY3xoigdxAEB1kwRTGFi6kQvyTPINqI61QQXWSDE0zu6zE0o4ueoY3jgNzJYXOB3neOOrqfHkjaMS4susNREpD4vuP+EsUDjUdojzKKvjpIhvlAlOP4Zn+TSoBvDNzXlzKx5WNzzHnsKZYq9cqLWvRIemVm0Idea9W9uwpV/5Ew+QdnlfHSBQNX6S7SPmviJZ+A3NwQ6aMqteqroTqwpWOUXFOhcFDQxtgzacWy+tJU1wMbt4SSkhwJXGnfrksXxCKkIVNx2SAHtxIWjzrkEoKHzx0jfBl5pWGve1CYZlxRVUq0KJzGw+t1JuQJXteHpsv80qdmooWb6nh2biMNnWdNFfwtEFJVyYqy0tVeecsX6it0GuKrr7Suszm+szV6z5PdbmuWDZJriANq+WCQd43SqV2BZ6GA+JcB/OXZlHWecU2y+W60tTmyz4HM+qeJ/LMz9k3XdRO6uvXKlNPXeTHpT3jbLG8AbPFk6L9GJj7lgzSUMpBX5lVlDx+juuXGj23aMPnnTKPdjan2xeIPIA5fiopzUav/5grJeI6ZUaUlkc5ThdRXcFYocF220q+OUKODJUMCU74lIi3Up9QQtVxg+ehyhhVzbhqZxrT4oaIpmQXKrgFaOksczXSQv4qKqYiPZrRoTM+Jn/Sz7tyrcIbxsoYZpc6oE47bWiMTDL/ER7PiVJlWYyBPI5mjCvB06X8zXH08T4iX9Vp3m7sK3lssD3Wp5em2RI3nDUDZfyGDC5iZYwzlOa9QR0je0vIgs5Yr8RTePNLwPuNEyJd+mOPQo1xVhsHzefKtCOOzjjYRJ9bcQzM62a8TsujY9nQODNUuOEkqGlcKQJTY2kJ3pjyFX5jXI2TD2KqhS0bgwirkol6qdTRLZ4U19AfOKL1KDA8D3rxllJdyeNCIfJZKmCK0eViCzp3HARqB6yj4JSRZN5BcWxlRUIVPp00VMtfnXmvVPbRc2qjr3znc0V5qamIxKbVwaOvtENaQWkQ/Jhyg7RC+VdDU7rqNK70y6hSvaj5tn67JLdLkAqq4Yxep1OMKndVFEjNsOcGXnFO6iiTFsq8envgyJsHEPIvT2xGRpu5jkq1/Fcvm2p1XrM+BJqiWza4ckR9VSnvYqqns2rZyDKtJN/5fJQMzGqbrqJwV/IbpQxmVjYTl9slLP8gyrTUiKndr1WjrrqolF5JpbpWFIMPF4qVmTxhNi7iLLuZpkeNdqjJvrjbX0Dj108z/7C4jk7dybG57KkWb//mOsbmpsaWJvOtPQGp9mS3Zp9QQCtjVMV+oM1pVKg5HmnpLE5PK/lrqv+QeTefrT12qbRrjJQ3aPYU36BReMx1vSb6jzw1+kpBo+2xEb1Uk7OKsqIZCkVl2Gj5ySdUdeviWr1VaL95qrRzbRzUqzPR95SMg830udVkOHrWrOwb/a00RlF2RjYeqtR66/Bz9eabb8pf+tTaX4tEIgFn716Iz1wScfWdRvM/B2BR/AwZYD8bhte3gOVzdnQqe1fIZWq8b10ney0ufqV5DFgGlHdEV2I1w7zOfhViv84iiFn0/6n4HU9t6flCHOVDvNo7/3XScWAaXOi4tTwOrjCvATGEfhB1bsdQr1ENKqMDVhtvXkhh9mq46juzsete5b1b+2ErKsbW2w8ltu+CCLf0ovwqkwkh8GUKoQ+6det9i3EIAX5YKhZv3av5TiuGDvF1KopEg++dr2qZv9oD2xHxYxaxu0rI6sioznXWndessB/n62uzCCgTrawQ+3kWXccGKpb32hJAokgAIwie5RJxaAjWnTKoTlRXCCGMmHTknS87/qlIPKL3Wpb4NSCGwPkg8E0/turkRfmuSxz2Y7zm92f1EnhQWC7NXL+Tt4NxPhYGEbhRnKrEPfVriPlfCyf/yCH00yw/x1Y2NpeymmNLcb65hFybxywPctqsil7RGu0dozTam8Z60dLJy+y+Vr+rk79qqHm3wnWoRZcnDY+RRuw9wKXv9hhs1jH4bhfk5DWu662qj6XG22Nb9dIOK/qPiR+8v9bG+EbL72YQ0zeB0cO123vbeM0Gx0kDr7Np+K8X6/uxa17sLRoH29/nmg8M8dIGPJeDxXL/JAjfVRcGeiu33prG1eHDh+UvfWrtr4Xx8BzcfaKqUojdCPG1gQtTQaMzWODglWksrc3bHvRsG8p/4NYKnQenEbrohPF+AGPWLmzd1eAHx6tGBkkxqE2GxePBqsv4PnlKOxEftF8aw9CxGRnQZlIJRBXFcS+M25UQfbZ3866fE6nWKFJIxFQFYO+uamqnEd2DYh1ui0G6ajyI8xTa4X2oX9/55ScHbzGt0gWDoggXdLx1sdpl3oGtf5I/K9EWGa3jOmtOJ6yDQtGNwXst/5kv12dD8F/gA47SZ25A7i+pH83vNjZs/CXuh4FBr1TCKy/+w61L/KqTUWcfdUf087CyrNKNrCavL26EjPDiDZ4PcMnT4ErLlR7MnOHj8qUgQvKjdeTCCF2vrmBUZNXGlhyWYkIltKO7HcpyW8cojTansREMRljF+k5CVZhXJX/V0PJuRXeDN1/KaGKMNH8cxOIpXgLXPRgyb0PX29qkC6tME+2x3Xqp4Q2l5hHV7oY1WH6JOyEuM3bsNa3d7QDFsH93jBs4KUz9WGDg6I2Dq9Hn7rHD1cfXhf0eJ/HrPJIf2RXDqxI1jasvv/wS77zzjtwqRoSL/W0ht4Twj+LHECx1WOWJW0HE9vTA1JbOqQOm4Tksp5excN4J67MgPI5umKrMNrU25JARFZpMr6mhl7mv5n9HrxuxjgF4zql3u4g1JJfjKk0CyYIGvfrYYdwEeqvgZZDRjt4BjPG+MHYumJ8JSTzdCb4/AOtajm+N8CQFcYusGXLPuDp/L4mk3N7UPMso+Ug+XqdbdE1f3wLbJ1xluO1FSFG6eb1c9yM86OBKhriLO4/gDTXOzFUfgu9aqyoYpax+u80gtZFvmilsgDS+ZWzDTblmaGPemxojO2GdFM6Nw/BO2rH1d59iuOjNfttWmmqPq6OXmt6QNd9g+aVSzfbsLaJj4Ch9T+k4uCp9rhEDx0QfNQ/vNc0IF0/IuuA8WP32YV1Tsf/73//GZ599ln8FUKzFtghvG79H4BXrwb3orqk4qE+5DPaehjr2mnQaYftwDosPk1g4aUHq+gTsX2tqzXpggMnMG0LLd4vqJYf4paPYu8uNxEE/one8GD9sgeFPW+X+NmMwYq9iSEeRqNbhPlhSHk/DYqpyN9wAo1mVhui9aqWVwNIVseaGebU7devNdhMcout7uBbKmfTxZahx97KM1S7zDNKKpu2C+S0lgLMaMqp3nY2AGdZ/8vJNzWBBeSUig9DPidZfp1lNeJtW7nD/nmi4zzK+5eBKPR/s10LkV5vXTdjLu+5w/vWrNaaF65sPuWDjfc/0r2LsyyD4YwpDQpHYY8UQ76/nlVcDuSz+moTrYL2yuFZjC++TlDYcwFIb3mpp7xil0eY0NkAuEVdufthNMpWrkr9qaHlPIt1qO29ljBRvRJ3yc8NlCXNHDEhcEi5JVvEJViv9QVv00hwS95SaR7c2BjdYfobtomdf6xu+ghUDZ/5XUX4J+L/nfU/pOLhKfW5nLzfu+Drwo3QhcjsEf58DttfERmXqMq4E4gnVgwcPlMdqYt22J1aSREw8cgSsB3iHqwaVk4tg6u/7sf/vdoyJp1w/TfDf++H5v1a+vUogXvqdxSsG2M54MM5/prTH5+uEaZ8ThtvT3GpuJY91cnsWzvfm0Xl2FjOHTWvwXq1QHsUD2gC81ys1iBxCwXm+NsDV11M1TebeIeVxb+ByqKJil7u+wJsoj+24DT0b9M0qBQMvmz5g9jt/xby0jfshBK7xcfNTW/2PyyWrWua5KMI/8/NO2mHVzlsNGdW7zgbBfFAouinMXwsjd9/Py9GJgVZfp1lN+IDdI5S1n70I3VeD6sVgtvK8zmK21C/MpsQEy7ABsbO8HNbl7YcWrr/TCjvve1LfLiD0ux9eg6ZISGNf3EG+2aAsruHYYjKrT8PmgyE+erRKe8cojfamsV5yCF/38mS64DygaVmrk79qqHmfRTBSOee5Ryluvteg0THyURyl/rPQaYJz0qPcEFr5Dm01aLQ9tlkvFa/wcp3ZcNwJm/a2V4PlZ3xbPMyI8XqLyxAdeL2thr7cyY2ZcS6yyuvK/wlg1qDX96xSn9vJ+0Px3dfVAB/TxHemfgy8W/tbybqNq9Vl5Xsr69tV7ot0WDD+2yIWz/Qjy5uD5yr/zbdH/7eVd2RSCJyer+jE1WwxVTb2NF4RKeeNM7ZU0lFyQWtR0jp6nfAMpuA57S5657OIRwkk2tBDp+Jh5fUj4+tdaoDG86z8oUOLeTcf88C9jzeazydKHMup5G56MPFlCoYjHowerNGt73HBM8kHiqsTmLis0108i8Dz+RRSXFnwcEOi5QH+lQ61gd1YKumcckg9avW2nBFDn4/DLPLyfSXnuDkk7tcrYBlkdSNJwDc5geA+NzzHmngi0oYyz1Zw4Bv5agJT290IfL7SkTUlo5JGrrOadPBBUigz0XhJhfAGU1abOwfgHOa7vvRh4tt5mOuYPKAYLqPKnekwlvSMnT/UVbJtj4vMGPpUqCpBTExWcKat1QOvs6I62TmEiVNmBE9PYP5uhQ7tGe/r2jh6N1QXDdEB6/tcaUvx/utM4SQQxaS4Qlchpy3SyvXlneLUPCaOBdBToEgIY9/KzSr38cZksZV22yidfU64ucynvpyAp5IzaCn32ae1S7+tY5Sk3Wks4mlWV6bUdAKOc6NFd91XI3/V6OxzKdeb5UaN7uttz2II3euoQ7YaHSNjmD1buS249pjUH4+CyquCW3b1V66bhmm0PTanl6Z1ZUWOcSgdgxssvz28fz5iQGjSrSsnQpcI3kkXpatD6ThCZWNPXcZzIR1WDMjXlV0fVppEZ7X6XO27ryBmv+Vt5LYTdmVMrQHbCGj+gjCqO598KYp/C72pGWugPy1qlLnFlKgH3WwhLieY/CPNwudszFDB6Vo5copK4bchJONIL7GF4IrfFUH1qVWrTEeZ5vtE/DvtbDrvGI3zNKk42XMHKk2hWkgdUxaLqS15GhR/FkrCsyydiLLwT+OKLysxBacouWxiSe4X1Jf3alNTV3RgGOTX5XXTHifC0tlfBYe2Vcu/Imm2cFydotbxA68XEfRHkoUDi0VTfVbNe416Wf5B+AMpdNgnEPWyyGZOztQln5rcGXrHmV+TcY5wojszbFQd6K4EF1BvmTRX5lq6tHrP5046PjTy9C6WTkPbhIw2dR2FavmvXjZV61ybvp73L9p103cW2MKd8jISiGmslfQ30ecJVJ8yah+3qDlwzSbZ0m9+NiqmJlbywdsZ3++/V5CGGtMLV+7PhNNz1eeOcCIs+tV8mT+MsoXzTqUOlbgNVub6oaCv+EP6XStzrJpmy6EZNv5tqb+/1qZir6sumpyKXZCWTrdLnSlnk1Hmn+TlreNfppwa7bBKPTV9fW1MLpvyX05nXea2oQZNjS3N51v4S1Kc5go5uhjOO98XcrR0w8/GC+X+MC+bWrLT5BhVTTbankZNToXPt/PhIifCSwGRTh6u54tQ0GT+quo01foP4ehV+Gbi15uLrOg0Ysxwnyx19NqmMTLpZw6eHsuHcyyc7wd5X8XHrkIfXlqdKUsFH0dlVMtrAfW3x8b00nya+Vg7Eyl0IrzE/MLxMA/X82UlaEjHEH6kxJhusDE31/G0/lkZS09Ol6Ur/YtLHXvy7Z6nlct2sSzXaOcawgWJOK7GONhon1dVhvNofh113FFUYGMYV7JTMHxY2xmuaGjC95WhhhAXoQl+yZLv8JJh5p10MqvmCXynhTkn/Q0o9JzHYTZ92KQIEnbamOsiVwzkrqLGWrColal1HCVL6UCuOFV0MZuWRoOJWYe5oGiexquQVy7LllJhzioO6dQO38QckwvSeWiWRc+rjvwMux1s5lbJNavkvWbZawijxOdmzn3SESIfICyDLjYTXK7Tp0IxyYiXuYcteS/xxn125jrP81MWWYXyF0sFZaqIp0vMe0J6oy8qM06NvOvXS3kHk77j18kLN+C069RAvQ5XYk+6mD1fvgZm6nVyw5x3kPK4FZork/rLXMLrPBqYY6PDVmaRThBr13sTMtrwdSrlX9RNtX2cOuU9fWOaOWRbNvZxBaO0TRUifZRU9kNTC7XMVEeTvN4P8nxLp9Dhs7yvOzFXZACtKGkli+xz9eW2VPERCl1Be9b6VJHNh1yx4mmY9hUolEWUnKvVVYEja0H9/Vp1KteFNuiXLFobqFDXZYO0cMh83CadeQv5tK6URVXaI2vNXV/1gaOnSAhfMvX7KNJopN2uRr7rkPtaNDJGrUca8zcBRnk/bM3Xt2h79uMzBc5tK9BA/qrqNDX6jzxprvhzvUvrkw27bWzUVzwe1dfX8KjqHCPT9xZ4eduLrunihmjhNTW/jOq1dJyDF1Ipr3wpq2uNettjA3pp3og/weuvV+pifKlXV2hIx+ByUqSLinSdrXSNkrHnMDcW88ZNjXZehuqHr65xsI4yrq6Xl6P40KrX2OZsEf94hOtOLpMBXu1ExysyoBK5EMa27kfulzRm2vCImiBedCJfbEHPaTHlqh+OtZ76l2gDCcz/fQrbfHOw1/iIliDaxu0gQq/bYC2VuQchhJ5bG/ZjRqwyj3wYeGMIAeG65ZRFBhJN84CXp3EUe28lMf5nGbZBSV0eQJcjoExDvipueTYIues+hN6uPZnEapC7Noae20OInjDLkOpskG+ugI7OOgwrwd0YQrCj523VsMpcncL8RnH8SRAE0W5uBzC7Z30GFOIlZo+OYSXYToYV8bIwADPJ+oaho3e9xkExU2+soZl6N4xxVS/iw9iY5vDuWQSz10zo31DTJxMEQbSP2HU/bH09+UkFCIIgiNUlcc2L5BnnhptBllgHMmEEHzgauqm06Ywrw1+H4DBEEb48i5FPo7BN2mvP5kcQBLEpiSF0bQADvWRaEQRBrAW5m1M4emMI3pNmuqlFIHM9gNyxARjldj1sOuMKr4tvR7xw9jkx860L5ldlOEEQxAtA4tJRjCjOEjm3Q4gO2lH/ywgEQRBEUzzPIP6rB7MJO/w/OBpSpokXiFwIE+96EFNcBWQQumaAo6+xR5ibz7gSvNKBzk66n0AQxItH6tE8Zv/Rg/6vYwhdz8E5SEM8QRDEqvNKJ0wHRzG6yo6uiQ3OkxTiV8aw98AIgv8JIW52wtqgybE5jSuCIGoiZgncskXMFCi2Ahh6Q93e8q6vRQepxGpiGZyDfWcK0YvTiPeOwkpP5wmCqISYJVD062KmQLF9ukft5/kydVM5gnhBEbMEinoWMwUKJixyjN8ypTjtJprkdRtcJ60w3Axi9qcOOI41foNzw0zFThAEQRAEQRAEsZmhJ1cEQRAEQRAEQRBtgIwrgiAIgiAIgiCINkDGFUEQBEEQBEEQRBsg44ogCIIgCIIgCKINkHFFEARBEARBEATRBsi4IgiCIAiCIAiCaANkXBEEQRAEQRAEQbQBMq4IgiAIgiAIgiDaABlXBEEQBEEQBEEQbYCMK4IgCIIgCIIgiDZAxhVBEARBEARBEEQbIOOKIAiCIAiCIAiiDZBxRRAEQRAEQRAE0QbIuCIIgiAIgiAIgmgDm864yt32YOC9ecSfyQCCIAiCIAiCIIgNwBbGkb83PLmbU+g/NIPEq0DWNIagbxRm/psgCIIgCIIgCGK92TRPrlTDagGWH+JYvheHd7cfNocHMXqCRRAEQRAEQRDEBmBzPLl6EsBRix+WX+fhfKtDBuYQ+3oAQ8lRRM9aoYUSBEEQBEEQBEGsB5vqtUCCIAiCIAiCIIiNCs0WuGHIIXXThynxqqMMIV5ynmcQvzqLEZsHERm0puRSiFyewtD7AaRkEEEQBEEQBFGZTWlcZW7Ow3Mpgozc3tQ8SyD4zQj6d21Fl2UIE5dz3MwiXmoyXCa+GkL3G9vQbRvB7NU1lohUBPOf9mPH1i70OCbgy5BEEgRBEARB1MPmM66eheA+dBRjn4eQkEHtIYHAezuwZdcAZm+voTL5qhHWQ3bYeq0wyKCXjgcBHN21BTvenUWM9Hig04ieQ0Nw9prWRyYMFvTb7bD3GWUAQWisUz9JEARBEJuETWdcxb6fgEe8o8SXtg7tjyLwXuLm2v0ARn5d2xfzOl63wnXBjRG5/bKRingxf5+rbVdGELwtA19yOnfaMOqbXzeZMOxzYprLpF1uE4TCOvaTbeV5Dhl6IksQBEGsApvLuLo/j4lPtK9PlpBs54cgr1swNGwEdtoxc9AsA4m1wGAZgnMnYBycgW2PDCQIYuPxQvSTGQQ/MWLbtm54/iODCIIgCKJNbCLjKoXA5BQ6j2j30nPIPZc/24IR9ovLYPf8cO2hid3XlO12zN1jWP7JBTMVPUFsYF6AfjIXRegbcWfOBtNONYggCIIg2sWmMa5y16bhejIO9wd75XcoYSQ2zRRmGcQvzyL4SG6+ZGR+92H26qaprCq83PW4mXhxZK4JUiFMXWrulb2Xotx+j8Ar1oM92NuphBAEQRBE26jbuDp58iS2b9+OLVu2KGuxvWbkYvCcDmPsjBPG143oUQK5AtDWJ1erxJMIPO/uRbcj9GLMbtgQGUS+GsDet4cQ2uyZf6nrcTOx3jKXQeaZ/Lnm5LjxP4b95v2YeNTo90QvUFutQSIWUlwLmC3rNGEMQRAE8WIjnAjX4p133hGOhssWEb4WLF+wMcOJRZYVG+kF5pLXd/yUVPa3jcdLbOG8i40GyuPNxr1s9KCJ8cGYGXbb2KhviS3fcLO5W/IAHdJ8v81QXm7qYmHuiJIjSZi5lXA3/yXIsqWAmzn3GZXjDbsdbOZWWtmjT5otB6eZs1dNIwwmZjvhZUvVTimjgTieLjHvCRszifxpx93jebgYVfc/5r8PGgryW7xYJsNqfUrS8QU2c3yU+R/KgEKySRb2uZnjnIybX9s/6VCvDaN67afqLkEyxPNQUG7TN6oXQjI0w1yybrHTXnZ8Y/UoaLwukhEvcw9bZZ5Euq3MecLFbMo1NJmokz+SbJHLsW23Wv7GwWkWfiz36SLSy8tg0MKMyvX4OfvszPWxg5nF9qCXaS0i6bMr+4uXlfSFJ0v2FZyrkBZ152SWnWK/gVk/Lq67FbKyTFx5mUjfKWmDvyyrOzQalDmFutPDKTpWTYPr/CJL/sH3/ZFmUd5e7XyfO6IenicZZnMn7PnzjPucbDrUYN9VK51/LDPvMZMSv95iOOJlJaW1QqPlVqWfXN222nwfl02nWVpZeDkNq/ka/UULK5MKgiAIgmiamsbVZ599lh9k9Raxf1V56GeOnS62kFcONSMEzO5rUEGpQDrmZ+7DcsDWi/feHFdyLWw8KMO5ArFwyqocX6ZIlfJHlkXPW3m8dubVMxzyaPniiipX1JZuLbG0UNo46dgccyjKSaU4lpl/mCsaZxbZslRcso+jbO4IV5h2Opk/oYZVp5E4ltlcH1e6Ti6oiqVQhIPjzCrSyBWxQrK3Zpi1Ul1JhdQhjYDS/GUTi9zgsuUVfiXux8tsKSG1KVEPJy3KPsPxBa56ceWLl1tS6ko1y40rfnOnZvKGR/aeVz3ewOWtVGGrux4brAuuFPs/tDBD7yjzxtJ5JTb7kCvkPFwtl/qNq2x8jo2fD0vZybLlHxyqMfKhKB8d0lE2zRVrYYAtJlaUTGHs5hXuUgPpsZ85RbhhnC1W0EujZ83MdrFYnU//Ns7Gf0qqeeR1vzip5s9yfknZryAMw3MrBoxS3jxdyTsr9Zp9uMDG94l9FjYdU8MKqSpzBdSVHo2EKhuGI3MsqsmLlo6dFmbttTLrAb4Mj7KFe+p+QTbi5vtcK3XL5WiZtxWLMJDO6Bh7OjSSziyvG+XmU0k7rIda5Vatn1z1ttpSH7fEZhR5qbAY3EyaggRBEATRMjWNqzfffFN/QJKL2L96ZNniCQOz/1CopEWZWxmE+dKEAlEJcQdV3HUW8ZYqF9EzfAA/MMeH90KyLMyVnJrGFWf5QiPGlZ3N6SgKyxdtStrKn9ap6dC9K/90kY0KhVBRZqrRYBy33FzBsrK5AiVSIBRJEUcR3DCtqugKZfqsXSpl5WWkPK3o1ZR8XgfS4MyTXWTjijyY2XioPJeVy22ZeYViVmI4qHWlbzTXrsdG60KmYR83ngru5q8QZuNKudRpXEkDoLisuSF8oEIcT7nMcaWz4lMNHp9dKfcS44rnbvGkWieuX3QkS6kTrvAWPC1TZKO0XPlxo7rxp9lSYFw+LdSv1+xvo8r1DWd01OJaMsdpLD2acs6N7tJ6Um68VGhjoj52OrhxKLcLEE/jKxmHhTSWTo62r5m+sY5yq9ZPrl5bbUcfJ4lNlz2NJQiCIIh2UvObq//+97/ylz619rdC7qYHYzfGMHGEq955umD8q/zZRgy9o5id1Pfqk36aAq5FEHsiAxQ6YDk1C1sdE2alUiH5qx72onu7/FmA0aR+aea7W+I6+b4X7tN7MfGxhaeohFetGDjGr/+dF6Fq36g3GsfTLFIIIXKn+OOMjn3jmD1YEsMTcWQVXuFm2olZuAfldgmdux2YPiO9Pb3dDeMr6s88Hd3oVuTBiO5d5V+nVyq3xPcjGPqxvFC2vlr5C/ea9dhgOWZ+9WD0R2D8zCgsr6phpWyV69okMP/BEHxlWdqKrRWyFPt+FBM3bTzNDl56OpSWdZ4OWN8dg5iIe/bn8m/QMld9mB92wPaaDHgWwsShCWhOFPJ0bMU2+bOYTpgO8fqpUq8dpr2KD65UVufboloy12h6HsUQusnXYgKE0nraaYX9gKjXIMJFBZFD6MIoUp9MwKHXng8M8fRHMH21ysQTDZcbh+e9aefqtcqNU62fXK222pY+TpK4FYQocesBC31vRRAEQawKNY2rN998U/7Sp9b+5knAO+nHwNcuRYnT5U5C+TC5Erk2OYnca3HxgXgeA5YBeK6nCpwXm2FeZ79MsV9nEcQs+v+0RZlspHTp+UIc5UP8gXK4Lg3H8XYPXFwzmbfvxcBXIaQKitm8Z3P4vjEeWxBPbcF+crRNyWqsHFMI/jjL/zvR31umMjaBEc6g8iQa/sP15CiC4Fmuth8agrWZ6aj32OHq4+tL8/DfV4NUMgj9GsXYu9YVRZgrwNNJNW3j+2RYu+CKeB06dTGNpqeZiXMyIQS+5MbKB926srDFOIQAPywVi1dO/2qW2yaiHX2cSgqxG8J8NMD6tu7tBIIgCIJomZrG1eHDh+UvfWrtb5bU5TEcvZrBwul+7P/7/oJlCO4b8iCu9GTlzzJue9CzbQi+Nkyb3XlwGqGLThjvBzBm7cLWXf0Yuxwvu2O/9mSQvBcDJsOqoVBlqaycNRHHazZMX5+Dc2cCgU/3o2vrDvR/ypWbTTzLWO5RBL6vRuA8LVTeZmiwHHNLiF7h60Pdq3QHPYfUTR88HzgxIa5Tyv0l9U7/bqP+U6uaGDFwzMnXXO39ueDpy30/5lMu2KvddHieQfzqPMYcTszIoHWlVnq2W2AThuSVMKKlMwHe50bUNa6uH7ehp/BhzIM4wrDD+1BfBvJLI8b9Riu3NaEdfZyEt7nwj+LHAMxvKSEEQRAE0XZqGldffvkl3nnnHblVjAgX+9vOkyDcnwDTwTm4T45jvGRxHZTH/Vz5rrXy+seeHphelwEt0QHT8ByW08tYOO+E9VkQHkc3TNYpRNZt2mVBDhnxqmIy3YKh11wcHW85MXcvjeXgDJy9WQS/GkK3aT+mbrbnaeFakbrJlVXbDnS/70V6twvuz/VfeapNg+XYyutb1XieQuTSGPp3dcP5Qxqmj9wY13vlso5XwGrR2efAOLcMYr6Q8qqVIPbzLLqODegbbJmElJMeuP+zFQNnuezIXetC3ekxwvmtFw7DLJwfzOdfD849CmLiyFEE97kw/6kNRS+65XK8TBJIFr1K3CQbrdzWlHb0cRLyb0UQBEGsAXX5ufr3v/+Nzz77LP8KoFiLbRHefnKInJ9AYnIao31WWHvLl4FeTQFOQ++TC+31D4O9p/Irhc3QaYTtwzksPkxi4aQFqesTsH9d9kXEGmKAycy120i8BUW9lTg6YexzYS6URDI4DktKfCPiKf9GZEOSQej0fpgPBbDtRFgxEl19JnQ1/YZeg+X4uhEmsf55qfHX2irxhJf/382w/7wNozeWsfCtC7a3uvS/2zIYlW+W8Huiednp4G3xE97Cbk/Df503xFwI/gs2OPrKNdfc3Xkc/csOuB/2w39rCd5TDlhe39rAN2XtpeH0bHfA8+04+jsiGOvtUl5HM/bNIuNYwPK1GdhKv6vaboJDmFcPWzMJNlq5rT3t6ONUyL8VQRAEsRbUZVwJxBOqBw8eKK9fiPWqPLES3J7F6K8DJZNYVCKBVOGd4VwEU8qrg3aMidc/fppQXiX0/F8rT1MSiN+VPzVeMcB2xoNx/jNV47uv1ca0zwkDV26915rPY6NxJO7G5a8VDH1ueE7xH6koEm14FXO1yfw6gaEvQuj/1ovx3vaoWo2Vowl7h8V6HgvCMGmZDIKnhzB1vR+zF8dhrZUlrvz3iFf3fvYiVPTNVGOYD3EDjreAqR+DiF/1Ifj+AKxlBmoMs8NHMf/qNGbPO2Ba96cGjacnd3MKdnsc1tNzWLyTVPrB5J0FzHxog1FvMhKDGdY+YPY7fwtGwUYrt/WhHX2caB9xblwJbH8puOV2fx79HwRbfypGEARBEJK6jau1IYH5z8ewV8yeVuUJgsG4V/4qee2mw4Lx3xaxeKYfWdjhucp/8+3R/21lwoAUAqfnkajwUXs9d0E7uDEGBBCNlygHqVTLhllHrxOewRQ8p90IVXoF6VECiSp6SaNxpK5MYL7Sx+Olr2K+Iu4989zHllCcBJ73dbRK49yIF5c3dhVrrNkqkxfUqsfGyrETtvfdMPMzpz73VHy9VP2mMFvhCW0hccS+U3KELm2WPgUeg26ezBj6VDy7CmJi0qdvAGjnPefXr1QuOwfgFEbipWk4zybhOqTzrPhRHGEx296uLnSpIXkqfjPZCrVkron0xK/PNPhE1oihz8dhvjqBie/jJenQyCFxv0ojaKbcXulQJxK5sVRSpzmkHtUwITZoW21HH6e2D7F2oWe3EsDJIHhuHj3/tBa/0kkQBEEQLbAhjKtcJsWVFx8m/tGDo1cNSHOlIqU309+zDDKZBCKRqAyIIR5P8DAeXqCcKq9/tPF7K9w4ih77FIJ3pXLyPIPI127M73Nj9ljtFw/NfWOw8LXntCevHGR+DyL4pLMNr6cY4bgQhhtT2K/MZphATlOEn6UQ+3kKU7f4UVXty8bi6HgljKOWfkxdjSMjj8vc9MD9vQXu70pmd/yzDWPiQ/OvJni8svwycQSvptHZeuabxrRb/Wpl4VpIzcNzrnzejiCVUye59l9XvyLK/L7yZLJ2PTZYjvtGMXvGCsPNCdj/MYb5myvH557EEbmywCVcwOPbugNDX3O51uIrwwST8iRsASGtnMU1b6aQVYwtP0L/4SsxKYJU6A2Hp+EfNiL14xD2v+tR5FtrdblHMQR/DakK+s9HseON/Rj5Uc9I4EbikXGe/wgiJicG9GYefF0+JbvB03ZfjSH3JMHTlgQO8I0rIYRFknIJnraqGnJ91JK5JtJjPhbA9GAMQ2/oz1i3ZVcPBkomden4Xzf8P1gRet+K/k98iD3R8pZD5kEIs5/PI2Wo0giaKTeDFUPHeZzXuFH3I5cnESa+w/s5zOOrYUJs0LbaaLvShxudyiQrndimFEMO8e9d8HR5MLqv6okEQRAE0RhsvXkoHZWWLjqORf3DOsfJxXxOcyaaZP4jYIZGnGhG3Lpx5p1kJsPMO+lk1t3SQeZOC3NO+tmSruNXfdI3pplDnm/sc7G5W5rLyyTzDpZfO+/0tUL5lDn6FM54z7uYTUujwcSsw27mv1OXa02VeuPgx4V9bubsNTGuc/FjjcwijouXufhUeRxm04flsTttzHUxmnf4GZ5U81O8SEe9lWRD1q3+ufWWW5qFNefFRWlaZgsfW5W0GvtGmb/EAWzleiygwbpIhmaY66AsH36s7fgMW1SSycttn5ONXlxgS48rlG0hopwHjeVpSyxI565GZjvhL3HuKhz28rrcp56Xl21x6kM/cx50sWlfmC1XlfUom95jYOOhymnMxjUHswZmOuxmC7Jcs7EZ1Sktz7fjvFoHrchEnioyJ2gkPSpZtnTBzeb06vCPLFuOzDCnOG+fm0VLiiF9x8/cwxbpKJvXzT47c51fZMlSJ7s6NJ5OztMl5j1hU68n9k8ulDv0rUS1cqvWT65qW5W02MelQ+PMwsvReszF5d3C7KXlRhAEQRBtYIv4xweqF4dcCGNb9yP3SxozB+llD4JYCxJXfMgMOto7gcxG4XkCvvdHkHjfj/EqTzlyV0ew1TaL0d+ymD5AT0M2JLkMlJciOjrRSVVEEARBrAIb7JurNnA3hhDs6HlbNawyV6cwXzohBUEQbcX4ohpWSCHwXg+G4ISrxutjHdvUL6NyOe31P2LDIYyqTjKsCIIgiNXjhTOuUvEwYtgLo5ga+VkEs9dM6CeHkQRBNMNtL9w/pmC1mGtPevBcTDNhg/llndaPIAiCIIgXz7gy/HUIDkMU4cuzGPk0CtukvQ2TRhAE8TKSuhdVJhVZqjldXg6hX+ZhOO7Sn9SDIAiCIIiXghfvmyvB85wye2AnvftBEEQr/D6LnrdHEDGMYvHeNKx6Pq04CTHj4qVueH8Zh6XCMQRBEARBvPi8eN9cCV7pIMOKIIjW2e2ER0yXn/Jg/4GjmL2eUCdEUJBTqr/fj5HYABZ/I8OKIAiCIF52XswnVwRBEG0kddOH+QvzWLgRQuS+CDHCcsCKnsM2DPXZYaZ3jwmCIAiC4JBxRRAEQRAEQRAE0QZezNcCCYIgCIIgCIIg1hgyrgiCIAiCIAiCINoAGVcEQRAEQRAEQRBtgIwrgiAIgiAIgiCINkDGFUEQBEEQBEEQRBsg44ogCIIgCIIgCKINkHFFEARBEARBEATRBsi4IgiCIAiCIAiCaANkXBEEQRAEQRAEQbQBMq4IgiAIgiAIgiDaABlXBEEQBEEQBEEQbYCMK4IgCIIgCIIgiDZAxhVBEARBEARBEEQbIOOKIAiCIAiCIAiiDZBxRRAEQRAEQRAE0QbIuCIIgiAIgiAIgmgDZFwRBEEQBEEQBEG0ATKuCIIgCIIgCIIg2gAZVwRBEARBEARBEG2AjKs1JPcoAt8XQ/D8RwYQBLEJyCF104cphwcxGVIItWuCIAiCIDTIuFp1ckhcncWIbQe2vtGDodM+5J7LXQRBbFyeJRD8ZgT9u7aiyzKEics53po1qF0TBEEQBFHOC2Vc5W5OYX9XF/Z/EkRKhq0/HTD2DsDeZ4XVIIMIgtj4vGqE9ZAdtl4rypvu+rXr1HVu1P2jG11btmDLrh4c/SKAeEbubIqMYige/SSwgfrNesgg/vMUjlp2YAsvi663+zHyTQipFoxcpWzf7cEOUbZbdqDn3TH4fm+pcAmCIIiXjBfKuIpdm0AolULo63mEHsnAjUCHAdYP5+D+QG4TBLEp6HjdCtcFN0bkdhFr3q4zCJ3eD/P7MZgnw0gyBnYnAMcr87Ca+uG5vfJcrS6epxC5PIWBXduwwzaC+UcNnr+ePItj/r29sH6Thf3KEhgvi+R1N3ruTaDrryMIPpDH1Y0sW+sIZq9EkFDCEohc8WDobROGLqshBEEQBFGLF8q4Mh9ww2rgCs/HTlhfl4EEQRCbnhwiX9iw/4tOeK7NwbmnUw0WBt5JPwIfpDHW54SvHqMiI153PIr9b3ShxzGBwH0ZvmlIwPeBFUdjDgR+ccP2eoca/JoZjvNeeHf50X94CpFnanA9xL624ehdG7yJrGKoiSWbWMT0oJHvTcHnGINvI92wIwiCIDYsL5Rx1bFvHIvJJBbP2XRe4yEIgtic5P7jwejpCCznJuDYLgPzdMDysRuj8GHog3n51KUKrxph+3CO95WqEcEibrljc5C6MoHRHwHX5Bgsr8rAPEY4TnOD6+YE7JOhgm/kqnB/HrPPPFj6aRTW7dJQ43Rst2L0p0XM9YmtAOav0tMrgiAIojY0oQVBbEIyv/swe3VzfSFDNEsC3tMTiMCJsSNmGVbCq1YMfcL3XZ3A/PUaJsUrcr0ZyYUw85EPqT1jcB6UT+9K2TkA5zA3wr7ywFvzqVwOkcg2jJ+ycBNVDyMGjruUX+KVc4IgCIKoRd3G1cmTJ7F9+3blw2GxFtsEQaw1GUS+GsDet4cQou/sXw7uh+C7yteDVvS8pgbpYT4wBDNSmPoxyKXkxSR3I4gpbuMY7D08r5XohPWQMIiCmP1Zb/L8AnJJGA7YuQlVmc7/6ZK/CIIgCKI2dRlXf/vb3/Cvf/0L//3vf5VtsRbbIrzt5MRH1rOY+GAA+/8+gJHTs/DdTNX3egc/qrI/GqGUHkXPLjkL1HseRO7H4fumgZkFM3EEvtDiELMS+hBv4L3+UnJ3A5h6T85M1dWNoW9iRUpR6vKAYswWL1OIyP2RL0r2vevL56XI9474cP3SGPrf7lKO63p7P45+VWNWrVQE858OyLxuwQ7LUXiul5TUc17edyMIXJpQZtg6elnufxDAmG0Hz9N+TN1cqblW05T5vbC89mPscrxMLnKZBGJXfZj99Cj2v62VVQaxb4bQ3cXz8V6g7LWp4tnXBuD5vwqqqSKbUxj6WkrXMyEParxCpvo/LZaH1HVPwUxmPN+V4lUQM7bx460yHVwelPgKT3kSwdQ/TOj5VM1DwKGWnbb0fBEpK4/UzXmMFc5+xuU+VCrwz1KI3wxg/vQIBng9a9+WJH7m9cPrv8vayPcrKfjeXUmTWKZuyl2cMpnmaS6Dl6vv0361XLVyuM/zfkmW+82p4jgK5J63CkwV7tsyUPlbmTa35xXKy0BZ8nktTeMWDGhtR4fUrSBCfG22mKq/7rynBzaxvhRGtL4Osy0ofa7WLvmyw8L7bd6vJnTEvZn2WUjspldZD+wxKetKdL7dAztfx65Fq78m2WGEsdY75M+zysrxVjUTjCAIgiAkrAafffYZE4dVWsT+9pBlSxedzGTg8RpMzHrAyhcL48OZch3DET9LyiPLeLrMFr91MdtOLV1uFpa7VLJs8YSBxzHHltJqSDo2x5zi+EFv5XgLSP82zsZ/SvKYOH+k2eKkRbmW5fySsr8ewpNq+twRHt+dKFt6LHc8jrK5IwZln91XkprHfuYUeTKMs0Xl4uVEz5qZ7eKy8jt5Y4a5+oyyHMBsJ/xs8Z5MNyfLr+X92Mq4PsGwj5fTU7mjgGzEzay9LuaNpWV+s2w5OM4sMDDrmXA+rvQdWYbyWiLt2TthFk0uM6/MDybDbUgTL+9T48z/UJ7xeJG594m4LGzmjhqk8EeSLZyS8SiLkIMki95Y5mlw8/SLMDvzPpTHP11ic6dmWFjWQ/aelzkU+XOxBSkngmxikc0ct+VlUeSJPV5mSwl5UJZf96QqD4bjCzy1abZ8a4klZXKFrCnxFl67iGXmHzYx25lFtizzLspEkYmdTuZPqGEa2VszzMqvVSYrRWRZ+AxvQx96WfSxTAhvJ0o6DVYug/laVNpdPm9KGnlbvBFlSa08eLiQ2UYplPcyuIzly7KIZTbXx9vVyQWW/ENsZ1mSy55VpKP02IdexhXoCm04ybyD4vr6Zd5Yew4zt7hOWb+iUimf6YBTCTecXMzLejFRNr3Hxubuyc0KhE+p8Tt4eqvD290hcayZTcdkUD1odVFnX7gCl6cPRblZmMsXZWmlvniN8fbiPqjK7ly8IOeNts8ytPwZmPuWDKpImI0r8RW35WYQ/SvA26HWXxMEQRBEFWoaV2+++SYfWLTBsHwR+1sny6JnuCE1OM0WEyVqCFd8whddzPVttIKCIkkvrSjopUpQ0s8cPHz0t5IYElx5PFJboRDGhhj4i5Sn7CIbFddqQCHRlDC7NISKuDfHbCK+MiOSG4YnhaFiYOMhnRLg6Rg3FA78XFn2jeYNzfEbMrgIrnhLZdJwokTxE2Wy08G8JQq9YPmCjZ9jKVbcuKEzrhg6YMZhbrxqkQnDZdgp42klTVp4cZ1mfxtVji03MLhhcMEh5cDGy2xlv1Co7VxBV+OWBmBJ/S1fsCrxlinKd7xstFcajINzbFkqknmUehDXNPNrlmtzyxdF2ekpyGr+LPl0FfCUyxiPUzXYCuCyUsu4WvY5mJHLdrmkqcYL9k1z1X4FUTaqcmtkzotL+bRk49yAHtaLpzZNGVe33LzurGUGh9IG22RcNd6emzOu8jJR4cZINjTODMP+4rotQ8tHhXIsopFjC2jKuNLapYE5fDrS8ZSXmegXDKV9Sb3tUw+tHqoZYBqNHFsF2QZtF5ppAQRBEMTLSM3XArVXAStRa39dZEKY/2kA/pLZmhRe6YRleAYzx80VPjiWdJrgOFfBH82ztPK6Xeh2XN3W2O7A7CfVXy/BsxAmDomPyUvo2Ipt8mej7DXpvF6ysxs9Yv1jvOQ1lg5Y3x1Tv6W4Gi5/DS4Sgm/YAVv+W4xOmA5PY35SvBQDbNX9eL0DlhNucMUPqa9mEci/NpVD6MIoUp/ozUjG1e4DQ7Dzkpi+WvDS5WtWjHykXst8oB8mrZJeNcF5cU7G03yactcmYD9d/upYx58qlX4HTMdGpBz0oL+XRyjpPOCGX364nvh+BEM/lr+KtfVV/Y/kO3c7MH1GStfb3TCW5qGjG91/FT+M6N5VHofRpNQufHdLXlK674X79F5MfKzzQf2rVgwc4+Xxnbf4Vb4nKeU1sYrkeHv6JIXRzx0635IYYT3M6+HmNILi9UxJ5wFeZoPilxnWA6Z8WjrecmLuol48q8TTLJf0ECJ3it8pEzOBzh6s2gPUxyq054p08PoTk0ykphC8UdZyEb7mg/OIjbeOTcjtWWX2QvS54T6sIx2vWjB6ZhyGlA+jZwu/AauvfW4Mcoh8PQGPeQ4zx9asBRAEQRCbnJrG1Ztvvil/6VNrf13kckjzv5z43uF5DplMRllyLXjaL2LnXlj3AbFPbcp3FbEnMpzTucdc/TsGruBOyymLx3kc68IeK4b28PVXPgQL0i6+VQj+GITrXWvjCglX/Pq54i6mGE5oxhU3cgNfctX2g27l24myxTjEj+a6Yixe8I1LG9FJU8eBadVZKhuHRQ1qC8ZjC+o01D851nXa/tivs+Kze/T/Sae8+dLzhTjKh3gDTlEz1wKYSoUwYtKPc8c/lVpE9N6q1GJrvN0DF6+QefteDIhv8ApsEjNvqy2zxu1ZnWQC8FwumWTiSRC+qy4M9NZquQYY31J/LT2sVV9Z3n+KtRkdq2yhxK57FQPVftha0fDu6O2Hk69T3wUR1vn+qnF4WRwS6zASdYiu+qVUFzrLpmuvj9xND0a/NcL7rXPtbi4QBEEQm56axtXhw4flL31q7a8Lgw0jB4OwW7qx4/9txbZt25Rl63uBNinxZoz+uojxXiD09RD2/k8Xuh06H/bXw/MM4lfnMeZwYkYGrT5m2D8Sn6rPI3ijQEu578d8ygW7MLyawPCGVVlHNU3lQZyrLXZ4H6rKZ8VlFQ2SsjSV8iSO4KUxDB1rb+krk218NQLnaWF4rBUZJO/FgMmwfjkXLI0YAon7YWDQK43Syov/8HqalRV4zYbp63Nw7kwg8Ol+dG2VE4W0RTnXYbXb8x47XMJP0qUgQgU3RhK/ziP5kV0xvGphNKlPfOOPksq6Miks/SzWVpilQbY6pJCIqU+v9+6qZnYY0a08DQ03dHOgMkYYzUJmU0gmawjEgwSU9xQOmGFq5tHgA/FUcQkjEa/uU3yCIAiCqERN4+rLL7/EO++8I7eKEeFif6vk7nox8/NeTJydhvv8NKb5evrsHBYm2+gM+DUr3KEkknywdA9uRfzyGPZ37cDRK1Xnklohk0DwqyF0m3rg/s9WDJydUe7KrhXGg07levOXV2Y3FE89uo4NtHxX1fSGLOVcDjEkkCx6OrY+5NMkydwPwuPgxnevG7GOAXjOtaf0ldn0bDvQ/b4X6d0uuD9XFdm1IYeMKOuk+tpqu8g944rvPS7rcnuzobyKeC+N5SBvY71Z2e6KZ55smTVrz0YMHFNaLrzX8i0XgfNdcB6sr+Ua/mLj5hI/K1LjifHtMIJiPdyDvRvn3bq2Yt43pKz9pa94l5C5E1aespsP7G28f3wQxMh7C+i/RoYVQRAE0Th1TcX+73//G5999ln+FUCxFtsivGVyMXg+CKH/1zm4+mxwfDiK0RNiccJW+v1VGzDsc2D8p2Wk78zBYUhg/t2xylM1S3J353H0LzvgftgP/60leE85YHl9K7bK/WsCNw7tx/n6ihcLimPMGEI/8fLqa/aLjRwS98SXO3Z0awrEdhMcwrx6uFqPCWqhkyYeFr90FHt3uZE46Ef0jhfjhy0w/KnV0s8gdHo/zIcC2HYirCjyrj4TutZUKTXAJO7Ec6W5ThO/LoxvObiizY3k9arGttAJY58Lc+KGSHAclpT4VspT/q1UE6x1e+7stUN4XQr8uKDW8+0Q/H2F30nWYKeVt3O+vhJCuMqNjxg3BmJcpsZX/TsuA4xm9Zlb9F41yU1g6YpY98DUJiOl46829bvMQJjntRK8bf88y9c2uA41+CppJoKpT4OwXSTDiiAIgmiOuowrgXhC9eDBA+V1IrFuxxMrQe6GFxP/O7KqA1nqbrk/pM7dTrjPiqcUBd8c6RLD7PBRzL86jdnzjuZeMWkLnbAOjnO1JojAjQRy1/3w2wdgbdYYyIUR+pGrSce5Efu6DDOYYeVK3Ox3/rYq+3Wjl6bbs3C+N4/Os7OYOWxqm9KY+XUCQ19wo/5bbqwVfFS/1pj2OWG4PQ3vtfY9lTGYrVytnMVsvU9lNxAJ3lZLMfS54TnFf6SiNdpqPaxDe+60wn6Sy9jVAEL3cwj95MdAQ99JGjE06YYF85j+sYJJ8SwE7zm+j5eVs+Z3XK1j7h1SvoEMXA5V7Cty1xd4ikV7tqGnXeXcYcUIrzfRZuZ/rXD3QLwufYlf98QohnbKsHoQhtUHIVgvzMBGhhVBEATRJHUbV6tFJlPj5aUHAXh+rvoyTG1is3Bfr3Qb31X9+4RHcYSFE9RdXSj1069+ML12dPQOYGwPEDw/iwmuZDnruCubfqqntOcQ+WoCU3DA82nhXW6uxH0+DvPVCUx8X26QquSQuN9afTSSplQ8rDytML5eUvrSsWezxLnRJnJh7CrW+rLtmkSlTjp6nfAMpuA57S76JqeIRwkkCovsFa448lUgtlRSRymkRKZ2DmHilBnB0xOYv6tfi3jG42ykGh8FMWbtwpZd/fDU+Xpex6uqfIbv6KjfWv09TiJTUOapKzzNlb7P2dMDk2Z0C17tVNvkjSiWypz/apM7ZJB+UpDedWnP2oyfQcx+OwHfbWfD30l2/HkUnkkLIp+44SsrHzmrHW87pZMv5G5OYX8dznkbZo9LSQ9EX3FZJ+ZnEXg+n0LKUNrHtI5hkBvbR4DZ09M6zq0T8E1OILjPjcDpYgM2ceUodghn0V+WO9vGkxAmPgrDdmEclnYmliAIgnjpWHfjSrnL/sUoRi7HkCocKJ+lEL/qwcCBaa4Bt/hk4ZU0pqw2jFyK5Gcfy93nRtu3YTh8o7BVG0xfN6FHKEI3FpS7zoLckwRiN7lReIBviFd1hJKaSyAu968eZtg/sAK3PVyRcmKgjruyng9GMHszlVcmck/iXOnoh/2Hbnh1Ptbu+F83/D9YEXrfin5lZsX8mcg8CGH283muMLVWH42kyWDqUT76D18NSQNDpCOGCC9+8R1K4FpYMZJyD+LFBkgNTLvVL2wWroVU5f55DqnbQj7UCbn919UnBJnfE9W/c2kZIxwXwnBzs3K/ZQCe64mVWTJ5G4j9PIWpW/yoQi3xzzaMiQkuuDHq0W4aZOIIXk2jU6maDlhO++E9EMLR3n6M8baVyRd2BonrwjhPoauBakzdmOfX4iVxnxtZh7ghWEdZmwcn4ODXCJ4ewRQ/Vz2Fl/PdEAK/yCcw3wxgm6kfUz/zfPPNjlfCOGrh21fjeaMrc9MD9/cWuL9zFU8A0WmF8wxX8FMeTHxeMAuoaJ+/BhFSdP4QRsxGdL8/r+5fr/YsJrbg8ce+9gBNfSfJ6/RUEIunMhg9cBTzt2W951IIfTkA+7fbMH11vqQ9pxA4N6FM3JO4NACfMCrbhkiPFwsfGuFzDCn9t1ZfuQdBTPzDjoknTsxdL01TO+Bt5tsQ5sw+2P/BDalHsp6exOD7aAhD9wawcJkbSUWzBEbge3eem168vD6fLnA/wRHfWB3cj6kfx7C3wqyd2tLzRaSt30cSBEEQLyBsA7D8yyizKg5YS5addjZzqx73+ivOM4sXzelnmi0HZ5hr0MK4UsPDDcx00MVmbtTnuj8b1xzI8vMOu9mCdIqZjc0wu3CMazAxx/loRWegSZ+9IE0ri+ros0LaKzn0VJwNV3AoXIB2TfsJN3P2mqTTTjDjPjtznV9kyVInuCWk7/iZe1grrwrnac5HdRY9J6bNpSmrOCBW5EOU8+SCdOCbZdHzdiV9ht0OKSeV5IAvZeWZZuGz6vnYaWOui1r9LbMF6Yza2DfK/KKuNWe1pYt0aqs5kS1epOxVOLfMAfAfSbZ43sVsu6WjYp5X67Cb+e9UkKrHYTZ9WJZhUfoLSbOlAC/rfUZ5XSOzDHK5L3DcKtBPv1hWnOYqDm/z4QbmviV31EBpO33q9Q27eTq1eo5MM8vwKJsLLrF0oSjzcgj7CuWDp1mUQ7ySvIt6dDCT0n/IY5UySzL/MX69s14WLnFMXn97rt6vVG/X5SiOpCs4FG6EZIj3ZQe1urcw56SfLVUQk2RQbTvGwRkWLbhu5TrXlvqd7yYjXp2+grfTsjQ10j7roVi+i+SrDN5ffCvau4FZP15YuZZwmq439ugsBl2n3ARBEARRzBbxjw8c608uhdhVcTc5A3R0wfQXM3r+bEKnrsPZl5hcCGOWGIZio1WncU5dHkCXIwCu6K2ff64SNmKaiAZ54MOAcRR7byUx/mcZRtRF7toYem4PIXqi9uu8BEEQBEFsTtb9tcA8HQaYDznVmQI/dMC2jwwrPYSD2NgH9fnHIYjVYQDmRiYKIDhiBrtY47PXEQRBEASxqdg4xhVRBxmErybg6DXKbYJYWxLXvEieccJKH/03RiaM4AMHrGSUEgRBEMQLDRlXm4knIQRy9U1kQRDtRsw8d/TGELwnzUWzsBG1yVwPINcGh98EQRAEQWxsyLja0OQQOj0Az211NqzMjRAMq+4glCBKeJ5B/FcPZhN2+H9wkIFQD7kQJt71IKbMgJpB6JqhBYffBEEQBEFsFsi42tBkkLobwJjZipFfYwj9bl4TB6EEUcQrnTAdHMVoG504v/A8SSF+ZQx7D4wg+J8Q4mZn8w6/CYIgCILYNJBxtaExwHZ8HFZDBMHvvOg4UuwgVA8xI5/wxyJm5RNMWDQfLVOKM971YCOmiSBWlddtcJ20wnAziNmfOuA4Rs/7CIIgCOLFB/j/AaIcDdDfefKvAAAAAElFTkSuQmCC)"
      ],
      "metadata": {
        "id": "git8srNJm666"
      }
    },
    {
      "cell_type": "markdown",
      "source": [
        "Task 2:\n",
        "1. Set up a simple environment for Mario by choosing some basic actions.\n",
        "2. Initialize the environment.\n",
        "3. Preprocess the environment.\n",
        "4. Train the model by using a reinforcement learning model.\n",
        "\n",
        "\n",
        "\n",
        "---\n",
        "\n",
        "\n"
      ],
      "metadata": {
        "id": "xcAvKZisnHHU"
      }
    },
    {
      "cell_type": "markdown",
      "source": [
        "#1.\n",
        "Select a set of basic actions for Mario, such as:\n",
        "- running right,\n",
        "- jumping right,\n",
        "- running left,\n",
        "- jumping left"
      ],
      "metadata": {
        "id": "vym5koY8p27K"
      }
    },
    {
      "cell_type": "code",
      "source": [
        "mario_actions= ['run_right', 'jump_right', 'run_left', 'jump_left']"
      ],
      "metadata": {
        "id": "zic4rrEAnONB"
      },
      "execution_count": null,
      "outputs": []
    },
    {
      "cell_type": "markdown",
      "source": [
        "#2.\n",
        "Initialize the environment:\n",
        "1. state_space = 10  # Example: Mario's position, obstacles, powerups, enemies, etc.\n",
        "2. action_space = len(mario_actions)\n",
        "3. game_world = np.zeros((10, 10))  # Example: 10x10 grid for the game world\n",
        "4. mario_position = (0, 0)  # Initial position of Mario\n",
        "5. enemies = [(2, 2), (4, 4)]  # Example: Enemy positions\n",
        "6. obstacles = [(1, 3), (3, 5)]  # Example: Obstacle positions\n",
        "7. powerups = [(0, 5), (2, 8)]  # Example: Powerup positions"
      ],
      "metadata": {
        "id": "z7FBArhhqi0b"
      }
    },
    {
      "cell_type": "code",
      "source": [
        "import numpy as np"
      ],
      "metadata": {
        "id": "gBthY0k5qgdj"
      },
      "execution_count": null,
      "outputs": []
    },
    {
      "cell_type": "code",
      "source": [
        "# Define the environment for Mario\n",
        "state_space = 10  # Example: Mario's position, obstacles, powerups, enemies, etc.\n",
        "action_space = len(mario_actions)\n",
        "game_world = np.zeros((10, 10))  # Example: 10x10 grid for the game world\n",
        "mario_position = (0, 0)  # Initial position of Mario\n",
        "enemies = [(2, 2), (4, 4)]  # Example: Enemy positions\n",
        "obstacles = [(1, 3), (3, 5)]  # Example: Obstacle positions\n",
        "powerups = [(0, 5), (2, 8)]  # Example: Powerup positions"
      ],
      "metadata": {
        "id": "wRK909k2rHU1"
      },
      "execution_count": null,
      "outputs": []
    },
    {
      "cell_type": "code",
      "source": [
        "def get_state():\n",
        "    state = np.zeros(state_space)\n",
        "    state[0] = mario_position[0]\n",
        "    state[1] = mario_position[1]\n",
        "    # Add more state information based on obstacles, enemies, powerups, etc.\n",
        "    return state"
      ],
      "metadata": {
        "id": "B21p4XECrJ8g"
      },
      "execution_count": null,
      "outputs": []
    },
    {
      "cell_type": "code",
      "source": [
        "def step(action):\n",
        "    # Implement the logic for Mario's action in the environment\n",
        "    reward = 0  # Define the reward based on Mario's action\n",
        "    done = False  # Define the termination condition\n",
        "    # Update the environment based on the action\n",
        "    return get_state(), reward, done\n"
      ],
      "metadata": {
        "id": "2j7NUit2rOVE"
      },
      "execution_count": null,
      "outputs": []
    },
    {
      "cell_type": "code",
      "source": [
        "# Initialize the Mario environment\n",
        "initial_state = get_state()"
      ],
      "metadata": {
        "id": "TCkIIUISrQoS"
      },
      "execution_count": null,
      "outputs": []
    },
    {
      "cell_type": "code",
      "source": [
        "action = np.random.choice(action_space)  # Random action selection\n",
        "next_state, reward, done = step(action)"
      ],
      "metadata": {
        "id": "KCGaGM4crSqs"
      },
      "execution_count": null,
      "outputs": []
    },
    {
      "cell_type": "code",
      "source": [
        "print(\"Initial State:\", initial_state)\n",
        "print(\"Action taken:\", mario_actions[action])\n",
        "print(\"Next State:\", next_state)\n",
        "print(\"Reward received:\", reward)\n",
        "print(\"Episode Done:\", done)"
      ],
      "metadata": {
        "colab": {
          "base_uri": "https://localhost:8080/"
        },
        "id": "373vW-JurUXi",
        "outputId": "2163aa2e-662d-4478-a40f-cc4810f46e93"
      },
      "execution_count": null,
      "outputs": [
        {
          "output_type": "stream",
          "name": "stdout",
          "text": [
            "Initial State: [0. 0. 0. 0. 0. 0. 0. 0. 0. 0.]\n",
            "Action taken: run_right\n",
            "Next State: [0. 0. 0. 0. 0. 0. 0. 0. 0. 0.]\n",
            "Reward received: 0\n",
            "Episode Done: False\n"
          ]
        }
      ]
    },
    {
      "cell_type": "markdown",
      "source": [
        "#3.\n",
        "Preprocess the environment"
      ],
      "metadata": {
        "id": "vXUiCjGfrrGd"
      }
    },
    {
      "cell_type": "code",
      "source": [
        "from sklearn.preprocessing import MinMaxScaler"
      ],
      "metadata": {
        "id": "VD8V0hHRrV6r"
      },
      "execution_count": null,
      "outputs": []
    },
    {
      "cell_type": "code",
      "source": [
        "#environment data\n",
        "environment_data = np.array([[1, 5, 10],\n",
        "                              [2, 6, 20],\n",
        "                              [3, 7, 30]])"
      ],
      "metadata": {
        "id": "w8hzaW8OsSIg"
      },
      "execution_count": null,
      "outputs": []
    },
    {
      "cell_type": "code",
      "source": [
        "# Preprocess the environment data using Min-Max scaling\n",
        "def preprocess_environment_data(data):\n",
        "    scaler = MinMaxScaler()\n",
        "    scaled_data = scaler.fit_transform(data)\n",
        "    return scaled_data"
      ],
      "metadata": {
        "id": "-eOBmx2fsVhY"
      },
      "execution_count": null,
      "outputs": []
    },
    {
      "cell_type": "code",
      "source": [
        "# Preprocess the environment data\n",
        "preprocessed_data = preprocess_environment_data(environment_data)"
      ],
      "metadata": {
        "id": "emhJn318sZjm"
      },
      "execution_count": null,
      "outputs": []
    },
    {
      "cell_type": "code",
      "source": [
        "# Display the original and preprocessed data\n",
        "print(\"Original Environment Data:\")\n",
        "print(environment_data)\n",
        "print(\"\\nPreprocessed Environment Data:\")\n",
        "print(preprocessed_data)"
      ],
      "metadata": {
        "colab": {
          "base_uri": "https://localhost:8080/"
        },
        "id": "Zd31mKhxscoC",
        "outputId": "42990734-fa8e-4d8b-fc33-481474edd7ca"
      },
      "execution_count": null,
      "outputs": [
        {
          "output_type": "stream",
          "name": "stdout",
          "text": [
            "Original Environment Data:\n",
            "[[ 1  5 10]\n",
            " [ 2  6 20]\n",
            " [ 3  7 30]]\n",
            "\n",
            "Preprocessed Environment Data:\n",
            "[[0.  0.  0. ]\n",
            " [0.5 0.5 0.5]\n",
            " [1.  1.  1. ]]\n"
          ]
        },
        {
          "output_type": "stream",
          "name": "stderr",
          "text": [
            "/usr/local/lib/python3.10/dist-packages/ipykernel/ipkernel.py:283: DeprecationWarning: `should_run_async` will not call `transform_cell` automatically in the future. Please pass the result to `transformed_cell` argument and any exception that happen during thetransform in `preprocessing_exc_tuple` in IPython 7.17 and above.\n",
            "  and should_run_async(code)\n"
          ]
        }
      ]
    },
    {
      "cell_type": "markdown",
      "source": [
        "#4.\n",
        "Train the model by using a reinforcement learning model"
      ],
      "metadata": {
        "id": "AG5ZWBa3srIZ"
      }
    },
    {
      "source": [
        "!pip install tensorflow==2.11.0\n",
        "import tensorflow as tf\n",
        "from tensorflow.compat.v1.keras.models import Sequential\n",
        "from tensorflow.compat.v1.keras.layers import Dense\n",
        "from tensorflow.compat.v1.keras.optimizers import Adam\n",
        "from tensorflow.compat.v1.keras.distributions import Categorical"
      ],
      "cell_type": "code",
      "metadata": {
        "colab": {
          "base_uri": "https://localhost:8080/",
          "height": 1000
        },
        "id": "jwMKa6eGzT9N",
        "outputId": "a38175c5-c175-4745-d510-bc04f9cfc28f"
      },
      "execution_count": null,
      "outputs": [
        {
          "output_type": "stream",
          "name": "stderr",
          "text": [
            "/usr/local/lib/python3.10/dist-packages/ipykernel/ipkernel.py:283: DeprecationWarning: `should_run_async` will not call `transform_cell` automatically in the future. Please pass the result to `transformed_cell` argument and any exception that happen during thetransform in `preprocessing_exc_tuple` in IPython 7.17 and above.\n",
            "  and should_run_async(code)\n"
          ]
        },
        {
          "output_type": "stream",
          "name": "stdout",
          "text": [
            "Collecting tensorflow==2.11.0\n",
            "  Downloading tensorflow-2.11.0-cp310-cp310-manylinux_2_17_x86_64.manylinux2014_x86_64.whl (588.3 MB)\n",
            "\u001b[2K     \u001b[90m━━━━━━━━━━━━━━━━━━━━━━━━━━━━━━━━━━━━━━━━\u001b[0m \u001b[32m588.3/588.3 MB\u001b[0m \u001b[31m1.7 MB/s\u001b[0m eta \u001b[36m0:00:00\u001b[0m\n",
            "\u001b[?25hRequirement already satisfied: absl-py>=1.0.0 in /usr/local/lib/python3.10/dist-packages (from tensorflow==2.11.0) (1.4.0)\n",
            "Requirement already satisfied: astunparse>=1.6.0 in /usr/local/lib/python3.10/dist-packages (from tensorflow==2.11.0) (1.6.3)\n",
            "Requirement already satisfied: flatbuffers>=2.0 in /usr/local/lib/python3.10/dist-packages (from tensorflow==2.11.0) (24.3.7)\n",
            "Collecting gast<=0.4.0,>=0.2.1 (from tensorflow==2.11.0)\n",
            "  Downloading gast-0.4.0-py3-none-any.whl (9.8 kB)\n",
            "Requirement already satisfied: google-pasta>=0.1.1 in /usr/local/lib/python3.10/dist-packages (from tensorflow==2.11.0) (0.2.0)\n",
            "Requirement already satisfied: grpcio<2.0,>=1.24.3 in /usr/local/lib/python3.10/dist-packages (from tensorflow==2.11.0) (1.62.1)\n",
            "Requirement already satisfied: h5py>=2.9.0 in /usr/local/lib/python3.10/dist-packages (from tensorflow==2.11.0) (3.9.0)\n",
            "Collecting keras<2.12,>=2.11.0 (from tensorflow==2.11.0)\n",
            "  Downloading keras-2.11.0-py2.py3-none-any.whl (1.7 MB)\n",
            "\u001b[2K     \u001b[90m━━━━━━━━━━━━━━━━━━━━━━━━━━━━━━━━━━━━━━━━\u001b[0m \u001b[32m1.7/1.7 MB\u001b[0m \u001b[31m16.3 MB/s\u001b[0m eta \u001b[36m0:00:00\u001b[0m\n",
            "\u001b[?25hRequirement already satisfied: libclang>=13.0.0 in /usr/local/lib/python3.10/dist-packages (from tensorflow==2.11.0) (16.0.6)\n",
            "Requirement already satisfied: numpy>=1.20 in /usr/local/lib/python3.10/dist-packages (from tensorflow==2.11.0) (1.25.2)\n",
            "Requirement already satisfied: opt-einsum>=2.3.2 in /usr/local/lib/python3.10/dist-packages (from tensorflow==2.11.0) (3.3.0)\n",
            "Requirement already satisfied: packaging in /usr/local/lib/python3.10/dist-packages (from tensorflow==2.11.0) (24.0)\n",
            "Collecting protobuf<3.20,>=3.9.2 (from tensorflow==2.11.0)\n",
            "  Downloading protobuf-3.19.6-cp310-cp310-manylinux_2_17_x86_64.manylinux2014_x86_64.whl (1.1 MB)\n",
            "\u001b[2K     \u001b[90m━━━━━━━━━━━━━━━━━━━━━━━━━━━━━━━━━━━━━━━━\u001b[0m \u001b[32m1.1/1.1 MB\u001b[0m \u001b[31m18.0 MB/s\u001b[0m eta \u001b[36m0:00:00\u001b[0m\n",
            "\u001b[?25hRequirement already satisfied: setuptools in /usr/local/lib/python3.10/dist-packages (from tensorflow==2.11.0) (67.7.2)\n",
            "Requirement already satisfied: six>=1.12.0 in /usr/local/lib/python3.10/dist-packages (from tensorflow==2.11.0) (1.16.0)\n",
            "Collecting tensorboard<2.12,>=2.11 (from tensorflow==2.11.0)\n",
            "  Downloading tensorboard-2.11.2-py3-none-any.whl (6.0 MB)\n",
            "\u001b[2K     \u001b[90m━━━━━━━━━━━━━━━━━━━━━━━━━━━━━━━━━━━━━━━━\u001b[0m \u001b[32m6.0/6.0 MB\u001b[0m \u001b[31m17.4 MB/s\u001b[0m eta \u001b[36m0:00:00\u001b[0m\n",
            "\u001b[?25hCollecting tensorflow-estimator<2.12,>=2.11.0 (from tensorflow==2.11.0)\n",
            "  Downloading tensorflow_estimator-2.11.0-py2.py3-none-any.whl (439 kB)\n",
            "\u001b[2K     \u001b[90m━━━━━━━━━━━━━━━━━━━━━━━━━━━━━━━━━━━━━━━━\u001b[0m \u001b[32m439.2/439.2 kB\u001b[0m \u001b[31m24.7 MB/s\u001b[0m eta \u001b[36m0:00:00\u001b[0m\n",
            "\u001b[?25hRequirement already satisfied: termcolor>=1.1.0 in /usr/local/lib/python3.10/dist-packages (from tensorflow==2.11.0) (2.4.0)\n",
            "Requirement already satisfied: typing-extensions>=3.6.6 in /usr/local/lib/python3.10/dist-packages (from tensorflow==2.11.0) (4.10.0)\n",
            "Requirement already satisfied: wrapt>=1.11.0 in /usr/local/lib/python3.10/dist-packages (from tensorflow==2.11.0) (1.14.1)\n",
            "Requirement already satisfied: tensorflow-io-gcs-filesystem>=0.23.1 in /usr/local/lib/python3.10/dist-packages (from tensorflow==2.11.0) (0.36.0)\n",
            "Requirement already satisfied: wheel<1.0,>=0.23.0 in /usr/local/lib/python3.10/dist-packages (from astunparse>=1.6.0->tensorflow==2.11.0) (0.43.0)\n",
            "Requirement already satisfied: google-auth<3,>=1.6.3 in /usr/local/lib/python3.10/dist-packages (from tensorboard<2.12,>=2.11->tensorflow==2.11.0) (2.27.0)\n",
            "Collecting google-auth-oauthlib<0.5,>=0.4.1 (from tensorboard<2.12,>=2.11->tensorflow==2.11.0)\n",
            "  Downloading google_auth_oauthlib-0.4.6-py2.py3-none-any.whl (18 kB)\n",
            "Requirement already satisfied: markdown>=2.6.8 in /usr/local/lib/python3.10/dist-packages (from tensorboard<2.12,>=2.11->tensorflow==2.11.0) (3.6)\n",
            "Requirement already satisfied: requests<3,>=2.21.0 in /usr/local/lib/python3.10/dist-packages (from tensorboard<2.12,>=2.11->tensorflow==2.11.0) (2.31.0)\n",
            "Collecting tensorboard-data-server<0.7.0,>=0.6.0 (from tensorboard<2.12,>=2.11->tensorflow==2.11.0)\n",
            "  Downloading tensorboard_data_server-0.6.1-py3-none-manylinux2010_x86_64.whl (4.9 MB)\n",
            "\u001b[2K     \u001b[90m━━━━━━━━━━━━━━━━━━━━━━━━━━━━━━━━━━━━━━━━\u001b[0m \u001b[32m4.9/4.9 MB\u001b[0m \u001b[31m31.6 MB/s\u001b[0m eta \u001b[36m0:00:00\u001b[0m\n",
            "\u001b[?25hCollecting tensorboard-plugin-wit>=1.6.0 (from tensorboard<2.12,>=2.11->tensorflow==2.11.0)\n",
            "  Downloading tensorboard_plugin_wit-1.8.1-py3-none-any.whl (781 kB)\n",
            "\u001b[2K     \u001b[90m━━━━━━━━━━━━━━━━━━━━━━━━━━━━━━━━━━━━━━━━\u001b[0m \u001b[32m781.3/781.3 kB\u001b[0m \u001b[31m50.8 MB/s\u001b[0m eta \u001b[36m0:00:00\u001b[0m\n",
            "\u001b[?25hRequirement already satisfied: werkzeug>=1.0.1 in /usr/local/lib/python3.10/dist-packages (from tensorboard<2.12,>=2.11->tensorflow==2.11.0) (3.0.1)\n",
            "Requirement already satisfied: cachetools<6.0,>=2.0.0 in /usr/local/lib/python3.10/dist-packages (from google-auth<3,>=1.6.3->tensorboard<2.12,>=2.11->tensorflow==2.11.0) (5.3.3)\n",
            "Requirement already satisfied: pyasn1-modules>=0.2.1 in /usr/local/lib/python3.10/dist-packages (from google-auth<3,>=1.6.3->tensorboard<2.12,>=2.11->tensorflow==2.11.0) (0.3.0)\n",
            "Requirement already satisfied: rsa<5,>=3.1.4 in /usr/local/lib/python3.10/dist-packages (from google-auth<3,>=1.6.3->tensorboard<2.12,>=2.11->tensorflow==2.11.0) (4.9)\n",
            "Requirement already satisfied: requests-oauthlib>=0.7.0 in /usr/local/lib/python3.10/dist-packages (from google-auth-oauthlib<0.5,>=0.4.1->tensorboard<2.12,>=2.11->tensorflow==2.11.0) (1.4.0)\n",
            "Requirement already satisfied: charset-normalizer<4,>=2 in /usr/local/lib/python3.10/dist-packages (from requests<3,>=2.21.0->tensorboard<2.12,>=2.11->tensorflow==2.11.0) (3.3.2)\n",
            "Requirement already satisfied: idna<4,>=2.5 in /usr/local/lib/python3.10/dist-packages (from requests<3,>=2.21.0->tensorboard<2.12,>=2.11->tensorflow==2.11.0) (3.6)\n",
            "Requirement already satisfied: urllib3<3,>=1.21.1 in /usr/local/lib/python3.10/dist-packages (from requests<3,>=2.21.0->tensorboard<2.12,>=2.11->tensorflow==2.11.0) (2.0.7)\n",
            "Requirement already satisfied: certifi>=2017.4.17 in /usr/local/lib/python3.10/dist-packages (from requests<3,>=2.21.0->tensorboard<2.12,>=2.11->tensorflow==2.11.0) (2024.2.2)\n",
            "Requirement already satisfied: MarkupSafe>=2.1.1 in /usr/local/lib/python3.10/dist-packages (from werkzeug>=1.0.1->tensorboard<2.12,>=2.11->tensorflow==2.11.0) (2.1.5)\n",
            "Requirement already satisfied: pyasn1<0.6.0,>=0.4.6 in /usr/local/lib/python3.10/dist-packages (from pyasn1-modules>=0.2.1->google-auth<3,>=1.6.3->tensorboard<2.12,>=2.11->tensorflow==2.11.0) (0.5.1)\n",
            "Requirement already satisfied: oauthlib>=3.0.0 in /usr/local/lib/python3.10/dist-packages (from requests-oauthlib>=0.7.0->google-auth-oauthlib<0.5,>=0.4.1->tensorboard<2.12,>=2.11->tensorflow==2.11.0) (3.2.2)\n",
            "Installing collected packages: tensorboard-plugin-wit, tensorflow-estimator, tensorboard-data-server, protobuf, keras, gast, google-auth-oauthlib, tensorboard, tensorflow\n",
            "  Attempting uninstall: tensorflow-estimator\n",
            "    Found existing installation: tensorflow-estimator 2.15.0\n",
            "    Uninstalling tensorflow-estimator-2.15.0:\n",
            "      Successfully uninstalled tensorflow-estimator-2.15.0\n",
            "  Attempting uninstall: tensorboard-data-server\n",
            "    Found existing installation: tensorboard-data-server 0.7.2\n",
            "    Uninstalling tensorboard-data-server-0.7.2:\n",
            "      Successfully uninstalled tensorboard-data-server-0.7.2\n",
            "  Attempting uninstall: protobuf\n",
            "    Found existing installation: protobuf 3.20.3\n",
            "    Uninstalling protobuf-3.20.3:\n",
            "      Successfully uninstalled protobuf-3.20.3\n",
            "  Attempting uninstall: keras\n",
            "    Found existing installation: keras 2.15.0\n",
            "    Uninstalling keras-2.15.0:\n",
            "      Successfully uninstalled keras-2.15.0\n",
            "  Attempting uninstall: gast\n",
            "    Found existing installation: gast 0.5.4\n",
            "    Uninstalling gast-0.5.4:\n",
            "      Successfully uninstalled gast-0.5.4\n",
            "  Attempting uninstall: google-auth-oauthlib\n",
            "    Found existing installation: google-auth-oauthlib 1.2.0\n",
            "    Uninstalling google-auth-oauthlib-1.2.0:\n",
            "      Successfully uninstalled google-auth-oauthlib-1.2.0\n",
            "  Attempting uninstall: tensorboard\n",
            "    Found existing installation: tensorboard 2.15.2\n",
            "    Uninstalling tensorboard-2.15.2:\n",
            "      Successfully uninstalled tensorboard-2.15.2\n",
            "  Attempting uninstall: tensorflow\n",
            "    Found existing installation: tensorflow 2.15.0\n",
            "    Uninstalling tensorflow-2.15.0:\n",
            "      Successfully uninstalled tensorflow-2.15.0\n",
            "\u001b[31mERROR: pip's dependency resolver does not currently take into account all the packages that are installed. This behaviour is the source of the following dependency conflicts.\n",
            "pandas-gbq 0.19.2 requires google-auth-oauthlib>=0.7.0, but you have google-auth-oauthlib 0.4.6 which is incompatible.\n",
            "tensorflow-datasets 4.9.4 requires protobuf>=3.20, but you have protobuf 3.19.6 which is incompatible.\n",
            "tensorflow-metadata 1.14.0 requires protobuf<4.21,>=3.20.3, but you have protobuf 3.19.6 which is incompatible.\n",
            "tf-keras 2.15.1 requires tensorflow<2.16,>=2.15, but you have tensorflow 2.11.0 which is incompatible.\u001b[0m\u001b[31m\n",
            "\u001b[0mSuccessfully installed gast-0.4.0 google-auth-oauthlib-0.4.6 keras-2.11.0 protobuf-3.19.6 tensorboard-2.11.2 tensorboard-data-server-0.6.1 tensorboard-plugin-wit-1.8.1 tensorflow-2.11.0 tensorflow-estimator-2.11.0\n"
          ]
        },
        {
          "output_type": "display_data",
          "data": {
            "application/vnd.colab-display-data+json": {
              "pip_warning": {
                "packages": [
                  "gast",
                  "google",
                  "keras",
                  "tensorboard",
                  "tensorflow"
                ]
              },
              "id": "acbf2e21de1e4c84850be2fd2cbafe9f"
            }
          },
          "metadata": {}
        },
        {
          "output_type": "error",
          "ename": "ImportError",
          "evalue": "cannot import name 'dtensor_api' from 'keras.dtensor' (/usr/local/lib/python3.10/dist-packages/keras/dtensor/__init__.py)",
          "traceback": [
            "\u001b[0;31m---------------------------------------------------------------------------\u001b[0m",
            "\u001b[0;31mImportError\u001b[0m                               Traceback (most recent call last)",
            "\u001b[0;32m<ipython-input-40-8bb580ff69d9>\u001b[0m in \u001b[0;36m<cell line: 3>\u001b[0;34m()\u001b[0m\n\u001b[1;32m      1\u001b[0m \u001b[0mget_ipython\u001b[0m\u001b[0;34m(\u001b[0m\u001b[0;34m)\u001b[0m\u001b[0;34m.\u001b[0m\u001b[0msystem\u001b[0m\u001b[0;34m(\u001b[0m\u001b[0;34m'pip install tensorflow==2.11.0'\u001b[0m\u001b[0;34m)\u001b[0m\u001b[0;34m\u001b[0m\u001b[0;34m\u001b[0m\u001b[0m\n\u001b[1;32m      2\u001b[0m \u001b[0;32mimport\u001b[0m \u001b[0mtensorflow\u001b[0m \u001b[0;32mas\u001b[0m \u001b[0mtf\u001b[0m\u001b[0;34m\u001b[0m\u001b[0;34m\u001b[0m\u001b[0m\n\u001b[0;32m----> 3\u001b[0;31m \u001b[0;32mfrom\u001b[0m \u001b[0mtensorflow\u001b[0m\u001b[0;34m.\u001b[0m\u001b[0mcompat\u001b[0m\u001b[0;34m.\u001b[0m\u001b[0mv1\u001b[0m\u001b[0;34m.\u001b[0m\u001b[0mkeras\u001b[0m\u001b[0;34m.\u001b[0m\u001b[0mmodels\u001b[0m \u001b[0;32mimport\u001b[0m \u001b[0mSequential\u001b[0m\u001b[0;34m\u001b[0m\u001b[0;34m\u001b[0m\u001b[0m\n\u001b[0m\u001b[1;32m      4\u001b[0m \u001b[0;32mfrom\u001b[0m \u001b[0mtensorflow\u001b[0m\u001b[0;34m.\u001b[0m\u001b[0mcompat\u001b[0m\u001b[0;34m.\u001b[0m\u001b[0mv1\u001b[0m\u001b[0;34m.\u001b[0m\u001b[0mkeras\u001b[0m\u001b[0;34m.\u001b[0m\u001b[0mlayers\u001b[0m \u001b[0;32mimport\u001b[0m \u001b[0mDense\u001b[0m\u001b[0;34m\u001b[0m\u001b[0;34m\u001b[0m\u001b[0m\n\u001b[1;32m      5\u001b[0m \u001b[0;32mfrom\u001b[0m \u001b[0mtensorflow\u001b[0m\u001b[0;34m.\u001b[0m\u001b[0mcompat\u001b[0m\u001b[0;34m.\u001b[0m\u001b[0mv1\u001b[0m\u001b[0;34m.\u001b[0m\u001b[0mkeras\u001b[0m\u001b[0;34m.\u001b[0m\u001b[0moptimizers\u001b[0m \u001b[0;32mimport\u001b[0m \u001b[0mAdam\u001b[0m\u001b[0;34m\u001b[0m\u001b[0;34m\u001b[0m\u001b[0m\n",
            "\u001b[0;32m/usr/local/lib/python3.10/dist-packages/keras/api/_v1/keras/__init__.py\u001b[0m in \u001b[0;36m<module>\u001b[0;34m\u001b[0m\n\u001b[1;32m     11\u001b[0m \u001b[0;34m\u001b[0m\u001b[0m\n\u001b[1;32m     12\u001b[0m \u001b[0;32mfrom\u001b[0m \u001b[0mkeras\u001b[0m \u001b[0;32mimport\u001b[0m \u001b[0m__version__\u001b[0m\u001b[0;34m\u001b[0m\u001b[0;34m\u001b[0m\u001b[0m\n\u001b[0;32m---> 13\u001b[0;31m \u001b[0;32mfrom\u001b[0m \u001b[0mkeras\u001b[0m\u001b[0;34m.\u001b[0m\u001b[0mapi\u001b[0m\u001b[0;34m.\u001b[0m\u001b[0m_v1\u001b[0m\u001b[0;34m.\u001b[0m\u001b[0mkeras\u001b[0m \u001b[0;32mimport\u001b[0m \u001b[0m__internal__\u001b[0m\u001b[0;34m\u001b[0m\u001b[0;34m\u001b[0m\u001b[0m\n\u001b[0m\u001b[1;32m     14\u001b[0m \u001b[0;32mfrom\u001b[0m \u001b[0mkeras\u001b[0m\u001b[0;34m.\u001b[0m\u001b[0mapi\u001b[0m\u001b[0;34m.\u001b[0m\u001b[0m_v1\u001b[0m\u001b[0;34m.\u001b[0m\u001b[0mkeras\u001b[0m \u001b[0;32mimport\u001b[0m \u001b[0mactivations\u001b[0m\u001b[0;34m\u001b[0m\u001b[0;34m\u001b[0m\u001b[0m\n\u001b[1;32m     15\u001b[0m \u001b[0;32mfrom\u001b[0m \u001b[0mkeras\u001b[0m\u001b[0;34m.\u001b[0m\u001b[0mapi\u001b[0m\u001b[0;34m.\u001b[0m\u001b[0m_v1\u001b[0m\u001b[0;34m.\u001b[0m\u001b[0mkeras\u001b[0m \u001b[0;32mimport\u001b[0m \u001b[0mapplications\u001b[0m\u001b[0;34m\u001b[0m\u001b[0;34m\u001b[0m\u001b[0m\n",
            "\u001b[0;32m/usr/local/lib/python3.10/dist-packages/keras/api/_v1/__init__.py\u001b[0m in \u001b[0;36m<module>\u001b[0;34m\u001b[0m\n\u001b[1;32m      6\u001b[0m \u001b[0;32mimport\u001b[0m \u001b[0msys\u001b[0m \u001b[0;32mas\u001b[0m \u001b[0m_sys\u001b[0m\u001b[0;34m\u001b[0m\u001b[0;34m\u001b[0m\u001b[0m\n\u001b[1;32m      7\u001b[0m \u001b[0;34m\u001b[0m\u001b[0m\n\u001b[0;32m----> 8\u001b[0;31m \u001b[0;32mfrom\u001b[0m \u001b[0mkeras\u001b[0m\u001b[0;34m.\u001b[0m\u001b[0mapi\u001b[0m\u001b[0;34m.\u001b[0m\u001b[0m_v1\u001b[0m \u001b[0;32mimport\u001b[0m \u001b[0mkeras\u001b[0m\u001b[0;34m\u001b[0m\u001b[0;34m\u001b[0m\u001b[0m\n\u001b[0m\u001b[1;32m      9\u001b[0m \u001b[0;32mfrom\u001b[0m \u001b[0mtensorflow\u001b[0m\u001b[0;34m.\u001b[0m\u001b[0mpython\u001b[0m\u001b[0;34m.\u001b[0m\u001b[0mutil\u001b[0m \u001b[0;32mimport\u001b[0m \u001b[0mmodule_wrapper\u001b[0m \u001b[0;32mas\u001b[0m \u001b[0m_module_wrapper\u001b[0m\u001b[0;34m\u001b[0m\u001b[0;34m\u001b[0m\u001b[0m\n\u001b[1;32m     10\u001b[0m \u001b[0;34m\u001b[0m\u001b[0m\n",
            "\u001b[0;32m/usr/local/lib/python3.10/dist-packages/keras/api/_v1/keras/__init__.py\u001b[0m in \u001b[0;36m<module>\u001b[0;34m\u001b[0m\n\u001b[1;32m     11\u001b[0m \u001b[0;34m\u001b[0m\u001b[0m\n\u001b[1;32m     12\u001b[0m \u001b[0;32mfrom\u001b[0m \u001b[0mkeras\u001b[0m \u001b[0;32mimport\u001b[0m \u001b[0m__version__\u001b[0m\u001b[0;34m\u001b[0m\u001b[0;34m\u001b[0m\u001b[0m\n\u001b[0;32m---> 13\u001b[0;31m \u001b[0;32mfrom\u001b[0m \u001b[0mkeras\u001b[0m\u001b[0;34m.\u001b[0m\u001b[0mapi\u001b[0m\u001b[0;34m.\u001b[0m\u001b[0m_v1\u001b[0m\u001b[0;34m.\u001b[0m\u001b[0mkeras\u001b[0m \u001b[0;32mimport\u001b[0m \u001b[0m__internal__\u001b[0m\u001b[0;34m\u001b[0m\u001b[0;34m\u001b[0m\u001b[0m\n\u001b[0m\u001b[1;32m     14\u001b[0m \u001b[0;32mfrom\u001b[0m \u001b[0mkeras\u001b[0m\u001b[0;34m.\u001b[0m\u001b[0mapi\u001b[0m\u001b[0;34m.\u001b[0m\u001b[0m_v1\u001b[0m\u001b[0;34m.\u001b[0m\u001b[0mkeras\u001b[0m \u001b[0;32mimport\u001b[0m \u001b[0mactivations\u001b[0m\u001b[0;34m\u001b[0m\u001b[0;34m\u001b[0m\u001b[0m\n\u001b[1;32m     15\u001b[0m \u001b[0;32mfrom\u001b[0m \u001b[0mkeras\u001b[0m\u001b[0;34m.\u001b[0m\u001b[0mapi\u001b[0m\u001b[0;34m.\u001b[0m\u001b[0m_v1\u001b[0m\u001b[0;34m.\u001b[0m\u001b[0mkeras\u001b[0m \u001b[0;32mimport\u001b[0m \u001b[0mapplications\u001b[0m\u001b[0;34m\u001b[0m\u001b[0;34m\u001b[0m\u001b[0m\n",
            "\u001b[0;32m/usr/local/lib/python3.10/dist-packages/keras/api/_v1/keras/__internal__/__init__.py\u001b[0m in \u001b[0;36m<module>\u001b[0;34m\u001b[0m\n\u001b[1;32m      6\u001b[0m \u001b[0;32mimport\u001b[0m \u001b[0msys\u001b[0m \u001b[0;32mas\u001b[0m \u001b[0m_sys\u001b[0m\u001b[0;34m\u001b[0m\u001b[0;34m\u001b[0m\u001b[0m\n\u001b[1;32m      7\u001b[0m \u001b[0;34m\u001b[0m\u001b[0m\n\u001b[0;32m----> 8\u001b[0;31m \u001b[0;32mfrom\u001b[0m \u001b[0mkeras\u001b[0m\u001b[0;34m.\u001b[0m\u001b[0mapi\u001b[0m\u001b[0;34m.\u001b[0m\u001b[0m_v1\u001b[0m\u001b[0;34m.\u001b[0m\u001b[0mkeras\u001b[0m\u001b[0;34m.\u001b[0m\u001b[0m__internal__\u001b[0m \u001b[0;32mimport\u001b[0m \u001b[0mlayers\u001b[0m\u001b[0;34m\u001b[0m\u001b[0;34m\u001b[0m\u001b[0m\n\u001b[0m\u001b[1;32m      9\u001b[0m \u001b[0;32mfrom\u001b[0m \u001b[0mkeras\u001b[0m\u001b[0;34m.\u001b[0m\u001b[0mapi\u001b[0m\u001b[0;34m.\u001b[0m\u001b[0m_v1\u001b[0m\u001b[0;34m.\u001b[0m\u001b[0mkeras\u001b[0m\u001b[0;34m.\u001b[0m\u001b[0m__internal__\u001b[0m \u001b[0;32mimport\u001b[0m \u001b[0mlegacy\u001b[0m\u001b[0;34m\u001b[0m\u001b[0;34m\u001b[0m\u001b[0m\n\u001b[1;32m     10\u001b[0m \u001b[0;32mfrom\u001b[0m \u001b[0mtensorflow\u001b[0m\u001b[0;34m.\u001b[0m\u001b[0mpython\u001b[0m\u001b[0;34m.\u001b[0m\u001b[0mutil\u001b[0m \u001b[0;32mimport\u001b[0m \u001b[0mmodule_wrapper\u001b[0m \u001b[0;32mas\u001b[0m \u001b[0m_module_wrapper\u001b[0m\u001b[0;34m\u001b[0m\u001b[0;34m\u001b[0m\u001b[0m\n",
            "\u001b[0;32m/usr/local/lib/python3.10/dist-packages/keras/api/_v1/keras/__internal__/layers/__init__.py\u001b[0m in \u001b[0;36m<module>\u001b[0;34m\u001b[0m\n\u001b[1;32m      6\u001b[0m \u001b[0;32mimport\u001b[0m \u001b[0msys\u001b[0m \u001b[0;32mas\u001b[0m \u001b[0m_sys\u001b[0m\u001b[0;34m\u001b[0m\u001b[0;34m\u001b[0m\u001b[0m\n\u001b[1;32m      7\u001b[0m \u001b[0;34m\u001b[0m\u001b[0m\n\u001b[0;32m----> 8\u001b[0;31m \u001b[0;32mfrom\u001b[0m \u001b[0mkeras\u001b[0m\u001b[0;34m.\u001b[0m\u001b[0mengine\u001b[0m\u001b[0;34m.\u001b[0m\u001b[0mbase_layer\u001b[0m \u001b[0;32mimport\u001b[0m \u001b[0mBaseRandomLayer\u001b[0m\u001b[0;34m\u001b[0m\u001b[0;34m\u001b[0m\u001b[0m\n\u001b[0m\u001b[1;32m      9\u001b[0m \u001b[0;32mfrom\u001b[0m \u001b[0mkeras\u001b[0m\u001b[0;34m.\u001b[0m\u001b[0mlayers\u001b[0m\u001b[0;34m.\u001b[0m\u001b[0mpreprocessing\u001b[0m\u001b[0;34m.\u001b[0m\u001b[0mimage_preprocessing\u001b[0m \u001b[0;32mimport\u001b[0m \u001b[0mBaseImageAugmentationLayer\u001b[0m\u001b[0;34m\u001b[0m\u001b[0;34m\u001b[0m\u001b[0m\n\u001b[1;32m     10\u001b[0m \u001b[0;32mfrom\u001b[0m \u001b[0mtensorflow\u001b[0m\u001b[0;34m.\u001b[0m\u001b[0mpython\u001b[0m\u001b[0;34m.\u001b[0m\u001b[0mutil\u001b[0m \u001b[0;32mimport\u001b[0m \u001b[0mmodule_wrapper\u001b[0m \u001b[0;32mas\u001b[0m \u001b[0m_module_wrapper\u001b[0m\u001b[0;34m\u001b[0m\u001b[0;34m\u001b[0m\u001b[0m\n",
            "\u001b[0;32m/usr/local/lib/python3.10/dist-packages/keras/engine/base_layer.py\u001b[0m in \u001b[0;36m<module>\u001b[0;34m\u001b[0m\n\u001b[1;32m     34\u001b[0m \u001b[0;32mfrom\u001b[0m \u001b[0mkeras\u001b[0m \u001b[0;32mimport\u001b[0m \u001b[0mregularizers\u001b[0m\u001b[0;34m\u001b[0m\u001b[0;34m\u001b[0m\u001b[0m\n\u001b[1;32m     35\u001b[0m \u001b[0;32mfrom\u001b[0m \u001b[0mkeras\u001b[0m\u001b[0;34m.\u001b[0m\u001b[0mdtensor\u001b[0m \u001b[0;32mimport\u001b[0m \u001b[0mlazy_variable\u001b[0m\u001b[0;34m\u001b[0m\u001b[0;34m\u001b[0m\u001b[0m\n\u001b[0;32m---> 36\u001b[0;31m \u001b[0;32mfrom\u001b[0m \u001b[0mkeras\u001b[0m\u001b[0;34m.\u001b[0m\u001b[0mengine\u001b[0m \u001b[0;32mimport\u001b[0m \u001b[0mbase_layer_utils\u001b[0m\u001b[0;34m\u001b[0m\u001b[0;34m\u001b[0m\u001b[0m\n\u001b[0m\u001b[1;32m     37\u001b[0m \u001b[0;32mfrom\u001b[0m \u001b[0mkeras\u001b[0m\u001b[0;34m.\u001b[0m\u001b[0mengine\u001b[0m \u001b[0;32mimport\u001b[0m \u001b[0minput_spec\u001b[0m\u001b[0;34m\u001b[0m\u001b[0;34m\u001b[0m\u001b[0m\n\u001b[1;32m     38\u001b[0m \u001b[0;32mfrom\u001b[0m \u001b[0mkeras\u001b[0m\u001b[0;34m.\u001b[0m\u001b[0mengine\u001b[0m \u001b[0;32mimport\u001b[0m \u001b[0mkeras_tensor\u001b[0m\u001b[0;34m\u001b[0m\u001b[0;34m\u001b[0m\u001b[0m\n",
            "\u001b[0;32m/usr/local/lib/python3.10/dist-packages/keras/engine/base_layer_utils.py\u001b[0m in \u001b[0;36m<module>\u001b[0;34m\u001b[0m\n\u001b[1;32m     22\u001b[0m \u001b[0;34m\u001b[0m\u001b[0m\n\u001b[1;32m     23\u001b[0m \u001b[0;32mfrom\u001b[0m \u001b[0mkeras\u001b[0m \u001b[0;32mimport\u001b[0m \u001b[0mbackend\u001b[0m\u001b[0;34m\u001b[0m\u001b[0;34m\u001b[0m\u001b[0m\n\u001b[0;32m---> 24\u001b[0;31m \u001b[0;32mfrom\u001b[0m \u001b[0mkeras\u001b[0m\u001b[0;34m.\u001b[0m\u001b[0mdtensor\u001b[0m \u001b[0;32mimport\u001b[0m \u001b[0mdtensor_api\u001b[0m \u001b[0;32mas\u001b[0m \u001b[0mdtensor\u001b[0m\u001b[0;34m\u001b[0m\u001b[0;34m\u001b[0m\u001b[0m\n\u001b[0m\u001b[1;32m     25\u001b[0m \u001b[0;32mfrom\u001b[0m \u001b[0mkeras\u001b[0m\u001b[0;34m.\u001b[0m\u001b[0mutils\u001b[0m \u001b[0;32mimport\u001b[0m \u001b[0mcontrol_flow_util\u001b[0m\u001b[0;34m\u001b[0m\u001b[0;34m\u001b[0m\u001b[0m\n\u001b[1;32m     26\u001b[0m \u001b[0;32mfrom\u001b[0m \u001b[0mkeras\u001b[0m\u001b[0;34m.\u001b[0m\u001b[0mutils\u001b[0m \u001b[0;32mimport\u001b[0m \u001b[0mtf_inspect\u001b[0m\u001b[0;34m\u001b[0m\u001b[0;34m\u001b[0m\u001b[0m\n",
            "\u001b[0;31mImportError\u001b[0m: cannot import name 'dtensor_api' from 'keras.dtensor' (/usr/local/lib/python3.10/dist-packages/keras/dtensor/__init__.py)",
            "",
            "\u001b[0;31m---------------------------------------------------------------------------\u001b[0;32m\nNOTE: If your import is failing due to a missing package, you can\nmanually install dependencies using either !pip or !apt.\n\nTo view examples of installing some common dependencies, click the\n\"Open Examples\" button below.\n\u001b[0;31m---------------------------------------------------------------------------\u001b[0m\n"
          ],
          "errorDetails": {
            "actions": [
              {
                "action": "open_url",
                "actionText": "Open Examples",
                "url": "/notebooks/snippets/importing_libraries.ipynb"
              }
            ]
          }
        }
      ]
    },
    {
      "cell_type": "code",
      "source": [
        "# Define the PPO training loop\n",
        "def train_PPO():\n",
        "    # Define actor and critic models\n",
        "    actor = Sequential([\n",
        "        Dense(64, input_shape=(state_space,), activation='relu'),\n",
        "        Dense(action_space, activation='softmax')\n",
        "    ])\n",
        "\n",
        "    critic = Sequential([\n",
        "        Dense(64, input_shape=(state_space,), activation='relu'),\n",
        "        Dense(1)\n",
        "    ])\n",
        "\n",
        "    actor.compile(optimizer=Adam(learning_rate=0.001), loss='categorical_crossentropy')\n",
        "    critic.compile(optimizer=Adam(learning_rate=0.005), loss='mean_squared_error')\n",
        "\n",
        "    # Training loop\n",
        "    num_episodes = 1000\n",
        "    for episode in range(num_episodes):\n",
        "        state = get_state()\n",
        "        done = False\n",
        "        episode_states, episode_actions, episode_rewards = [], [], []\n",
        "        while not done:\n",
        "            action = np.random.choice(action_space)  # Random action selection\n",
        "            next_state, reward, done = step(action)\n",
        "            episode_states.append(state)\n",
        "            episode_actions.append(action)\n",
        "            episode_rewards.append(reward)\n",
        "            state = next_state\n",
        "\n",
        "        # Train the model using PPO\n",
        "        # Implement PPO training logic here\n",
        "\n",
        "        # Define the PPO training loop\n",
        "def train_PPO():\n",
        "    # Define actor and critic models\n",
        "    actor = Sequential([\n",
        "        Dense(64, input_shape=(state_space,), activation='relu'),\n",
        "        Dense(action_space, activation='softmax')\n",
        "    ])\n",
        "\n",
        "    critic = Sequential([\n",
        "        Dense(64, input_shape=(state_space,), activation='relu'),\n",
        "        Dense(1)\n",
        "    ])\n",
        "\n",
        "    actor.compile(optimizer=Adam(learning_rate=0.001), loss='categorical_crossentropy')\n",
        "    critic.compile(optimizer=Adam(learning_rate=0.005), loss='mean_squared_error')\n",
        "\n",
        "    # Hyperparameters\n",
        "    gamma = 0.99  # Discount factor\n",
        "    epsilon = 0.2  # Clipping parameter\n",
        "    num_epochs = 10\n",
        "\n",
        "    # Training loop\n",
        "    num_episodes = 1000\n",
        "    for episode in range(num_episodes):\n",
        "        state = get_state()\n",
        "        done = False\n",
        "        episode_states, episode_actions, episode_rewards = [], [], []\n",
        "\n",
        "        while not done:\n",
        "            action_prob = actor.predict(np.array([state]))[0]\n",
        "            action_dist = distributions.Categorical(probs=action_prob)\n",
        "            action = action_dist.sample()\n",
        "\n",
        "            next_state, reward, done = step(action)\n",
        "\n",
        "            episode_states.append(state)\n",
        "            episode_actions.append(action)\n",
        "            episode_rewards.append(reward)\n",
        "\n",
        "            state = next_state\n",
        "\n",
        "        # Compute advantages\n",
        "        discounted_rewards = []\n",
        "        advantage_values = []\n",
        "        advantage_sum = 0\n",
        "\n",
        "        for t in range(len(episode_rewards)):\n",
        "            Gt = 0\n",
        "            pw = 0\n",
        "\n",
        "            for r in episode_rewards[t:]:\n",
        "                Gt += r * (gamma ** pw)\n",
        "                pw += 1\n",
        "\n",
        "            discounted_rewards.append(Gt)\n",
        "\n",
        "        discounted_rewards -= np.mean(discounted_rewards)\n",
        "        discounted_rewards /= np.std(discounted_rewards)\n",
        "\n",
        "        for t in range(len(episode_states)):\n",
        "            state_value = critic.predict(np.array([episode_states[t]]))[0][0]\n",
        "            next_state_value = critic.predict(np.array([episode_states[t+1]]))[0][0] if t < len(episode_states) - 1 else 0\n",
        "\n",
        "            td_target = episode_rewards[t] + gamma * next_state_value\n",
        "            advantage_values.append(td_target - state_value)\n",
        "\n",
        "        # Update actor and critic models using PPO\n",
        "        for _ in range(num_epochs):\n",
        "            with tf.GradientTape() as tape:\n",
        "                action_prob = actor(np.array(episode_states))\n",
        "                action_dist = distributions.Categorical(probs=action_prob)\n",
        "                log_probs = action_dist.log_prob(episode_actions)\n",
        "\n",
        "                ratios = tf.exp(log_probs - old_log_probs)\n",
        "\n",
        "                actor_loss = -tf.reduce_mean(tf.minimum(ratios * advantage_values,\n",
        "                                                        tf.clip_by_value(ratios, 1-epsilon, 1+epsilon) * advantage_values))\n",
        "\n",
        "                critic_loss = tf.reduce_mean(tf.square(discounted_rewards - critic(np.array(episode_states))))\n",
        "\n",
        "                total_loss = actor_loss + critic_loss\n",
        "\n",
        "            actor_gradients = tape.gradient(total_loss, actor.trainable_variables)\n",
        "            critic_gradients = tape.gradient(total_loss, critic.trainable_variables)\n",
        "\n",
        "            actor.optimizer.apply_gradients(zip(actor_gradients, actor.trainable_variables))\n",
        "            critic.optimizer.apply_gradients(zip(critic_gradients, critic.trainable_variables))"
      ],
      "metadata": {
        "id": "e8OtiJ_csihF"
      },
      "execution_count": null,
      "outputs": []
    },
    {
      "cell_type": "code",
      "source": [
        "# Main function to run the training\n",
        "if __name__ == \"__main__\":\n",
        "    # Preprocess the environment data\n",
        "    environment_data = np.array([[1, 5, 10], [2, 6, 20], [3, 7, 30]])\n",
        "    preprocessed_data = preprocess_environment_data(environment_data)\n",
        "\n",
        "    # Train the model using PPO\n",
        "    train_PPO()"
      ],
      "metadata": {
        "colab": {
          "base_uri": "https://localhost:8080/",
          "height": 311
        },
        "id": "EwfQIVnVylRl",
        "outputId": "1c2138fe-e1db-4ab6-dabf-250ae8673167"
      },
      "execution_count": null,
      "outputs": [
        {
          "output_type": "error",
          "ename": "NameError",
          "evalue": "name 'Sequential' is not defined",
          "traceback": [
            "\u001b[0;31m---------------------------------------------------------------------------\u001b[0m",
            "\u001b[0;31mNameError\u001b[0m                                 Traceback (most recent call last)",
            "\u001b[0;32m<ipython-input-38-7397dfeb92a7>\u001b[0m in \u001b[0;36m<cell line: 2>\u001b[0;34m()\u001b[0m\n\u001b[1;32m      6\u001b[0m \u001b[0;34m\u001b[0m\u001b[0m\n\u001b[1;32m      7\u001b[0m     \u001b[0;31m# Train the model using PPO\u001b[0m\u001b[0;34m\u001b[0m\u001b[0;34m\u001b[0m\u001b[0m\n\u001b[0;32m----> 8\u001b[0;31m     \u001b[0mtrain_PPO\u001b[0m\u001b[0;34m(\u001b[0m\u001b[0;34m)\u001b[0m\u001b[0;34m\u001b[0m\u001b[0;34m\u001b[0m\u001b[0m\n\u001b[0m",
            "\u001b[0;32m<ipython-input-37-5c8b7fa060ef>\u001b[0m in \u001b[0;36mtrain_PPO\u001b[0;34m()\u001b[0m\n\u001b[1;32m     35\u001b[0m \u001b[0;32mdef\u001b[0m \u001b[0mtrain_PPO\u001b[0m\u001b[0;34m(\u001b[0m\u001b[0;34m)\u001b[0m\u001b[0;34m:\u001b[0m\u001b[0;34m\u001b[0m\u001b[0;34m\u001b[0m\u001b[0m\n\u001b[1;32m     36\u001b[0m     \u001b[0;31m# Define actor and critic models\u001b[0m\u001b[0;34m\u001b[0m\u001b[0;34m\u001b[0m\u001b[0m\n\u001b[0;32m---> 37\u001b[0;31m     actor = Sequential([\n\u001b[0m\u001b[1;32m     38\u001b[0m         \u001b[0mDense\u001b[0m\u001b[0;34m(\u001b[0m\u001b[0;36m64\u001b[0m\u001b[0;34m,\u001b[0m \u001b[0minput_shape\u001b[0m\u001b[0;34m=\u001b[0m\u001b[0;34m(\u001b[0m\u001b[0mstate_space\u001b[0m\u001b[0;34m,\u001b[0m\u001b[0;34m)\u001b[0m\u001b[0;34m,\u001b[0m \u001b[0mactivation\u001b[0m\u001b[0;34m=\u001b[0m\u001b[0;34m'relu'\u001b[0m\u001b[0;34m)\u001b[0m\u001b[0;34m,\u001b[0m\u001b[0;34m\u001b[0m\u001b[0;34m\u001b[0m\u001b[0m\n\u001b[1;32m     39\u001b[0m         \u001b[0mDense\u001b[0m\u001b[0;34m(\u001b[0m\u001b[0maction_space\u001b[0m\u001b[0;34m,\u001b[0m \u001b[0mactivation\u001b[0m\u001b[0;34m=\u001b[0m\u001b[0;34m'softmax'\u001b[0m\u001b[0;34m)\u001b[0m\u001b[0;34m\u001b[0m\u001b[0;34m\u001b[0m\u001b[0m\n",
            "\u001b[0;31mNameError\u001b[0m: name 'Sequential' is not defined"
          ]
        }
      ]
    },
    {
      "cell_type": "code",
      "source": [],
      "metadata": {
        "id": "cAVTDVBpyomy"
      },
      "execution_count": null,
      "outputs": []
    },
    {
      "cell_type": "markdown",
      "source": [
        "##Conclusion:\n",
        "The code establishes a Mario game environment for reinforcement learning. It defines actions, initializes the game world, preprocesses data, and trains a PPO model. This structured approach sets the foundation for enhancing Mario's decision-making in the game."
      ],
      "metadata": {
        "id": "k4j-7Nh3syh3"
      }
    }
  ]
}